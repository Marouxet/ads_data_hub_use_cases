{
 "cells": [
  {
   "cell_type": "markdown",
   "id": "fa14f1b2",
   "metadata": {},
   "source": [
    "### Installing Requirements"
   ]
  },
  {
   "cell_type": "code",
   "execution_count": 1,
   "id": "8a1be119",
   "metadata": {},
   "outputs": [],
   "source": [
    "from  google.cloud import bigquery\n",
    "import pandas as pd\n",
    "import plotly.graph_objects as go\n",
    "import numpy as np\n",
    "from plotly.subplots import make_subplots"
   ]
  },
  {
   "cell_type": "markdown",
   "id": "443096c0",
   "metadata": {},
   "source": [
    "# Reach & Frequency Analysis"
   ]
  },
  {
   "cell_type": "code",
   "execution_count": 2,
   "id": "e0b7eaf6",
   "metadata": {},
   "outputs": [
    {
     "name": "stderr",
     "output_type": "stream",
     "text": [
      "/Users/marianoarouxet/Desktop/projects/adh_norton/env/lib/python3.7/site-packages/google/auth/_default.py:79: UserWarning: Your application has authenticated using end user credentials from Google Cloud SDK without a quota project. You might receive a \"quota exceeded\" or \"API not enabled\" error. We recommend you rerun `gcloud auth application-default login` and make sure a quota project is added. Or you can use service accounts instead. For more information about service accounts, see https://cloud.google.com/docs/authentication/\n",
      "  warnings.warn(_CLOUD_SDK_CREDENTIALS_WARNING)\n"
     ]
    }
   ],
   "source": [
    "client = bigquery.Client(project='mightyhive-data-science-poc')"
   ]
  },
  {
   "cell_type": "markdown",
   "id": "6c330d6a",
   "metadata": {},
   "source": [
    "### Load data from bigquery"
   ]
  },
  {
   "cell_type": "code",
   "execution_count": 3,
   "id": "5ee3b1a1",
   "metadata": {},
   "outputs": [
    {
     "data": {
      "text/html": [
       "<div>\n",
       "<style scoped>\n",
       "    .dataframe tbody tr th:only-of-type {\n",
       "        vertical-align: middle;\n",
       "    }\n",
       "\n",
       "    .dataframe tbody tr th {\n",
       "        vertical-align: top;\n",
       "    }\n",
       "\n",
       "    .dataframe thead th {\n",
       "        text-align: right;\n",
       "    }\n",
       "</style>\n",
       "<table border=\"1\" class=\"dataframe\">\n",
       "  <thead>\n",
       "    <tr style=\"text-align: right;\">\n",
       "      <th></th>\n",
       "      <th>advertiser_id</th>\n",
       "      <th>campaign_id</th>\n",
       "      <th>frequency</th>\n",
       "      <th>reach</th>\n",
       "      <th>total_impressions</th>\n",
       "      <th>total_clicks</th>\n",
       "      <th>total_conversions</th>\n",
       "      <th>total_revenue</th>\n",
       "      <th>total_cost</th>\n",
       "    </tr>\n",
       "  </thead>\n",
       "  <tbody>\n",
       "    <tr>\n",
       "      <th>1</th>\n",
       "      <td>4696533</td>\n",
       "      <td>4446501</td>\n",
       "      <td>1</td>\n",
       "      <td>35356</td>\n",
       "      <td>35356</td>\n",
       "      <td>254</td>\n",
       "      <td>74</td>\n",
       "      <td>11234.27</td>\n",
       "      <td>779.76</td>\n",
       "    </tr>\n",
       "    <tr>\n",
       "      <th>2</th>\n",
       "      <td>4696533</td>\n",
       "      <td>4446501</td>\n",
       "      <td>2</td>\n",
       "      <td>29798</td>\n",
       "      <td>59596</td>\n",
       "      <td>287</td>\n",
       "      <td>94</td>\n",
       "      <td>12894.71</td>\n",
       "      <td>1155.37</td>\n",
       "    </tr>\n",
       "    <tr>\n",
       "      <th>3</th>\n",
       "      <td>4696533</td>\n",
       "      <td>4446501</td>\n",
       "      <td>3</td>\n",
       "      <td>19779</td>\n",
       "      <td>59337</td>\n",
       "      <td>266</td>\n",
       "      <td>57</td>\n",
       "      <td>7959.73</td>\n",
       "      <td>1230.84</td>\n",
       "    </tr>\n",
       "    <tr>\n",
       "      <th>4</th>\n",
       "      <td>4696533</td>\n",
       "      <td>4446501</td>\n",
       "      <td>4</td>\n",
       "      <td>19360</td>\n",
       "      <td>77440</td>\n",
       "      <td>318</td>\n",
       "      <td>58</td>\n",
       "      <td>8734.49</td>\n",
       "      <td>1456.62</td>\n",
       "    </tr>\n",
       "    <tr>\n",
       "      <th>5</th>\n",
       "      <td>4696533</td>\n",
       "      <td>4446501</td>\n",
       "      <td>5</td>\n",
       "      <td>14582</td>\n",
       "      <td>72910</td>\n",
       "      <td>249</td>\n",
       "      <td>37</td>\n",
       "      <td>4688.17</td>\n",
       "      <td>1463.76</td>\n",
       "    </tr>\n",
       "  </tbody>\n",
       "</table>\n",
       "</div>"
      ],
      "text/plain": [
       "   advertiser_id  campaign_id  frequency  reach  total_impressions  \\\n",
       "1        4696533      4446501          1  35356              35356   \n",
       "2        4696533      4446501          2  29798              59596   \n",
       "3        4696533      4446501          3  19779              59337   \n",
       "4        4696533      4446501          4  19360              77440   \n",
       "5        4696533      4446501          5  14582              72910   \n",
       "\n",
       "   total_clicks  total_conversions  total_revenue  total_cost  \n",
       "1           254                 74       11234.27      779.76  \n",
       "2           287                 94       12894.71     1155.37  \n",
       "3           266                 57        7959.73     1230.84  \n",
       "4           318                 58        8734.49     1456.62  \n",
       "5           249                 37        4688.17     1463.76  "
      ]
     },
     "execution_count": 3,
     "metadata": {},
     "output_type": "execute_result"
    }
   ],
   "source": [
    "query = \"SELECT * FROM `adh-connection.adh_results.ma_freqAnalysis_DV360_LifeLock_Rem_202202_202205` LIMIT 1000\"\n",
    "df = client.query(query)\n",
    "df= df.to_dataframe()\n",
    "# Drop first row (results that have privacy issues)\n",
    "df = df[1:]\n",
    "# Cost is in a different scale\n",
    "df['total_cost'] = np.round(df['total_cost']/1000000000,2)\n",
    "df.head()"
   ]
  },
  {
   "cell_type": "markdown",
   "id": "9d22bf7c",
   "metadata": {},
   "source": [
    "### Global metrics"
   ]
  },
  {
   "cell_type": "code",
   "execution_count": 5,
   "id": "e7ebd0bd",
   "metadata": {},
   "outputs": [
    {
     "data": {
      "text/html": [
       "<div>\n",
       "<style scoped>\n",
       "    .dataframe tbody tr th:only-of-type {\n",
       "        vertical-align: middle;\n",
       "    }\n",
       "\n",
       "    .dataframe tbody tr th {\n",
       "        vertical-align: top;\n",
       "    }\n",
       "\n",
       "    .dataframe thead th {\n",
       "        text-align: right;\n",
       "    }\n",
       "</style>\n",
       "<table border=\"1\" class=\"dataframe\">\n",
       "  <thead>\n",
       "    <tr style=\"text-align: right;\">\n",
       "      <th></th>\n",
       "      <th>Reach</th>\n",
       "      <th>Impressions</th>\n",
       "      <th>Clicks</th>\n",
       "      <th>Conversions</th>\n",
       "      <th>Revenue [$]</th>\n",
       "      <th>Cost [$]</th>\n",
       "    </tr>\n",
       "  </thead>\n",
       "  <tbody>\n",
       "    <tr>\n",
       "      <th>ADH Metrics</th>\n",
       "      <td>932787</td>\n",
       "      <td>59847715</td>\n",
       "      <td>65153</td>\n",
       "      <td>1262</td>\n",
       "      <td>156309</td>\n",
       "      <td>866365</td>\n",
       "    </tr>\n",
       "  </tbody>\n",
       "</table>\n",
       "</div>"
      ],
      "text/plain": [
       "              Reach  Impressions  Clicks  Conversions  Revenue [$]  Cost [$]\n",
       "ADH Metrics  932787     59847715   65153         1262       156309    866365"
      ]
     },
     "execution_count": 5,
     "metadata": {},
     "output_type": "execute_result"
    }
   ],
   "source": [
    "# Create a DataFrame with global metrics, rename index and columns\n",
    "resume = pd.DataFrame(\n",
    "    df[['reach','total_impressions','total_clicks','total_conversions','total_revenue','total_cost']].sum().apply(int)\n",
    ").transpose().rename(index={0:'ADH Metrics'},columns={'reach':'Reach','total_impressions':'Impressions','total_clicks':'Clicks','total_conversions':'Conversions','total_revenue':'Revenue [$]','total_cost':'Cost [$]'})\n",
    "\n",
    "resume"
   ]
  },
  {
   "cell_type": "code",
   "execution_count": 6,
   "id": "d42733c9",
   "metadata": {},
   "outputs": [
    {
     "data": {
      "text/html": [
       "<div>\n",
       "<style scoped>\n",
       "    .dataframe tbody tr th:only-of-type {\n",
       "        vertical-align: middle;\n",
       "    }\n",
       "\n",
       "    .dataframe tbody tr th {\n",
       "        vertical-align: top;\n",
       "    }\n",
       "\n",
       "    .dataframe thead th {\n",
       "        text-align: right;\n",
       "    }\n",
       "</style>\n",
       "<table border=\"1\" class=\"dataframe\">\n",
       "  <thead>\n",
       "    <tr style=\"text-align: right;\">\n",
       "      <th></th>\n",
       "      <th>Impressions</th>\n",
       "      <th>Clicks</th>\n",
       "      <th>Conversions</th>\n",
       "      <th>Cost [$]</th>\n",
       "      <th>Revenue [$]</th>\n",
       "    </tr>\n",
       "  </thead>\n",
       "  <tbody>\n",
       "    <tr>\n",
       "      <th>CM Metrics</th>\n",
       "      <td>58699606</td>\n",
       "      <td>68085</td>\n",
       "      <td>1221</td>\n",
       "      <td>857080</td>\n",
       "      <td>151111</td>\n",
       "    </tr>\n",
       "  </tbody>\n",
       "</table>\n",
       "</div>"
      ],
      "text/plain": [
       "            Impressions  Clicks  Conversions  Cost [$]  Revenue [$]\n",
       "CM Metrics     58699606   68085         1221    857080       151111"
      ]
     },
     "execution_count": 6,
     "metadata": {},
     "output_type": "execute_result"
    }
   ],
   "source": [
    "# Read CM report from CSV and format it\n",
    "cm_data = pd.read_csv('CM reports/lifelock_globals.csv',skiprows=13)\n",
    "\n",
    "cm_data.rename(\n",
    "    columns={\n",
    "        'DV360 Advertiser ID':'Advertiser Id', \n",
    "        'DV360 Insertion Order ID':'Insertion Order ID', \n",
    "        'Total Conversions': 'Conversions', \n",
    "        'DV360 Cost USD':'Cost [$]', \n",
    "        'Total Revenue' : 'Revenue [$]'\n",
    "        },\n",
    "        inplace=True\n",
    ")\n",
    "cm_data.set_index('Insertion Order ID', inplace=True)\n",
    "cm_data.rename(index={'14747641':'CM Metrics'}, inplace=True)\n",
    "cm_data = pd.DataFrame(cm_data.loc['CM Metrics',['Impressions','Clicks','Conversions','Cost [$]','Revenue [$]']].apply(int)).transpose()\n",
    "cm_data"
   ]
  },
  {
   "cell_type": "code",
   "execution_count": 7,
   "id": "e1058a2c",
   "metadata": {},
   "outputs": [
    {
     "data": {
      "text/html": [
       "<div>\n",
       "<style scoped>\n",
       "    .dataframe tbody tr th:only-of-type {\n",
       "        vertical-align: middle;\n",
       "    }\n",
       "\n",
       "    .dataframe tbody tr th {\n",
       "        vertical-align: top;\n",
       "    }\n",
       "\n",
       "    .dataframe thead th {\n",
       "        text-align: right;\n",
       "    }\n",
       "</style>\n",
       "<table border=\"1\" class=\"dataframe\">\n",
       "  <thead>\n",
       "    <tr style=\"text-align: right;\">\n",
       "      <th></th>\n",
       "      <th>Reach</th>\n",
       "      <th>Impressions</th>\n",
       "      <th>Clicks</th>\n",
       "      <th>Conversions</th>\n",
       "      <th>Revenue [$]</th>\n",
       "      <th>Cost [$]</th>\n",
       "      <th>CPA [$]</th>\n",
       "      <th>CTR [%]</th>\n",
       "      <th>Conversion Rate [%]</th>\n",
       "      <th>ROAS [%]</th>\n",
       "    </tr>\n",
       "  </thead>\n",
       "  <tbody>\n",
       "    <tr>\n",
       "      <th>ADH Metrics</th>\n",
       "      <td>932787.0</td>\n",
       "      <td>59847715</td>\n",
       "      <td>65153</td>\n",
       "      <td>1262</td>\n",
       "      <td>156309</td>\n",
       "      <td>866365</td>\n",
       "      <td>686.50</td>\n",
       "      <td>0.1089</td>\n",
       "      <td>0.0021</td>\n",
       "      <td>18.04</td>\n",
       "    </tr>\n",
       "    <tr>\n",
       "      <th>CM Metrics</th>\n",
       "      <td>NaN</td>\n",
       "      <td>58699606</td>\n",
       "      <td>68085</td>\n",
       "      <td>1221</td>\n",
       "      <td>151111</td>\n",
       "      <td>857080</td>\n",
       "      <td>701.95</td>\n",
       "      <td>0.1160</td>\n",
       "      <td>0.0021</td>\n",
       "      <td>17.63</td>\n",
       "    </tr>\n",
       "  </tbody>\n",
       "</table>\n",
       "</div>"
      ],
      "text/plain": [
       "                Reach  Impressions  Clicks  Conversions  Revenue [$]  \\\n",
       "ADH Metrics  932787.0     59847715   65153         1262       156309   \n",
       "CM Metrics        NaN     58699606   68085         1221       151111   \n",
       "\n",
       "             Cost [$]  CPA [$]  CTR [%]  Conversion Rate [%]  ROAS [%]  \n",
       "ADH Metrics    866365   686.50   0.1089               0.0021     18.04  \n",
       "CM Metrics     857080   701.95   0.1160               0.0021     17.63  "
      ]
     },
     "execution_count": 7,
     "metadata": {},
     "output_type": "execute_result"
    }
   ],
   "source": [
    "# Concat both dataframes and add CPA, CR and ROAS columns \n",
    "resume = pd.concat([resume,cm_data], axis = 0)\n",
    "resume['CPA [$]'] =  np.round(resume['Cost [$]']/resume['Conversions'],2)\n",
    "resume['CTR [%]'] =  np.round(resume['Clicks']/resume['Impressions'],6) * 100\n",
    "resume['Conversion Rate [%]'] =  np.round(resume['Conversions']/resume['Impressions'],6) * 100\n",
    "resume['ROAS [%]'] =  np.round(resume['Revenue [$]']/resume['Cost [$]'],4) * 100\n",
    "resume\n"
   ]
  },
  {
   "cell_type": "markdown",
   "id": "1342ef4f",
   "metadata": {},
   "source": [
    "### Charts configuration"
   ]
  },
  {
   "cell_type": "code",
   "execution_count": 6,
   "id": "551ee2ab",
   "metadata": {},
   "outputs": [],
   "source": [
    "# Colors for plots\n",
    "c_reach = '#ff007f'\n",
    "c_impressions = '#F5A400'\n",
    "c_clicks = '#005daa'\n",
    "c_conversions = '#1CAC18'\n",
    "c_revenue = '#b15a8b'\n",
    "c_cost = '#415a6c'\n",
    "# min and max frequency\n",
    "min_f = 0\n",
    "max_f = 20"
   ]
  },
  {
   "cell_type": "markdown",
   "id": "4556682f",
   "metadata": {},
   "source": [
    "### Analysis without grouping frequency in intervals (not very useful for Lifelock REM)"
   ]
  },
  {
   "cell_type": "code",
   "execution_count": 10,
   "id": "e581c9fa",
   "metadata": {},
   "outputs": [
    {
     "data": {
      "text/html": [
       "<div>\n",
       "<style scoped>\n",
       "    .dataframe tbody tr th:only-of-type {\n",
       "        vertical-align: middle;\n",
       "    }\n",
       "\n",
       "    .dataframe tbody tr th {\n",
       "        vertical-align: top;\n",
       "    }\n",
       "\n",
       "    .dataframe thead th {\n",
       "        text-align: right;\n",
       "    }\n",
       "</style>\n",
       "<table border=\"1\" class=\"dataframe\">\n",
       "  <thead>\n",
       "    <tr style=\"text-align: right;\">\n",
       "      <th></th>\n",
       "      <th>advertiser_id</th>\n",
       "      <th>campaign_id</th>\n",
       "      <th>frequency</th>\n",
       "      <th>reach</th>\n",
       "      <th>total_impressions</th>\n",
       "      <th>total_clicks</th>\n",
       "      <th>total_conversions</th>\n",
       "      <th>total_revenue</th>\n",
       "      <th>total_cost</th>\n",
       "      <th>cumsum_reach</th>\n",
       "      <th>...</th>\n",
       "      <th>cumsum_total_clicks</th>\n",
       "      <th>cumsum_total_conversions</th>\n",
       "      <th>cumsum_total_revenue</th>\n",
       "      <th>cumsum_total_cost</th>\n",
       "      <th>CVR</th>\n",
       "      <th>CPA</th>\n",
       "      <th>ROAS</th>\n",
       "      <th>cumsumCVR</th>\n",
       "      <th>cumsumCPA</th>\n",
       "      <th>cumsumROAS</th>\n",
       "    </tr>\n",
       "  </thead>\n",
       "  <tbody>\n",
       "    <tr>\n",
       "      <th>1</th>\n",
       "      <td>4696533</td>\n",
       "      <td>4446501</td>\n",
       "      <td>1</td>\n",
       "      <td>35356</td>\n",
       "      <td>35356</td>\n",
       "      <td>254</td>\n",
       "      <td>74</td>\n",
       "      <td>11234.27</td>\n",
       "      <td>779.76</td>\n",
       "      <td>35356</td>\n",
       "      <td>...</td>\n",
       "      <td>254</td>\n",
       "      <td>74</td>\n",
       "      <td>11234.27</td>\n",
       "      <td>779.76</td>\n",
       "      <td>0.002093</td>\n",
       "      <td>10.537297</td>\n",
       "      <td>14.407343</td>\n",
       "      <td>0.002093</td>\n",
       "      <td>10.537297</td>\n",
       "      <td>14.407343</td>\n",
       "    </tr>\n",
       "    <tr>\n",
       "      <th>2</th>\n",
       "      <td>4696533</td>\n",
       "      <td>4446501</td>\n",
       "      <td>2</td>\n",
       "      <td>29798</td>\n",
       "      <td>59596</td>\n",
       "      <td>287</td>\n",
       "      <td>94</td>\n",
       "      <td>12894.71</td>\n",
       "      <td>1155.37</td>\n",
       "      <td>65154</td>\n",
       "      <td>...</td>\n",
       "      <td>541</td>\n",
       "      <td>168</td>\n",
       "      <td>24128.98</td>\n",
       "      <td>1935.13</td>\n",
       "      <td>0.001577</td>\n",
       "      <td>12.29117</td>\n",
       "      <td>11.160676</td>\n",
       "      <td>0.001769</td>\n",
       "      <td>11.518631</td>\n",
       "      <td>12.468919</td>\n",
       "    </tr>\n",
       "    <tr>\n",
       "      <th>3</th>\n",
       "      <td>4696533</td>\n",
       "      <td>4446501</td>\n",
       "      <td>3</td>\n",
       "      <td>19779</td>\n",
       "      <td>59337</td>\n",
       "      <td>266</td>\n",
       "      <td>57</td>\n",
       "      <td>7959.73</td>\n",
       "      <td>1230.84</td>\n",
       "      <td>84933</td>\n",
       "      <td>...</td>\n",
       "      <td>807</td>\n",
       "      <td>225</td>\n",
       "      <td>32088.71</td>\n",
       "      <td>3165.97</td>\n",
       "      <td>0.000961</td>\n",
       "      <td>21.593684</td>\n",
       "      <td>6.466909</td>\n",
       "      <td>0.001458</td>\n",
       "      <td>14.070978</td>\n",
       "      <td>10.135507</td>\n",
       "    </tr>\n",
       "    <tr>\n",
       "      <th>4</th>\n",
       "      <td>4696533</td>\n",
       "      <td>4446501</td>\n",
       "      <td>4</td>\n",
       "      <td>19360</td>\n",
       "      <td>77440</td>\n",
       "      <td>318</td>\n",
       "      <td>58</td>\n",
       "      <td>8734.49</td>\n",
       "      <td>1456.62</td>\n",
       "      <td>104293</td>\n",
       "      <td>...</td>\n",
       "      <td>1125</td>\n",
       "      <td>283</td>\n",
       "      <td>40823.20</td>\n",
       "      <td>4622.59</td>\n",
       "      <td>0.000749</td>\n",
       "      <td>25.114138</td>\n",
       "      <td>5.996409</td>\n",
       "      <td>0.001221</td>\n",
       "      <td>16.33424</td>\n",
       "      <td>8.83124</td>\n",
       "    </tr>\n",
       "    <tr>\n",
       "      <th>5</th>\n",
       "      <td>4696533</td>\n",
       "      <td>4446501</td>\n",
       "      <td>5</td>\n",
       "      <td>14582</td>\n",
       "      <td>72910</td>\n",
       "      <td>249</td>\n",
       "      <td>37</td>\n",
       "      <td>4688.17</td>\n",
       "      <td>1463.76</td>\n",
       "      <td>118875</td>\n",
       "      <td>...</td>\n",
       "      <td>1374</td>\n",
       "      <td>320</td>\n",
       "      <td>45511.37</td>\n",
       "      <td>6086.35</td>\n",
       "      <td>0.000507</td>\n",
       "      <td>39.561081</td>\n",
       "      <td>3.202827</td>\n",
       "      <td>0.00105</td>\n",
       "      <td>19.019844</td>\n",
       "      <td>7.477613</td>\n",
       "    </tr>\n",
       "  </tbody>\n",
       "</table>\n",
       "<p>5 rows × 21 columns</p>\n",
       "</div>"
      ],
      "text/plain": [
       "   advertiser_id  campaign_id  frequency  reach  total_impressions  \\\n",
       "1        4696533      4446501          1  35356              35356   \n",
       "2        4696533      4446501          2  29798              59596   \n",
       "3        4696533      4446501          3  19779              59337   \n",
       "4        4696533      4446501          4  19360              77440   \n",
       "5        4696533      4446501          5  14582              72910   \n",
       "\n",
       "   total_clicks  total_conversions  total_revenue  total_cost cumsum_reach  \\\n",
       "1           254                 74       11234.27      779.76        35356   \n",
       "2           287                 94       12894.71     1155.37        65154   \n",
       "3           266                 57        7959.73     1230.84        84933   \n",
       "4           318                 58        8734.49     1456.62       104293   \n",
       "5           249                 37        4688.17     1463.76       118875   \n",
       "\n",
       "   ... cumsum_total_clicks cumsum_total_conversions cumsum_total_revenue  \\\n",
       "1  ...                 254                       74             11234.27   \n",
       "2  ...                 541                      168             24128.98   \n",
       "3  ...                 807                      225             32088.71   \n",
       "4  ...                1125                      283             40823.20   \n",
       "5  ...                1374                      320             45511.37   \n",
       "\n",
       "   cumsum_total_cost       CVR        CPA       ROAS  cumsumCVR  cumsumCPA  \\\n",
       "1             779.76  0.002093  10.537297  14.407343   0.002093  10.537297   \n",
       "2            1935.13  0.001577   12.29117  11.160676   0.001769  11.518631   \n",
       "3            3165.97  0.000961  21.593684   6.466909   0.001458  14.070978   \n",
       "4            4622.59  0.000749  25.114138   5.996409   0.001221   16.33424   \n",
       "5            6086.35  0.000507  39.561081   3.202827    0.00105  19.019844   \n",
       "\n",
       "  cumsumROAS  \n",
       "1  14.407343  \n",
       "2  12.468919  \n",
       "3  10.135507  \n",
       "4    8.83124  \n",
       "5   7.477613  \n",
       "\n",
       "[5 rows x 21 columns]"
      ]
     },
     "execution_count": 10,
     "metadata": {},
     "output_type": "execute_result"
    }
   ],
   "source": [
    "# Create acumulative variables\n",
    "# Get all the columns except advertiser_id, campaign_id, frequency\n",
    "dimensions = [  \n",
    "            'reach',\n",
    "            'total_impressions',\n",
    "            'total_clicks',\n",
    "            'total_conversions',\n",
    "            'total_revenue',\n",
    "            'total_cost'\n",
    "            ]\n",
    "# For that dimension calculate cumsum and add it as a new column to the dataframe\n",
    "for column in dimensions:\n",
    "    df['cumsum_'+column] = df[column].cumsum()\n",
    "# Preview the dataframe\n",
    "\n",
    "\n",
    "# Calculate ROAS and CPA\n",
    "df['CVR'] = df.total_conversions/ df.total_impressions\n",
    "#df['CPC'] = df.total_cost/ df.total_clicks\n",
    "df['CPA'] = df.total_cost/ df.total_conversions\n",
    "#df['CTR'] = df.total_clicks/ df.total_impressions\n",
    "df['ROAS'] = df.total_revenue / df.total_cost\n",
    "df['cumsumCVR'] = df.cumsum_total_conversions/ df.cumsum_total_impressions\n",
    "#df['CPC'] = df.total_cost/ df.total_clicks\n",
    "df['cumsumCPA'] = df.cumsum_total_cost/ df.cumsum_total_conversions\n",
    "#df['CTR'] = df.total_clicks/ df.total_impressions\n",
    "df['cumsumROAS'] = df.cumsum_total_revenue / df.cumsum_total_cost\n",
    "\n",
    "\n",
    "df.head()"
   ]
  },
  {
   "cell_type": "markdown",
   "id": "a9d45a80",
   "metadata": {},
   "source": [
    "#### Plot 1 - Share of different metrics and cumulative cost vs frequency"
   ]
  },
  {
   "cell_type": "code",
   "execution_count": 19,
   "id": "0e713ef8",
   "metadata": {},
   "outputs": [
    {
     "data": {
      "application/vnd.plotly.v1+json": {
       "config": {
        "plotlyServerURL": "https://plot.ly"
       },
       "data": [
        {
         "marker": {
          "color": "#ff007f"
         },
         "name": "% of Reach",
         "type": "bar",
         "x": [
          1,
          2,
          3,
          4,
          5,
          6,
          7,
          8,
          9,
          10,
          11,
          12,
          13,
          14,
          15,
          16,
          17,
          18,
          19,
          20,
          21,
          22,
          23,
          24,
          25,
          26,
          27,
          28,
          29,
          30,
          31,
          32,
          33,
          34,
          35,
          36,
          37,
          38,
          39,
          40,
          41,
          42,
          43,
          44,
          45,
          46,
          47,
          48,
          49,
          50,
          51,
          52,
          53,
          54,
          55,
          56,
          57,
          58,
          59,
          60,
          61,
          62,
          63,
          64,
          65,
          66,
          67,
          68,
          69,
          70,
          71,
          72,
          73,
          74,
          75,
          76,
          77,
          78,
          79,
          80,
          81,
          82,
          83,
          84,
          85,
          86,
          87,
          88,
          89,
          90,
          91,
          92,
          93,
          94,
          95,
          96,
          97,
          98,
          99,
          100,
          101,
          102,
          103,
          104,
          105,
          106,
          107,
          108,
          109,
          110,
          111,
          112,
          113,
          114,
          115,
          116,
          117,
          118,
          119,
          120,
          121,
          122,
          123,
          124,
          125,
          126,
          127,
          128,
          129,
          130,
          131,
          132,
          133,
          134,
          135,
          136,
          137,
          138,
          139,
          140,
          141,
          142,
          143,
          144,
          145,
          146,
          147,
          148,
          149,
          150,
          151,
          152,
          153,
          154,
          155,
          156,
          157,
          158,
          159,
          160,
          161,
          162,
          163,
          164,
          165,
          166,
          167,
          168,
          169,
          170,
          171,
          172,
          173,
          174,
          175,
          176,
          177,
          178,
          179,
          180,
          181,
          182,
          183,
          184,
          185,
          186,
          187,
          188,
          189,
          190,
          191,
          192,
          193,
          194,
          195,
          196,
          197,
          198,
          199,
          200,
          201,
          202,
          203,
          204,
          205,
          206,
          207,
          208,
          209,
          210,
          211,
          212,
          213,
          214,
          215,
          216,
          217,
          218,
          219,
          220,
          221,
          222,
          223,
          224,
          225,
          226,
          227,
          228,
          229,
          230,
          231,
          232,
          233,
          234,
          235,
          236,
          237,
          238,
          239,
          240,
          241,
          242,
          243,
          244,
          245,
          246,
          247,
          248,
          249,
          250,
          251,
          252,
          253,
          254,
          255,
          256,
          257,
          258,
          259,
          260,
          261,
          262,
          263,
          264,
          265,
          266,
          267,
          268,
          269,
          270,
          271,
          272,
          273,
          274,
          275,
          276,
          277,
          278,
          279,
          280,
          281,
          282,
          283,
          284,
          285,
          286,
          287,
          288,
          289,
          290,
          291,
          292,
          293,
          294,
          295,
          296,
          297,
          298,
          299,
          300,
          301,
          302,
          303,
          304,
          305,
          306,
          307,
          308,
          309,
          310,
          311,
          312,
          313,
          314,
          315,
          316,
          317,
          318,
          319,
          320,
          321,
          322,
          323,
          324,
          325,
          326,
          327,
          328,
          329,
          330,
          331,
          332,
          333,
          334,
          335,
          336,
          337,
          338,
          339,
          340,
          341,
          342,
          343,
          344,
          345,
          346,
          347,
          348,
          349,
          350,
          351,
          352,
          353,
          354,
          355,
          356,
          357,
          358,
          359,
          360,
          361,
          362,
          363,
          364,
          365,
          366,
          367,
          368,
          369,
          370,
          371,
          372,
          373,
          374,
          375,
          376,
          377,
          378,
          379,
          380,
          381,
          382,
          383,
          384,
          385,
          386,
          387,
          388,
          389,
          390,
          391,
          392,
          393,
          394,
          395,
          396,
          397,
          398,
          399,
          400,
          401,
          402,
          403,
          404,
          405,
          406,
          407,
          408,
          409,
          410,
          411,
          412,
          413,
          414,
          415,
          416,
          417,
          418,
          419,
          420,
          421,
          422,
          423,
          424,
          425,
          426,
          427,
          428,
          429,
          430,
          431,
          432,
          433,
          434,
          435,
          436,
          437,
          438,
          439,
          440,
          441,
          442,
          444,
          445,
          446,
          447,
          448,
          449,
          450,
          452,
          453,
          456,
          459,
          460,
          461,
          463,
          465,
          466,
          469,
          475
         ],
         "xaxis": "x",
         "y": [
          3.790361572363251,
          3.194512788021274,
          2.120419774289307,
          2.075500623400626,
          1.5632722154146659,
          1.6065832821426544,
          2.715946941799146,
          2.2181912912594193,
          1.7211860799946828,
          1.6494655264277913,
          1.3621544897173739,
          1.3421070405140723,
          1.1854796432626098,
          1.6214848620317392,
          1.273066627215002,
          1.356579797960306,
          1.126838174202685,
          1.171650119480653,
          1.0055886284864604,
          1.0564040879643477,
          1.1162248187421138,
          1.1198698095063504,
          0.9932599832544835,
          1.0008715816150953,
          0.9044937375842502,
          0.8905570081915807,
          0.8076870711105537,
          0.9252916260625416,
          0.8103672113783748,
          0.8515341658921061,
          0.7753109766752753,
          0.7984673885892493,
          0.7267468350223577,
          0.7296413865116045,
          0.7132389280725396,
          0.7087362924226002,
          0.6805412168051227,
          0.6847222356229236,
          0.6508452626376654,
          0.659957739548257,
          0.6345500098093134,
          0.6883672263871602,
          0.6364797108021445,
          0.6525605524090708,
          0.6088206632382311,
          0.6060333173596973,
          0.5755869239172502,
          0.5897380645313454,
          0.5682969423887768,
          0.5613285776924422,
          0.5343127637928059,
          0.5513584558961478,
          0.5178030997430282,
          0.5072969498931696,
          0.5038663703503586,
          0.5191967726822951,
          0.4973268280968753,
          0.5048312208467742,
          0.47374159374005004,
          0.4795306967185434,
          0.45841119140811354,
          0.46645161221157666,
          0.4559454623617181,
          0.4803883416042462,
          0.4482266583903935,
          0.4548734062545898,
          0.43278905044774424,
          0.4345043402191497,
          0.4333250785013084,
          0.43343228411202134,
          0.40963263853377024,
          0.42367657353715266,
          0.41263439563372983,
          0.400305750401753,
          0.4052372084945438,
          0.409203816090919,
          0.39826884379820904,
          0.3951598810875366,
          0.37168185234142415,
          0.38154476852700564,
          0.38250961902342123,
          0.3797222731448873,
          0.3721106747842755,
          0.3730755252806911,
          0.3789718338698974,
          0.37457640383067087,
          0.38358167513054964,
          0.36685759985934624,
          0.3470245618774704,
          0.3532424872988153,
          0.35978202955229865,
          0.35420733779523084,
          0.35592262756663634,
          0.3572090948951904,
          0.3472389730988961,
          0.34713176748818325,
          0.33898414107400726,
          0.3437011879453723,
          0.34498765527392644,
          0.3444516272203622,
          0.32837078561343586,
          0.3307293090491184,
          0.3111106822886683,
          0.32354653313135795,
          0.3104674486243912,
          0.30167658854593815,
          0.3019982053780767,
          0.2935289621317621,
          0.2770192980819844,
          0.2827011954497651,
          0.26844284922495704,
          0.26694197067497727,
          0.2546133254430004,
          0.24689452147167576,
          0.2531124468930206,
          0.23949733433248963,
          0.2282407452076412,
          0.2213795861220193,
          0.2293128013147696,
          0.21634092241851569,
          0.21269593165427905,
          0.20604918379008283,
          0.20058169764372788,
          0.19822317420804536,
          0.188253052411751,
          0.1869665850831969,
          0.18385762237252448,
          0.176031612790487,
          0.17742528572975394,
          0.1762460240119127,
          0.17796131378331817,
          0.17077853786555772,
          0.1704569210334192,
          0.17163618275126047,
          0.1604867992371249,
          0.15705621969431394,
          0.14772933156229665,
          0.14998064938726632,
          0.15287520087651307,
          0.15223196721223603,
          0.14097537808738758,
          0.13582950877317115,
          0.14108258369810042,
          0.13786641537671515,
          0.13711597610172524,
          0.1275746767482823,
          0.13079084506966757,
          0.13840244343027935,
          0.1357223031624583,
          0.12414409720547136,
          0.1247873308697484,
          0.1308980506803804,
          0.12500174209117407,
          0.12746747113756945,
          0.12875393846612357,
          0.1156748539591568,
          0.12425130281618418,
          0.12242880743406587,
          0.11020736781280184,
          0.11406676979846418,
          0.10624076021642669,
          0.10870648926282207,
          0.11106501269850459,
          0.1116010407520688,
          0.11181545197349449,
          0.10699119949141658,
          0.10742002193426795,
          0.10034445162722036,
          0.10088047968078456,
          0.10248856384147721,
          0.10356061994860563,
          0.09455534864872688,
          0.09541299353442963,
          0.0976643113593993,
          0.09466255425943973,
          0.099915629184369,
          0.09798592819153783,
          0.09476975987015257,
          0.09176800277019298,
          0.09176800277019298,
          0.09348329254159846,
          0.08812301200595635,
          0.08308434830245276,
          0.08737257273096644,
          0.08790860078453067,
          0.0880158063952435,
          0.0852284605167096,
          0.08286993708102708,
          0.07858171265251339,
          0.08351317074530412,
          0.08211949780603718,
          0.08597889979169951,
          0.07976097437035465,
          0.07493672188827674,
          0.07901053509536475,
          0.0824411146381757,
          0.07772406776681064,
          0.07386466578114832,
          0.0770808341025336,
          0.07590157238469233,
          0.07493672188827674,
          0.06861159085621905,
          0.06678909547410074,
          0.07107731990261443,
          0.06968364696334747,
          0.06946923574192179,
          0.06153602054917146,
          0.06850438524550621,
          0.06818276841336768,
          0.05928470272420178,
          0.06957644135263463,
          0.06550262814554662,
          0.05789102978493482,
          0.060463964442043036,
          0.06099999249560725,
          0.0581054410063605,
          0.0616432261598843,
          0.05639015123495504,
          0.05767661856350914,
          0.05413883340998534,
          0.05210192680644134,
          0.05574691757067798,
          0.05231633802786703,
          0.04942178653862028,
          0.051565898752877135,
          0.052423543638579866,
          0.05349559974570829,
          0.05521088951711377,
          0.05038663703503586,
          0.046848851881512076,
          0.0471704687136506,
          0.047813702377927654,
          0.04577679577438365,
          0.04395430039226533,
          0.04105974890301859,
          0.04491915088868091,
          0.04181018817800849,
          0.04223901062085985,
          0.04545517894224512,
          0.04223901062085985,
          0.04181018817800849,
          0.039558870353038796,
          0.04138136573515711,
          0.04063092646016722,
          0.039987692795890165,
          0.04009489840660301,
          0.039666075963751636,
          0.03634270203165353,
          0.0408453376815929,
          0.0367715244745049,
          0.04020210401731585,
          0.036449907642366365,
          0.04095254329230575,
          0.03655711325307921,
          0.03376976737454531,
          0.036449907642366365,
          0.034734617870960896,
          0.03441300103882237,
          0.035056234703099425,
          0.03323373932098111,
          0.035592262756663634,
          0.03409138420668384,
          0.03548505714595079,
          0.03205447760313984,
          0.03591387958880216,
          0.030982421496011416,
          0.03334094493169395,
          0.03323373932098111,
          0.02883830928175457,
          0.031625655160288466,
          0.02894551489246741,
          0.031518449549575625,
          0.03323373932098111,
          0.028731103671041727,
          0.02755184195320046,
          0.028623898060328886,
          0.031840066381714154,
          0.03226888882456552,
          0.02733743073177478,
          0.02883830928175457,
          0.0291599261138931,
          0.02680140267821057,
          0.02680140267821057,
          0.025622140960369303,
          0.024764496074666565,
          0.024228468021102352,
          0.028516692449616046,
          0.02508611290680509,
          0.024121262410389508,
          0.028087870006764673,
          0.024442879242528037,
          0.025622140960369303,
          0.02497890729609225,
          0.023799645578250983,
          0.02605096340322067,
          0.02497890729609225,
          0.02272758947112256,
          0.02176273897470698,
          0.024442879242528037,
          0.023263617524686774,
          0.020583477256865716,
          0.02658699145678488,
          0.02315641191397393,
          0.023906851188963827,
          0.022513178249696876,
          0.02176273897470698,
          0.024657290463953725,
          0.022405972638984036,
          0.021119505310429925,
          0.019725832371162978,
          0.020047449203301506,
          0.01886818748546024,
          0.020476271646152875,
          0.02122671092114277,
          0.0207978884782914,
          0.018117748210470346,
          0.021441122142568454,
          0.020690682867578556,
          0.020154654814014347,
          0.01886818748546024,
          0.017688925767618973,
          0.017903336989044658,
          0.0207978884782914,
          0.019940243592588662,
          0.016616869660490554,
          0.019082598706885924,
          0.018653776264034555,
          0.019618626760450134,
          0.0207978884782914,
          0.018546570653321715,
          0.015223196721223601,
          0.016295252828352022,
          0.017796131378331817,
          0.01618804721763918,
          0.0180105425997575,
          0.01618804721763918,
          0.017367308935480448,
          0.016831280881916235,
          0.01650966404977771,
          0.014472757446233706,
          0.01650966404977771,
          0.018546570653321715,
          0.015330402331936445,
          0.01693848649262908,
          0.014901579889085075,
          0.015652019164074972,
          0.013829523781956654,
          0.015115991110510759,
          0.015115991110510759,
          0.014043935003382337,
          0.014472757446233706,
          0.016295252828352022,
          0.01618804721763918,
          0.014794374278372232,
          0.01415114061409518,
          0.015437607942649288,
          0.015973635996213497,
          0.014901579889085075,
          0.014794374278372232,
          0.015544813553362128,
          0.014043935003382337,
          0.012328645231976862,
          0.01275746767482823,
          0.013615112560530968,
          0.01329349572839244,
          0.013400701339105285,
          0.01275746767482823,
          0.012007028399838334,
          0.012864673285541072,
          0.013186290117679599,
          0.012114234010551176,
          0.012864673285541072,
          0.010613355460571385,
          0.01275746767482823,
          0.010077327407007173,
          0.010827766681997069,
          0.01329349572839244,
          0.012435850842689703,
          0.011149383514135596,
          0.011256589124848438,
          0.012971878896253914,
          0.010077327407007173,
          0.01136379473556128,
          0.011578205956986965,
          0.0103989442391457,
          0.011149383514135596,
          0.010291738628432858,
          0.010506149849858542,
          0.011471000346274123,
          0.010613355460571385,
          0.011256589124848438,
          0.010506149849858542,
          0.00943409374273012,
          0.009755710574868647,
          0.009326888132017278,
          0.011471000346274123,
          0.011471000346274123,
          0.009219682521304435,
          0.010506149849858542,
          0.010720561071284227,
          0.009755710574868647,
          0.009112476910591591,
          0.010720561071284227,
          0.009648504964155804,
          0.010720561071284227,
          0.00900527129987875,
          0.008254832024888855,
          0.007718803971324644,
          0.00804042080346317,
          0.00900527129987875,
          0.008254832024888855,
          0.008898065689165909,
          0.00707557030704759,
          0.009541299353442962,
          0.00707557030704759,
          0.007611598360611801,
          0.008790860078453066,
          0.00804042080346317,
          0.007933215192750327,
          0.007933215192750327,
          0.007504392749898959,
          0.008254832024888855,
          0.007933215192750327,
          0.0067539534749090635,
          0.006968364696334747,
          0.007289981528473275,
          0.006968364696334747,
          0.005574691757067798,
          0.008362037635601697,
          0.006968364696334747,
          0.00707557030704759,
          0.005896308589206325,
          0.007397187139186116,
          0.007397187139186116,
          0.0063251310320576945,
          0.00707557030704759,
          0.005896308589206325,
          0.0067539534749090635,
          0.00664674786419622,
          0.005789102978493482,
          0.006968364696334747,
          0.0067539534749090635,
          0.006003514199919167,
          0.006539542253483379,
          0.006432336642770536,
          0.005360280535642113,
          0.005896308589206325,
          0.00707557030704759,
          0.005789102978493482,
          0.00664674786419622,
          0.005360280535642113,
          0.00568189736778064,
          0.005574691757067798,
          0.006003514199919167,
          0.005467486146354956,
          0.00568189736778064,
          0.005789102978493482,
          0.005467486146354956,
          0.005360280535642113,
          0.005360280535642113
         ],
         "yaxis": "y"
        },
        {
         "marker": {
          "color": "#F5A400"
         },
         "name": "% of Impressions",
         "type": "bar",
         "x": [
          1,
          2,
          3,
          4,
          5,
          6,
          7,
          8,
          9,
          10,
          11,
          12,
          13,
          14,
          15,
          16,
          17,
          18,
          19,
          20,
          21,
          22,
          23,
          24,
          25,
          26,
          27,
          28,
          29,
          30,
          31,
          32,
          33,
          34,
          35,
          36,
          37,
          38,
          39,
          40,
          41,
          42,
          43,
          44,
          45,
          46,
          47,
          48,
          49,
          50,
          51,
          52,
          53,
          54,
          55,
          56,
          57,
          58,
          59,
          60,
          61,
          62,
          63,
          64,
          65,
          66,
          67,
          68,
          69,
          70,
          71,
          72,
          73,
          74,
          75,
          76,
          77,
          78,
          79,
          80,
          81,
          82,
          83,
          84,
          85,
          86,
          87,
          88,
          89,
          90,
          91,
          92,
          93,
          94,
          95,
          96,
          97,
          98,
          99,
          100,
          101,
          102,
          103,
          104,
          105,
          106,
          107,
          108,
          109,
          110,
          111,
          112,
          113,
          114,
          115,
          116,
          117,
          118,
          119,
          120,
          121,
          122,
          123,
          124,
          125,
          126,
          127,
          128,
          129,
          130,
          131,
          132,
          133,
          134,
          135,
          136,
          137,
          138,
          139,
          140,
          141,
          142,
          143,
          144,
          145,
          146,
          147,
          148,
          149,
          150,
          151,
          152,
          153,
          154,
          155,
          156,
          157,
          158,
          159,
          160,
          161,
          162,
          163,
          164,
          165,
          166,
          167,
          168,
          169,
          170,
          171,
          172,
          173,
          174,
          175,
          176,
          177,
          178,
          179,
          180,
          181,
          182,
          183,
          184,
          185,
          186,
          187,
          188,
          189,
          190,
          191,
          192,
          193,
          194,
          195,
          196,
          197,
          198,
          199,
          200,
          201,
          202,
          203,
          204,
          205,
          206,
          207,
          208,
          209,
          210,
          211,
          212,
          213,
          214,
          215,
          216,
          217,
          218,
          219,
          220,
          221,
          222,
          223,
          224,
          225,
          226,
          227,
          228,
          229,
          230,
          231,
          232,
          233,
          234,
          235,
          236,
          237,
          238,
          239,
          240,
          241,
          242,
          243,
          244,
          245,
          246,
          247,
          248,
          249,
          250,
          251,
          252,
          253,
          254,
          255,
          256,
          257,
          258,
          259,
          260,
          261,
          262,
          263,
          264,
          265,
          266,
          267,
          268,
          269,
          270,
          271,
          272,
          273,
          274,
          275,
          276,
          277,
          278,
          279,
          280,
          281,
          282,
          283,
          284,
          285,
          286,
          287,
          288,
          289,
          290,
          291,
          292,
          293,
          294,
          295,
          296,
          297,
          298,
          299,
          300,
          301,
          302,
          303,
          304,
          305,
          306,
          307,
          308,
          309,
          310,
          311,
          312,
          313,
          314,
          315,
          316,
          317,
          318,
          319,
          320,
          321,
          322,
          323,
          324,
          325,
          326,
          327,
          328,
          329,
          330,
          331,
          332,
          333,
          334,
          335,
          336,
          337,
          338,
          339,
          340,
          341,
          342,
          343,
          344,
          345,
          346,
          347,
          348,
          349,
          350,
          351,
          352,
          353,
          354,
          355,
          356,
          357,
          358,
          359,
          360,
          361,
          362,
          363,
          364,
          365,
          366,
          367,
          368,
          369,
          370,
          371,
          372,
          373,
          374,
          375,
          376,
          377,
          378,
          379,
          380,
          381,
          382,
          383,
          384,
          385,
          386,
          387,
          388,
          389,
          390,
          391,
          392,
          393,
          394,
          395,
          396,
          397,
          398,
          399,
          400,
          401,
          402,
          403,
          404,
          405,
          406,
          407,
          408,
          409,
          410,
          411,
          412,
          413,
          414,
          415,
          416,
          417,
          418,
          419,
          420,
          421,
          422,
          423,
          424,
          425,
          426,
          427,
          428,
          429,
          430,
          431,
          432,
          433,
          434,
          435,
          436,
          437,
          438,
          439,
          440,
          441,
          442,
          444,
          445,
          446,
          447,
          448,
          449,
          450,
          452,
          453,
          456,
          459,
          460,
          461,
          463,
          465,
          466,
          469,
          475
         ],
         "xaxis": "x",
         "y": [
          0.05907660802087431,
          0.09957940750118864,
          0.09914664244073479,
          0.1293950821681329,
          0.12182587087911376,
          0.15024132500296794,
          0.29631540652805205,
          0.27658198813438406,
          0.24143778922887868,
          0.2570858386155595,
          0.23353606733356488,
          0.2510171023237896,
          0.24019964672001262,
          0.3538146778034884,
          0.2976304107851068,
          0.33829863011478384,
          0.2985694608390646,
          0.32870427885174897,
          0.29778914700419223,
          0.3293024637615655,
          0.3653472818469344,
          0.3839946103205444,
          0.3560620484842237,
          0.3743902336120936,
          0.3524361790587995,
          0.36088595863685025,
          0.33989267593591505,
          0.4038048904624011,
          0.3662813191781842,
          0.3981605646932385,
          0.3746041097809666,
          0.39823742644142723,
          0.3737937196098464,
          0.3866546951709017,
          0.38907918205398484,
          0.3976693178678585,
          0.39245608625158035,
          0.40553929251935517,
          0.39561911428030294,
          0.4114442798693317,
          0.40549417801498355,
          0.45061369510932875,
          0.4265676642792461,
          0.4475158324758096,
          0.42700878387754654,
          0.4344994625108076,
          0.42164182876489104,
          0.44119980186378044,
          0.43401657022327417,
          0.43744360164794927,
          0.42471796960000896,
          0.4468608367086363,
          0.4277356286702007,
          0.4269636693731749,
          0.4319296066691936,
          0.45316350006011086,
          0.4418263922022754,
          0.4563616171477892,
          0.43564069238065317,
          0.4484381734540742,
          0.43583284675112494,
          0.4507473677148743,
          0.44770130321600415,
          0.4791895563598376,
          0.4540941955762221,
          0.46791761389720565,
          0.4519454084420767,
          0.46050880973484115,
          0.4660127792681809,
          0.4728835511932243,
          0.4533021853883644,
          0.475446723404561,
          0.469486596104797,
          0.4616984959241969,
          0.4737022959021911,
          0.48471691859914784,
          0.4779714647418034,
          0.48039929344002524,
          0.45764988688373487,
          0.47574080313676137,
          0.4829056547940051,
          0.48530507806354845,
          0.4813767743680774,
          0.48843970066359255,
          0.5020659518913964,
          0.5020809900595202,
          0.5201301336233138,
          0.5031704217947168,
          0.4813767743680774,
          0.49550763968181577,
          0.5102884880400196,
          0.5079024320310308,
          0.5159094211032117,
          0.5233416179715465,
          0.5141466136175792,
          0.5193982761079516,
          0.5124907442163832,
          0.5249791073894801,
          0.5323210752490717,
          0.5368626020224833,
          0.5169169783675116,
          0.5257844848378923,
          0.49944429791513345,
          0.524451100597575,
          0.5080895736787946,
          0.4984049934070165,
          0.5036432886368344,
          0.4940940518781712,
          0.4706211423443652,
          0.4846801586326228,
          0.46441873344704976,
          0.46598270293193317,
          0.44842981891622763,
          0.43868341506438463,
          0.4536764686838921,
          0.43300567114383565,
          0.4162113791646014,
          0.40715004741617955,
          0.42531448360225615,
          0.40462697698650646,
          0.401124754721212,
          0.391801090484407,
          0.3845309716502961,
          0.3830990038633889,
          0.36676421146571764,
          0.3671719129126317,
          0.3639320231357204,
          0.35118466928937886,
          0.3567304115119516,
          0.3571063657150486,
          0.363355560024305,
          0.35135176004631086,
          0.3533468236840788,
          0.358466484476475,
          0.3376820652217048,
          0.3329116241112965,
          0.31544395638162626,
          0.32258875714803814,
          0.33119727294517426,
          0.33217642478079573,
          0.3098113269654489,
          0.30061966442662014,
          0.31444475365517294,
          0.309425347316936,
          0.3098781632682217,
          0.29030348109363907,
          0.2996605634818305,
          0.3192569674548143,
          0.31518997843108965,
          0.2902366447908663,
          0.29368539801394256,
          0.3101070776052185,
          0.29808656855153115,
          0.3059532013878893,
          0.3110477985667456,
          0.2812538456982025,
          0.3040433540361566,
          0.30149187817780515,
          0.27311318402047596,
          0.2844553046010194,
          0.266594973592559,
          0.274476644597041,
          0.28216281941591254,
          0.2852640238645703,
          0.28755483814210786,
          0.2768159151940889,
          0.2795996472045758,
          0.2627468734604153,
          0.26572275984137406,
          0.27155589816586984,
          0.2760105377456767,
          0.2534833618961058,
          0.25726963844818473,
          0.2648622424431743,
          0.2581969921491572,
          0.2740823104106815,
          0.27031608474943447,
          0.2629206478476246,
          0.25602314140147203,
          0.2574534382808099,
          0.2637226834808981,
          0.24997445600053403,
          0.23697646601879455,
          0.25056929909521186,
          0.25347667826582854,
          0.25515761128056436,
          0.24840547379294262,
          0.24282297160384486,
          0.2314825219308707,
          0.2473110293350381,
          0.24446380283691702,
          0.2572930311541552,
          0.2399289596937828,
          0.2265850918451941,
          0.24013448132480913,
          0.2518458724781723,
          0.23864737358811444,
          0.22794855242175913,
          0.23907512592586033,
          0.23660051181569755,
          0.23476084258187638,
          0.21601493056167642,
          0.2113180093843182,
          0.22599359056565482,
          0.22264843361187642,
          0.22304610961337454,
          0.19853389557145162,
          0.2220836668534463,
          0.22210371774427812,
          0.19404249602511975,
          0.22881241163509752,
          0.216435999269145,
          0.19218778862317465,
          0.2016718599866344,
          0.20441047749274974,
          0.19561649095541908,
          0.2084874919618903,
          0.19159962915877407,
          0.196869671632409,
          0.18563783095144065,
          0.17946549839037296,
          0.19288956980228902,
          0.1818348453236686,
          0.17254459923824994,
          0.18083397168964596,
          0.1846586791158192,
          0.1892687130995728,
          0.19619796678954243,
          0.17983978168590062,
          0.16794291979234294,
          0.16983104534567445,
          0.1728921480126685,
          0.16624026497920597,
          0.160306872200551,
          0.1503900357766374,
          0.1652260240846288,
          0.15444198663223815,
          0.15668434459026548,
          0.16932308944460117,
          0.15800101975488956,
          0.15704860244037722,
          0.14920870412512827,
          0.1567277881870678,
          0.1545188483804269,
          0.15269588822229888,
          0.1537301800077079,
          0.1527042427601455,
          0.14047654116786246,
          0.15851733019380942,
          0.14328032406918126,
          0.15727417496223542,
          0.14316336053932885,
          0.16148653294449086,
          0.14472398820907365,
          0.13421565050562081,
          0.14543579483360392,
          0.13913313148212927,
          0.1383812230759353,
          0.14151417476841013,
          0.13467515008718378,
          0.1447874826967078,
          0.13921333504545663,
          0.1454575166320051,
          0.13189475989183547,
          0.14833481946637395,
          0.12844934848389786,
          0.13874715183361636,
          0.13881900085909712,
          0.12090854262355713,
          0.13308778789632986,
          0.12226030684713694,
          0.13361913650337362,
          0.14140890759154295,
          0.12269808463029874,
          0.11809139246168379,
          0.12313252059832193,
          0.13746389482037868,
          0.13981820358555044,
          0.11887671901926414,
          0.12585275812117472,
          0.12771080733825843,
          0.11779898363705281,
          0.11821671052938279,
          0.11341452217515739,
          0.11000419982617549,
          0.10800078165056093,
          0.12756042565701967,
          0.11260580291160657,
          0.10865076469502638,
          0.12695555711692585,
          0.11086137540923659,
          0.11660929744769703,
          0.11407118884990011,
          0.1090567952343711,
          0.1197790091066969,
          0.11523915324085472,
          0.10520702419465806,
          0.1010798824984379,
          0.11390911081567609,
          0.10877608276272535,
          0.09656509024613555,
          0.1251442933117831,
          0.10935755859684869,
          0.11327416593933454,
          0.10702162981493946,
          0.10379343639101343,
          0.117982783469678,
          0.10755966205226047,
          0.10171315646721014,
          0.09530856775400698,
          0.09717497150893731,
          0.09175287644649424,
          0.09989186721665146,
          0.1038836653997567,
          0.10210916156113896,
          0.08923314783195983,
          0.10593553989488153,
          0.10255028115943943,
          0.10020766874725291,
          0.09410551430409665,
          0.0884996194090284,
          0.0898513836326082,
          0.10470241010872344,
          0.10069557375749433,
          0.08417196880448986,
          0.09695942443249504,
          0.09507129887916355,
          0.10029455594085755,
          0.10664734651941181,
          0.09539211313247298,
          0.07853599757317385,
          0.08432067957815932,
          0.09236442861686532,
          0.08427055235107973,
          0.09403867800132386,
          0.08477516643701434,
          0.0912215278394505,
          0.08866838107352971,
          0.0872314005639146,
          0.07669465743178332,
          0.08774604009526513,
          0.09886091724638109,
          0.08195634536757168,
          0.09081716820767509,
          0.08012837248673571,
          0.08440756677176396,
          0.07479483552546659,
          0.08198809261138876,
          0.08222369057866286,
          0.07661111205331733,
          0.07917595517222337,
          0.08940023858889182,
          0.08906438616745851,
          0.08162717657641566,
          0.07829872869833042,
          0.08565740563361526,
          0.08888058633483334,
          0.08314770246449676,
          0.08278010279924639,
          0.08722137511849867,
          0.0790188898607073,
          0.06955988211078735,
          0.07217819427191163,
          0.07724271511452024,
          0.07562527658741858,
          0.07644402129638533,
          0.0729735462749079,
          0.06886812637708892,
          0.07398778716948509,
          0.07604300347974856,
          0.07004945802859808,
          0.07458931389444025,
          0.06170160381227587,
          0.07436541228015138,
          0.058899491818526405,
          0.06345438585249244,
          0.07811158705056659,
          0.07326595509953888,
          0.06586049275231311,
          0.06666921201586393,
          0.07703050985321662,
          0.05999894899913889,
          0.06783550549924922,
          0.06929587871483481,
          0.06240004317625159,
          0.06707691346277798,
          0.06207755801537285,
          0.06353458941581981,
          0.06954818575780211,
          0.06451374125144127,
          0.06859911025842841,
          0.0641895851829932,
          0.05778666737735936,
          0.059908719990395626,
          0.057420738619678294,
          0.07079969552722272,
          0.07097848263713995,
          0.05719182428268147,
          0.06533582777554665,
          0.06683630277279592,
          0.06097308811205239,
          0.057094911643660914,
          0.06733757504359189,
          0.0607541992204715,
          0.06767175655745587,
          0.0569846317440858,
          0.052364572314916286,
          0.049084580756341326,
          0.05125508968888787,
          0.057546056687377285,
          0.05287921184626681,
          0.05713835524046323,
          0.04554559852452178,
          0.061566260299160964,
          0.04576615832367201,
          0.049351925967432514,
          0.057135013425324586,
          0.052382952298178805,
          0.051808160094332756,
          0.051931807254462434,
          0.04924164606785739,
          0.05429447055748076,
          0.05230274873485144,
          0.044633282991673115,
          0.04615882160246218,
          0.048402850468058804,
          0.04637603958647377,
          0.03718771886278365,
          0.055911909084582434,
          0.04670186656249115,
          0.04753063671687382,
          0.03970076384704078,
          0.049921705448570594,
          0.05003699807085367,
          0.04288384276659518,
          0.04808203621474939,
          0.040160263428603744,
          0.046107023467813264,
          0.045478762221748986,
          0.03970076384704078,
          0.04789656547455488,
          0.04652809217528188,
          0.04154544580356994,
          0.04535678596918863,
          0.044713486555000466,
          0.03734478417429972,
          0.041171162508042286,
          0.04951567490922586,
          0.04060305393447352,
          0.04682551372262082,
          0.03784605644509569,
          0.04038249413532329,
          0.039881221864527326,
          0.04304257898568058,
          0.039284707862280124,
          0.041002400843540975,
          0.04195648906562264,
          0.039710789292456694,
          0.039182782500551606,
          0.03968405477134758
         ],
         "yaxis": "y"
        },
        {
         "marker": {
          "color": "#005daa"
         },
         "name": "% of Clicks",
         "type": "bar",
         "x": [
          1,
          2,
          3,
          4,
          5,
          6,
          7,
          8,
          9,
          10,
          11,
          12,
          13,
          14,
          15,
          16,
          17,
          18,
          19,
          20,
          21,
          22,
          23,
          24,
          25,
          26,
          27,
          28,
          29,
          30,
          31,
          32,
          33,
          34,
          35,
          36,
          37,
          38,
          39,
          40,
          41,
          42,
          43,
          44,
          45,
          46,
          47,
          48,
          49,
          50,
          51,
          52,
          53,
          54,
          55,
          56,
          57,
          58,
          59,
          60,
          61,
          62,
          63,
          64,
          65,
          66,
          67,
          68,
          69,
          70,
          71,
          72,
          73,
          74,
          75,
          76,
          77,
          78,
          79,
          80,
          81,
          82,
          83,
          84,
          85,
          86,
          87,
          88,
          89,
          90,
          91,
          92,
          93,
          94,
          95,
          96,
          97,
          98,
          99,
          100,
          101,
          102,
          103,
          104,
          105,
          106,
          107,
          108,
          109,
          110,
          111,
          112,
          113,
          114,
          115,
          116,
          117,
          118,
          119,
          120,
          121,
          122,
          123,
          124,
          125,
          126,
          127,
          128,
          129,
          130,
          131,
          132,
          133,
          134,
          135,
          136,
          137,
          138,
          139,
          140,
          141,
          142,
          143,
          144,
          145,
          146,
          147,
          148,
          149,
          150,
          151,
          152,
          153,
          154,
          155,
          156,
          157,
          158,
          159,
          160,
          161,
          162,
          163,
          164,
          165,
          166,
          167,
          168,
          169,
          170,
          171,
          172,
          173,
          174,
          175,
          176,
          177,
          178,
          179,
          180,
          181,
          182,
          183,
          184,
          185,
          186,
          187,
          188,
          189,
          190,
          191,
          192,
          193,
          194,
          195,
          196,
          197,
          198,
          199,
          200,
          201,
          202,
          203,
          204,
          205,
          206,
          207,
          208,
          209,
          210,
          211,
          212,
          213,
          214,
          215,
          216,
          217,
          218,
          219,
          220,
          221,
          222,
          223,
          224,
          225,
          226,
          227,
          228,
          229,
          230,
          231,
          232,
          233,
          234,
          235,
          236,
          237,
          238,
          239,
          240,
          241,
          242,
          243,
          244,
          245,
          246,
          247,
          248,
          249,
          250,
          251,
          252,
          253,
          254,
          255,
          256,
          257,
          258,
          259,
          260,
          261,
          262,
          263,
          264,
          265,
          266,
          267,
          268,
          269,
          270,
          271,
          272,
          273,
          274,
          275,
          276,
          277,
          278,
          279,
          280,
          281,
          282,
          283,
          284,
          285,
          286,
          287,
          288,
          289,
          290,
          291,
          292,
          293,
          294,
          295,
          296,
          297,
          298,
          299,
          300,
          301,
          302,
          303,
          304,
          305,
          306,
          307,
          308,
          309,
          310,
          311,
          312,
          313,
          314,
          315,
          316,
          317,
          318,
          319,
          320,
          321,
          322,
          323,
          324,
          325,
          326,
          327,
          328,
          329,
          330,
          331,
          332,
          333,
          334,
          335,
          336,
          337,
          338,
          339,
          340,
          341,
          342,
          343,
          344,
          345,
          346,
          347,
          348,
          349,
          350,
          351,
          352,
          353,
          354,
          355,
          356,
          357,
          358,
          359,
          360,
          361,
          362,
          363,
          364,
          365,
          366,
          367,
          368,
          369,
          370,
          371,
          372,
          373,
          374,
          375,
          376,
          377,
          378,
          379,
          380,
          381,
          382,
          383,
          384,
          385,
          386,
          387,
          388,
          389,
          390,
          391,
          392,
          393,
          394,
          395,
          396,
          397,
          398,
          399,
          400,
          401,
          402,
          403,
          404,
          405,
          406,
          407,
          408,
          409,
          410,
          411,
          412,
          413,
          414,
          415,
          416,
          417,
          418,
          419,
          420,
          421,
          422,
          423,
          424,
          425,
          426,
          427,
          428,
          429,
          430,
          431,
          432,
          433,
          434,
          435,
          436,
          437,
          438,
          439,
          440,
          441,
          442,
          444,
          445,
          446,
          447,
          448,
          449,
          450,
          452,
          453,
          456,
          459,
          460,
          461,
          463,
          465,
          466,
          469,
          475
         ],
         "xaxis": "x",
         "y": [
          0.3898515801267785,
          0.44050158856844657,
          0.4082697650146578,
          0.4880818995288015,
          0.3821773364234955,
          0.40980461375531446,
          0.5494758491550658,
          0.5709637315242583,
          0.4665940171596089,
          0.5249182693045601,
          0.5065000844166808,
          0.5034303869353676,
          0.4497106810123862,
          0.5111046306386505,
          0.49882584071339775,
          0.48961674826945806,
          0.4727334121222354,
          0.48347735330683156,
          0.43282734486516355,
          0.44203643730910314,
          0.5034303869353676,
          0.5126394793793071,
          0.5080349331573374,
          0.5172440256012769,
          0.4543152272343561,
          0.4543152272343561,
          0.4374318910871334,
          0.4589197734563259,
          0.45124552975304283,
          0.5111046306386505,
          0.4589197734563259,
          0.48347735330683156,
          0.40520006753334453,
          0.44664098353107307,
          0.44664098353107307,
          0.4804076558255184,
          0.39906067257071814,
          0.44817583227172964,
          0.4021303700520314,
          0.37910763894218225,
          0.4144091599772842,
          0.4297576473838503,
          0.4082697650146578,
          0.46198947093763915,
          0.41133946249597103,
          0.4174788574585975,
          0.3775727902015256,
          0.41133946249597103,
          0.4082697650146578,
          0.41901370619925404,
          0.42361825242122386,
          0.3975258238300615,
          0.4144091599772842,
          0.4067349162740012,
          0.41133946249597103,
          0.45585007597501265,
          0.4297576473838503,
          0.4082697650146578,
          0.3698985464982426,
          0.4343621936058201,
          0.368363697757586,
          0.3576197565729898,
          0.38678188264546526,
          0.376037941460869,
          0.35608490783233315,
          0.4067349162740012,
          0.3775727902015256,
          0.38064248768283887,
          0.33920157168511045,
          0.4021303700520314,
          0.39599097508940495,
          0.44203643730910314,
          0.4205485549399107,
          0.33920157168511045,
          0.3929212776080917,
          0.4374318910871334,
          0.3484106641290501,
          0.39599097508940495,
          0.3852470339048087,
          0.37143339523889923,
          0.40059552131137477,
          0.36375915153561617,
          0.4358970423464768,
          0.3852470339048087,
          0.4589197734563259,
          0.41287431123662766,
          0.4358970423464768,
          0.4067349162740012,
          0.4205485549399107,
          0.4665940171596089,
          0.4251531011618805,
          0.34994551286970665,
          0.4312924961245069,
          0.3929212776080917,
          0.3775727902015256,
          0.36222430279495954,
          0.39906067257071814,
          0.38678188264546526,
          0.4021303700520314,
          0.47119856338157873,
          0.3698985464982426,
          0.41133946249597103,
          0.39906067257071814,
          0.4159440087179408,
          0.34994551286970665,
          0.3376667229444538,
          0.41287431123662766,
          0.4082697650146578,
          0.32692278175985756,
          0.34687581538839346,
          0.3944561263487484,
          0.34380611790708027,
          0.3775727902015256,
          0.39138642886743513,
          0.34227126916642364,
          0.32538793301920094,
          0.3821773364234955,
          0.34380611790708027,
          0.3576197565729898,
          0.32231823553788774,
          0.3207833867972311,
          0.3115742943532915,
          0.34227126916642364,
          0.3698985464982426,
          0.3054348993906651,
          0.3345970254631406,
          0.34227126916642364,
          0.3345970254631406,
          0.3238530842785443,
          0.25631973968965355,
          0.29776065568738197,
          0.2885515632434424,
          0.32538793301920094,
          0.3361318742037972,
          0.37910763894218225,
          0.3284576305005142,
          0.2808773195401593,
          0.29776065568738197,
          0.2962258069467254,
          0.27320307583687625,
          0.2593894371709668,
          0.2609242859116234,
          0.26706368087424986,
          0.28701671450278576,
          0.3207833867972311,
          0.2593894371709668,
          0.2762727733181895,
          0.25631973968965355,
          0.25018034472702716,
          0.2931561094654122,
          0.26706368087424986,
          0.29008641198409896,
          0.2716682270962196,
          0.2992955044280386,
          0.34227126916642364,
          0.27934247079950275,
          0.27013337835556306,
          0.28701671450278576,
          0.26245913465228005,
          0.2471106472457139,
          0.27013337835556306,
          0.30390005065000847,
          0.30850459687197823,
          0.30850459687197823,
          0.25785458843031017,
          0.2517151934676838,
          0.219483369913895,
          0.23176215983914786,
          0.21641367243258178,
          0.28548186576212914,
          0.29776065568738197,
          0.29776065568738197,
          0.25785458843031017,
          0.2471106472457139,
          0.2824121682808159,
          0.2517151934676838,
          0.26245913465228005,
          0.24864549598637053,
          0.20566973124798552,
          0.23790155480177427,
          0.23022731109849123,
          0.26859852961490643,
          0.2286924623578346,
          0.26245913465228005,
          0.2609242859116234,
          0.25018034472702716,
          0.2532500422083404,
          0.2639939833929366,
          0.20566973124798552,
          0.26245913465228005,
          0.26245913465228005,
          0.2517151934676838,
          0.2363667060611177,
          0.22562276487652141,
          0.27320307583687625,
          0.24557579850505734,
          0.19953033628535907,
          0.21027427746995536,
          0.2471106472457139,
          0.20873942872929874,
          0.21180912621061193,
          0.23176215983914786,
          0.19799548754470248,
          0.21487882369192515,
          0.2286924623578346,
          0.18111215139747977,
          0.20873942872929874,
          0.2225530673952082,
          0.2179485211732384,
          0.21487882369192515,
          0.2363667060611177,
          0.18571669761944962,
          0.15808942028763065,
          0.2225530673952082,
          0.19185609258207603,
          0.1672985127315703,
          0.16576366399091372,
          0.20566973124798552,
          0.184181848878793,
          0.22562276487652141,
          0.14274093288106457,
          0.17650760517550995,
          0.19799548754470248,
          0.15962426902828727,
          0.20566973124798552,
          0.2010651850260157,
          0.14274093288106457,
          0.2179485211732384,
          0.1688333614722269,
          0.1642288152502571,
          0.1442757816217212,
          0.18111215139747977,
          0.1504151765843476,
          0.1672985127315703,
          0.17957730265682317,
          0.15501972280631743,
          0.184181848878793,
          0.1304621429558117,
          0.17650760517550995,
          0.1473454791030344,
          0.15808942028763065,
          0.1887863951007628,
          0.1458106303623778,
          0.12278789925252867,
          0.19953033628535907,
          0.19032124384141944,
          0.13353184043712493,
          0.16576366399091372,
          0.13813638665909475,
          0.13813638665909475,
          0.1504151765843476,
          0.15808942028763065,
          0.1688333614722269,
          0.1273924454744985,
          0.12892729421515509,
          0.15655457154697405,
          0.15348487406566083,
          0.1319969916964683,
          0.14120608414040794,
          0.1089742605866192,
          0.11818335303055885,
          0.14888032784369098,
          0.1703682102128835,
          0.15501972280631743,
          0.19339094132273263,
          0.12278789925252867,
          0.12892729421515509,
          0.2010651850260157,
          0.1319969916964683,
          0.15348487406566083,
          0.13506668917778153,
          0.17957730265682317,
          0.15962426902828727,
          0.15501972280631743,
          0.1304621429558117,
          0.1304621429558117,
          0.1688333614722269,
          0.11357880680858902,
          0.11818335303055885,
          0.15962426902828727,
          0.12278789925252867,
          0.15195002532500423,
          0.14888032784369098,
          0.12892729421515509,
          0.09823031940202293,
          0.11511365554924562,
          0.11050910932727578,
          0.11971820177121545,
          0.11818335303055885,
          0.13660153791843813,
          0.08902122695808329,
          0.10130001688333613,
          0.11357880680858902,
          0.12278789925252867,
          0.12432274799318527,
          0.12278789925252867,
          0.12278789925252867,
          0.08902122695808329,
          0.14274093288106457,
          0.10743941184596258,
          0.07674243703283042,
          0.11050910932727578,
          0.16269396650960047,
          0.1258575967338419,
          0.11050910932727578,
          0.11050910932727578,
          0.1442757816217212,
          0.11050910932727578,
          0.12278789925252867,
          0.11664850428990223,
          0.12278789925252867,
          0.10590456310530597,
          0.13353184043712493,
          0.15501972280631743,
          0.10590456310530597,
          0.10590456310530597,
          0.10436971436464937,
          0.08595152947677007,
          0.07060304207020397,
          0.09055607569873989,
          0.09823031940202293,
          0.11971820177121545,
          0.14120608414040794,
          0.11971820177121545,
          0.06753334458889076,
          0.11204395806793241,
          0.12125305051187206,
          0.13660153791843813,
          0.1273924454744985,
          0.08748637821742666,
          0.07981213451414364,
          0.10743941184596258,
          0.11818335303055885,
          0.08288183199545686,
          0.08134698325480023,
          0.10436971436464937,
          0.07674243703283042,
          0.07827728577348703,
          0.09823031940202293,
          0.10436971436464937,
          0.10283486562399276,
          0.1273924454744985,
          0.09976516814267954,
          0.08595152947677007,
          0.09516062192070972,
          0.0721378908108606,
          0.061393949626264335,
          0.0936257731800531,
          0.08595152947677007,
          0.0936257731800531,
          0.09976516814267954,
          0.09669547066136631,
          0.07827728577348703,
          0.10130001688333613,
          0.0721378908108606,
          0.09823031940202293,
          0.10590456310530597,
          0.0920909244393965,
          0.10283486562399276,
          0.0721378908108606,
          0.1089742605866192,
          0.07060304207020397,
          0.07827728577348703,
          0.09823031940202293,
          0.08748637821742666,
          0.07827728577348703,
          0.08288183199545686,
          0.08134698325480023,
          0.08595152947677007,
          0.05525455466363789,
          0.05525455466363789,
          0.11357880680858902,
          0.058324252144951114,
          0.06906819332954738,
          0.052184857182324684,
          0.06446364710757754,
          0.09055607569873989,
          0.06599849584823415,
          0.05371970592298129,
          0.04604546221969825,
          0.08595152947677007,
          0.05065000844166807,
          0.08441668073611346,
          0.07827728577348703,
          0.052184857182324684,
          0.07827728577348703,
          0.0736727395515172,
          0.05678940340429451,
          0.058324252144951114,
          0.052184857182324684,
          0.04758031096035486,
          0.08441668073611346,
          0.0920909244393965,
          0.05065000844166807,
          0.052184857182324684,
          0.05371970592298129,
          0.04758031096035486,
          0.06446364710757754,
          0.06446364710757754,
          0.058324252144951114,
          0.05065000844166807,
          0.08288183199545686,
          0.09823031940202293,
          0.07981213451414364,
          0.08595152947677007,
          0.05678940340429451,
          0.03990606725707182,
          0.044510613479041644,
          0.052184857182324684,
          0.06292879836692095,
          0.06292879836692095,
          0.04297576473838503,
          0.03990606725707182,
          0.08595152947677007,
          0.06753334458889076,
          0.0936257731800531,
          0.0752075882921738,
          0.030696974813132168,
          0.035301521035101986,
          0.06753334458889076,
          0.02455757985050573,
          0.044510613479041644,
          0.05678940340429451,
          0.06292879836692095,
          0.03837121851641521,
          0.03223182355378877,
          0.029162126072475557,
          0.04144091599772843,
          0.061393949626264335,
          0.04144091599772843,
          0.03990606725707182,
          0.06292879836692095,
          0.04758031096035486,
          0.05678940340429451,
          0.04604546221969825,
          0.052184857182324684,
          0.03837121851641521,
          0.06599849584823415,
          0.04604546221969825,
          0.035301521035101986,
          0.04604546221969825,
          0.058324252144951114,
          0.04297576473838503,
          0.04144091599772843,
          0.04297576473838503,
          0.08288183199545686,
          0.026092428591162342,
          0.04297576473838503,
          0.044510613479041644,
          0.06446364710757754,
          0.03376667229444538,
          0.04144091599772843,
          0.061393949626264335,
          0.04144091599772843,
          0.023022731109849124,
          0.06446364710757754,
          0.03837121851641521,
          0.058324252144951114,
          0.03837121851641521,
          0.03990606725707182
         ],
         "yaxis": "y"
        },
        {
         "marker": {
          "color": "#1CAC18"
         },
         "name": " % of Conversion",
         "type": "bar",
         "x": [
          1,
          2,
          3,
          4,
          5,
          6,
          7,
          8,
          9,
          10,
          11,
          12,
          13,
          14,
          15,
          16,
          17,
          18,
          19,
          20,
          21,
          22,
          23,
          24,
          25,
          26,
          27,
          28,
          29,
          30,
          31,
          32,
          33,
          34,
          35,
          36,
          37,
          38,
          39,
          40,
          41,
          42,
          43,
          44,
          45,
          46,
          47,
          48,
          49,
          50,
          51,
          52,
          53,
          54,
          55,
          56,
          57,
          58,
          59,
          60,
          61,
          62,
          63,
          64,
          65,
          66,
          67,
          68,
          69,
          70,
          71,
          72,
          73,
          74,
          75,
          76,
          77,
          78,
          79,
          80,
          81,
          82,
          83,
          84,
          85,
          86,
          87,
          88,
          89,
          90,
          91,
          92,
          93,
          94,
          95,
          96,
          97,
          98,
          99,
          100,
          101,
          102,
          103,
          104,
          105,
          106,
          107,
          108,
          109,
          110,
          111,
          112,
          113,
          114,
          115,
          116,
          117,
          118,
          119,
          120,
          121,
          122,
          123,
          124,
          125,
          126,
          127,
          128,
          129,
          130,
          131,
          132,
          133,
          134,
          135,
          136,
          137,
          138,
          139,
          140,
          141,
          142,
          143,
          144,
          145,
          146,
          147,
          148,
          149,
          150,
          151,
          152,
          153,
          154,
          155,
          156,
          157,
          158,
          159,
          160,
          161,
          162,
          163,
          164,
          165,
          166,
          167,
          168,
          169,
          170,
          171,
          172,
          173,
          174,
          175,
          176,
          177,
          178,
          179,
          180,
          181,
          182,
          183,
          184,
          185,
          186,
          187,
          188,
          189,
          190,
          191,
          192,
          193,
          194,
          195,
          196,
          197,
          198,
          199,
          200,
          201,
          202,
          203,
          204,
          205,
          206,
          207,
          208,
          209,
          210,
          211,
          212,
          213,
          214,
          215,
          216,
          217,
          218,
          219,
          220,
          221,
          222,
          223,
          224,
          225,
          226,
          227,
          228,
          229,
          230,
          231,
          232,
          233,
          234,
          235,
          236,
          237,
          238,
          239,
          240,
          241,
          242,
          243,
          244,
          245,
          246,
          247,
          248,
          249,
          250,
          251,
          252,
          253,
          254,
          255,
          256,
          257,
          258,
          259,
          260,
          261,
          262,
          263,
          264,
          265,
          266,
          267,
          268,
          269,
          270,
          271,
          272,
          273,
          274,
          275,
          276,
          277,
          278,
          279,
          280,
          281,
          282,
          283,
          284,
          285,
          286,
          287,
          288,
          289,
          290,
          291,
          292,
          293,
          294,
          295,
          296,
          297,
          298,
          299,
          300,
          301,
          302,
          303,
          304,
          305,
          306,
          307,
          308,
          309,
          310,
          311,
          312,
          313,
          314,
          315,
          316,
          317,
          318,
          319,
          320,
          321,
          322,
          323,
          324,
          325,
          326,
          327,
          328,
          329,
          330,
          331,
          332,
          333,
          334,
          335,
          336,
          337,
          338,
          339,
          340,
          341,
          342,
          343,
          344,
          345,
          346,
          347,
          348,
          349,
          350,
          351,
          352,
          353,
          354,
          355,
          356,
          357,
          358,
          359,
          360,
          361,
          362,
          363,
          364,
          365,
          366,
          367,
          368,
          369,
          370,
          371,
          372,
          373,
          374,
          375,
          376,
          377,
          378,
          379,
          380,
          381,
          382,
          383,
          384,
          385,
          386,
          387,
          388,
          389,
          390,
          391,
          392,
          393,
          394,
          395,
          396,
          397,
          398,
          399,
          400,
          401,
          402,
          403,
          404,
          405,
          406,
          407,
          408,
          409,
          410,
          411,
          412,
          413,
          414,
          415,
          416,
          417,
          418,
          419,
          420,
          421,
          422,
          423,
          424,
          425,
          426,
          427,
          428,
          429,
          430,
          431,
          432,
          433,
          434,
          435,
          436,
          437,
          438,
          439,
          440,
          441,
          442,
          444,
          445,
          446,
          447,
          448,
          449,
          450,
          452,
          453,
          456,
          459,
          460,
          461,
          463,
          465,
          466,
          469,
          475
         ],
         "xaxis": "x",
         "y": [
          5.863708399366086,
          7.448494453248812,
          4.516640253565769,
          4.595879556259905,
          2.931854199683043,
          4.3581616481774965,
          7.131537242472266,
          4.675118858954041,
          2.6148969889064975,
          2.218700475435816,
          1.5847860538827259,
          1.9017432646592711,
          1.0301109350237718,
          1.664025356576862,
          1.1885895404120443,
          1.109350237717908,
          1.0301109350237718,
          0.8716323296354992,
          1.2678288431061806,
          1.664025356576862,
          1.664025356576862,
          0.6339144215530903,
          0.6339144215530903,
          1.109350237717908,
          0.8716323296354992,
          0.8716323296354992,
          0.7923930269413629,
          0.7923930269413629,
          0.7923930269413629,
          0.4754358161648178,
          0.6339144215530903,
          0.39619651347068147,
          0.554675118858954,
          0.4754358161648178,
          0.31695721077654515,
          0.7131537242472267,
          0.554675118858954,
          0.7131537242472267,
          0.554675118858954,
          0.2377179080824089,
          0.07923930269413629,
          0.7923930269413629,
          0.2377179080824089,
          0.2377179080824089,
          0.39619651347068147,
          0.4754358161648178,
          0.39619651347068147,
          0.15847860538827258,
          0.39619651347068147,
          0.2377179080824089,
          0.39619651347068147,
          0.2377179080824089,
          0.4754358161648178,
          0.2377179080824089,
          0.2377179080824089,
          0.31695721077654515,
          0.31695721077654515,
          0.07923930269413629,
          0.2377179080824089,
          0.15847860538827258,
          0.6339144215530903,
          0.15847860538827258,
          0.15847860538827258,
          0.07923930269413629,
          0.2377179080824089,
          0.31695721077654515,
          0.2377179080824089,
          0.39619651347068147,
          0.07923930269413629,
          0.31695721077654515,
          0.2377179080824089,
          0.7131537242472267,
          0.31695721077654515,
          0.07923930269413629,
          0.15847860538827258,
          0.2377179080824089,
          0.31695721077654515,
          0.2377179080824089,
          0.31695721077654515,
          0.2377179080824089,
          0.2377179080824089,
          0.07923930269413629,
          0.07923930269413629,
          0.2377179080824089,
          0.15847860538827258,
          0.15847860538827258,
          0,
          0.2377179080824089,
          0.15847860538827258,
          0.31695721077654515,
          0.31695721077654515,
          0.07923930269413629,
          0.15847860538827258,
          0,
          0.07923930269413629,
          0,
          0.07923930269413629,
          0.07923930269413629,
          0.39619651347068147,
          0.31695721077654515,
          0.2377179080824089,
          0.15847860538827258,
          0.15847860538827258,
          0.39619651347068147,
          0.07923930269413629,
          0,
          0.31695721077654515,
          0.07923930269413629,
          0.07923930269413629,
          0,
          0.2377179080824089,
          0,
          0.07923930269413629,
          0.31695721077654515,
          0.4754358161648178,
          0.07923930269413629,
          0.07923930269413629,
          0.07923930269413629,
          0,
          0,
          0,
          0.15847860538827258,
          0,
          0.2377179080824089,
          0.07923930269413629,
          0.07923930269413629,
          0,
          0.07923930269413629,
          0,
          0.07923930269413629,
          0,
          0.2377179080824089,
          0,
          0.07923930269413629,
          0.15847860538827258,
          0.07923930269413629,
          0.07923930269413629,
          0.07923930269413629,
          0.15847860538827258,
          0,
          0.15847860538827258,
          0.07923930269413629,
          0.07923930269413629,
          0,
          0,
          0.07923930269413629,
          0.15847860538827258,
          0.15847860538827258,
          0,
          0,
          0,
          0,
          0.15847860538827258,
          0,
          0.15847860538827258,
          0,
          0.07923930269413629,
          0.15847860538827258,
          0,
          0.15847860538827258,
          0,
          0.07923930269413629,
          0,
          0.2377179080824089,
          0,
          0.07923930269413629,
          0,
          0.15847860538827258,
          0,
          0.07923930269413629,
          0,
          0,
          0.07923930269413629,
          0,
          0,
          0.07923930269413629,
          0.2377179080824089,
          0.07923930269413629,
          0,
          0.07923930269413629,
          0.07923930269413629,
          0.15847860538827258,
          0,
          0.07923930269413629,
          0.07923930269413629,
          0.15847860538827258,
          0.15847860538827258,
          0.07923930269413629,
          0.15847860538827258,
          0,
          0.07923930269413629,
          0,
          0.07923930269413629,
          0,
          0,
          0,
          0.15847860538827258,
          0.07923930269413629,
          0,
          0.07923930269413629,
          0.07923930269413629,
          0,
          0,
          0,
          0,
          0,
          0.15847860538827258,
          0,
          0,
          0,
          0.07923930269413629,
          0.07923930269413629,
          0,
          0.07923930269413629,
          0,
          0.07923930269413629,
          0,
          0.07923930269413629,
          0.07923930269413629,
          0.07923930269413629,
          0,
          0.07923930269413629,
          0,
          0.07923930269413629,
          0.07923930269413629,
          0,
          0,
          0,
          0,
          0,
          0,
          0,
          0,
          0.07923930269413629,
          0.07923930269413629,
          0,
          0.15847860538827258,
          0,
          0,
          0,
          0.07923930269413629,
          0,
          0,
          0,
          0,
          0,
          0,
          0,
          0,
          0,
          0,
          0,
          0,
          0,
          0,
          0,
          0,
          0,
          0.07923930269413629,
          0,
          0,
          0.07923930269413629,
          0,
          0,
          0,
          0,
          0,
          0,
          0.15847860538827258,
          0.07923930269413629,
          0,
          0.07923930269413629,
          0,
          0,
          0,
          0,
          0,
          0.07923930269413629,
          0,
          0,
          0,
          0,
          0.07923930269413629,
          0,
          0.15847860538827258,
          0,
          0,
          0,
          0,
          0,
          0,
          0,
          0,
          0,
          0,
          0,
          0.07923930269413629,
          0,
          0,
          0.07923930269413629,
          0,
          0,
          0,
          0,
          0,
          0,
          0,
          0,
          0.15847860538827258,
          0,
          0,
          0,
          0,
          0.07923930269413629,
          0,
          0,
          0,
          0.07923930269413629,
          0,
          0,
          0,
          0.07923930269413629,
          0,
          0,
          0,
          0,
          0,
          0,
          0,
          0,
          0,
          0,
          0,
          0,
          0,
          0,
          0,
          0,
          0,
          0,
          0,
          0,
          0,
          0,
          0,
          0,
          0,
          0,
          0,
          0,
          0,
          0,
          0,
          0,
          0,
          0,
          0,
          0.07923930269413629,
          0,
          0,
          0,
          0,
          0,
          0,
          0,
          0,
          0,
          0,
          0,
          0,
          0,
          0,
          0,
          0,
          0,
          0,
          0,
          0,
          0,
          0,
          0,
          0,
          0,
          0,
          0,
          0,
          0,
          0,
          0,
          0,
          0,
          0,
          0,
          0,
          0,
          0,
          0,
          0,
          0,
          0,
          0,
          0,
          0,
          0,
          0,
          0,
          0.07923930269413629,
          0,
          0,
          0,
          0.07923930269413629,
          0,
          0.07923930269413629,
          0,
          0,
          0,
          0,
          0.07923930269413629,
          0,
          0,
          0,
          0,
          0,
          0,
          0,
          0,
          0,
          0,
          0,
          0,
          0,
          0,
          0,
          0,
          0,
          0,
          0,
          0,
          0,
          0,
          0,
          0,
          0,
          0,
          0,
          0.07923930269413629,
          0,
          0,
          0,
          0.07923930269413629,
          0,
          0,
          0,
          0,
          0,
          0,
          0,
          0,
          0,
          0
         ],
         "yaxis": "y"
        },
        {
         "marker": {
          "color": "#b15a8b"
         },
         "name": " % of Revenue",
         "type": "bar",
         "x": [
          1,
          2,
          3,
          4,
          5,
          6,
          7,
          8,
          9,
          10,
          11,
          12,
          13,
          14,
          15,
          16,
          17,
          18,
          19,
          20,
          21,
          22,
          23,
          24,
          25,
          26,
          27,
          28,
          29,
          30,
          31,
          32,
          33,
          34,
          35,
          36,
          37,
          38,
          39,
          40,
          41,
          42,
          43,
          44,
          45,
          46,
          47,
          48,
          49,
          50,
          51,
          52,
          53,
          54,
          55,
          56,
          57,
          58,
          59,
          60,
          61,
          62,
          63,
          64,
          65,
          66,
          67,
          68,
          69,
          70,
          71,
          72,
          73,
          74,
          75,
          76,
          77,
          78,
          79,
          80,
          81,
          82,
          83,
          84,
          85,
          86,
          87,
          88,
          89,
          90,
          91,
          92,
          93,
          94,
          95,
          96,
          97,
          98,
          99,
          100,
          101,
          102,
          103,
          104,
          105,
          106,
          107,
          108,
          109,
          110,
          111,
          112,
          113,
          114,
          115,
          116,
          117,
          118,
          119,
          120,
          121,
          122,
          123,
          124,
          125,
          126,
          127,
          128,
          129,
          130,
          131,
          132,
          133,
          134,
          135,
          136,
          137,
          138,
          139,
          140,
          141,
          142,
          143,
          144,
          145,
          146,
          147,
          148,
          149,
          150,
          151,
          152,
          153,
          154,
          155,
          156,
          157,
          158,
          159,
          160,
          161,
          162,
          163,
          164,
          165,
          166,
          167,
          168,
          169,
          170,
          171,
          172,
          173,
          174,
          175,
          176,
          177,
          178,
          179,
          180,
          181,
          182,
          183,
          184,
          185,
          186,
          187,
          188,
          189,
          190,
          191,
          192,
          193,
          194,
          195,
          196,
          197,
          198,
          199,
          200,
          201,
          202,
          203,
          204,
          205,
          206,
          207,
          208,
          209,
          210,
          211,
          212,
          213,
          214,
          215,
          216,
          217,
          218,
          219,
          220,
          221,
          222,
          223,
          224,
          225,
          226,
          227,
          228,
          229,
          230,
          231,
          232,
          233,
          234,
          235,
          236,
          237,
          238,
          239,
          240,
          241,
          242,
          243,
          244,
          245,
          246,
          247,
          248,
          249,
          250,
          251,
          252,
          253,
          254,
          255,
          256,
          257,
          258,
          259,
          260,
          261,
          262,
          263,
          264,
          265,
          266,
          267,
          268,
          269,
          270,
          271,
          272,
          273,
          274,
          275,
          276,
          277,
          278,
          279,
          280,
          281,
          282,
          283,
          284,
          285,
          286,
          287,
          288,
          289,
          290,
          291,
          292,
          293,
          294,
          295,
          296,
          297,
          298,
          299,
          300,
          301,
          302,
          303,
          304,
          305,
          306,
          307,
          308,
          309,
          310,
          311,
          312,
          313,
          314,
          315,
          316,
          317,
          318,
          319,
          320,
          321,
          322,
          323,
          324,
          325,
          326,
          327,
          328,
          329,
          330,
          331,
          332,
          333,
          334,
          335,
          336,
          337,
          338,
          339,
          340,
          341,
          342,
          343,
          344,
          345,
          346,
          347,
          348,
          349,
          350,
          351,
          352,
          353,
          354,
          355,
          356,
          357,
          358,
          359,
          360,
          361,
          362,
          363,
          364,
          365,
          366,
          367,
          368,
          369,
          370,
          371,
          372,
          373,
          374,
          375,
          376,
          377,
          378,
          379,
          380,
          381,
          382,
          383,
          384,
          385,
          386,
          387,
          388,
          389,
          390,
          391,
          392,
          393,
          394,
          395,
          396,
          397,
          398,
          399,
          400,
          401,
          402,
          403,
          404,
          405,
          406,
          407,
          408,
          409,
          410,
          411,
          412,
          413,
          414,
          415,
          416,
          417,
          418,
          419,
          420,
          421,
          422,
          423,
          424,
          425,
          426,
          427,
          428,
          429,
          430,
          431,
          432,
          433,
          434,
          435,
          436,
          437,
          438,
          439,
          440,
          441,
          442,
          444,
          445,
          446,
          447,
          448,
          449,
          450,
          452,
          453,
          456,
          459,
          460,
          461,
          463,
          465,
          466,
          469,
          475
         ],
         "xaxis": "x",
         "y": [
          7.1872184463326825,
          8.249498861262055,
          5.092304020094556,
          5.587963227455664,
          2.999296073847567,
          5.861978141887021,
          8.222801743802226,
          4.975612090435478,
          2.4227458161241002,
          1.9123849610460715,
          1.8122307856725597,
          1.3155927479804275,
          0.8363817287308009,
          1.7284032443171387,
          0.9731364813838952,
          1.3083506830476381,
          1.0971856324852935,
          0.7082125336217026,
          0.8054558083376002,
          1.9955279609281646,
          1.5552654322358006,
          0.45181016756487696,
          0.4482914964402885,
          1.0824392016813367,
          0.7361443847670717,
          0.29859443163257204,
          0.6925320555737641,
          0.7597002885502252,
          0.7316021002244212,
          0.39514036970741495,
          0.5415362812418812,
          0.2065395974294765,
          0.48537829009345024,
          0.3626406436839439,
          0.4169497330960002,
          0.63632288375443,
          0.39717480137581335,
          0.45301291333109983,
          0.6011169797569573,
          0.3081908074269041,
          0.15346524170295756,
          0.8250580052934889,
          0.22630813156580043,
          0.22950692349724441,
          0.41439709713470785,
          0.41272732774649407,
          0.16689377023115948,
          0.1937636224552891,
          0.13233402220383847,
          0.29026477744309187,
          0.514129031973269,
          0.0473229278337826,
          0.1406380860578671,
          0.2686089560672159,
          0.01470804530077953,
          0.6434305994260986,
          0.3843284529791342,
          0.4772405634198567,
          0.3413942676752928,
          0.014701647716916644,
          0.44243130962188315,
          0.11011521344802774,
          0.30444182328325164,
          0.008950219824180324,
          0.39938836539237255,
          0.15894797107345257,
          0.1253734509610163,
          0.18823610999775386,
          0.10164481241356467,
          0.5049165112107102,
          0.3364233450138288,
          0.29446799004100926,
          0.1649680974884302,
          0.00575142789273632,
          0.017900439648360644,
          0.1192957462912727,
          0.36577545977675896,
          0.22382586902699986,
          0.31875321838453213,
          0.05947833717326981,
          0.16816688941987418,
          0.2993301537768041,
          0.057571857182129184,
          0.22630813156580043,
          0.07899096795507823,
          0,
          0,
          0.0703606273240423,
          0.1982419311593107,
          0.13553281413528243,
          0.537153936295803,
          0.016627320459645933,
          0.2608678795931214,
          0,
          0.3069304834059151,
          0,
          0.012788770141913128,
          0.011509253369335526,
          0.2346889664261837,
          0.2820374845954179,
          0.2416687304205945,
          0.21103709888508673,
          0.11507334094176662,
          0.6401550364882999,
          0.222559147422148,
          0,
          0.454951381241555,
          0.011509253369335526,
          0.01150285578547264,
          0,
          0.08570843101111064,
          0,
          0,
          0.2167117557714684,
          0.29083416240688886,
          0.05366293344190461,
          0.12466971673609861,
          0,
          0,
          0,
          0,
          0.1969624143867331,
          0,
          0.057571857182129184,
          0.10875252808523325,
          0.005111669506447519,
          0,
          0.012788770141913128,
          0,
          0.009589978210469124,
          0,
          0.1048308091772829,
          0,
          0.05365653585804173,
          0.08218975988652225,
          0.006391186279025121,
          0.049824383124171805,
          0.03837270800960227,
          0.36976755210720114,
          0,
          0.406732791666968,
          0.05366293344190461,
          0.00575142789273632,
          0,
          0,
          0.00575142789273632,
          0.12090153984085761,
          0.20712817514486215,
          0,
          0,
          0,
          0,
          0.19945107450939653,
          0,
          0.015347803687068331,
          0,
          0.010229736596757926,
          0.03261488253300306,
          0,
          0.15857691120940506,
          0,
          0.009589978210469124,
          0,
          0.209763979696372,
          0,
          0.25326754996401046,
          0,
          0.15921666959569386,
          0,
          0.01470804530077953,
          0,
          0,
          0.18417364424482,
          0,
          0,
          0.25326754996401046,
          0.4195215618088811,
          0.057571857182129184,
          0,
          0.00575142789273632,
          0.15346524170295756,
          0.286202311690158,
          0,
          0.022385145936245143,
          0.00575142789273632,
          0.4451310900120218,
          0.037093191237024675,
          0.05366293344190461,
          0.2625376489813352,
          0,
          0.015347803687068331,
          0,
          0.16114234233842314,
          0,
          0,
          0,
          0.07323314247847902,
          0.06364316426800991,
          0,
          0.18417364424482,
          0.05366293344190461,
          0,
          0,
          0,
          0,
          0,
          0.04093174155475748,
          0,
          0,
          0,
          0.006391186279025121,
          0.00575142789273632,
          0,
          0.010229736596757926,
          0,
          0.03997850155918716,
          0,
          0.015347803687068331,
          0.15353561512544933,
          0.00575142789273632,
          0,
          0.05366293344190461,
          0,
          0.025583937867689144,
          0,
          0,
          0,
          0,
          0,
          0,
          0,
          0,
          0,
          0.057571857182129184,
          0.15346524170295756,
          0,
          0.04157149994104628,
          0,
          0,
          0,
          0.057571857182129184,
          0,
          0,
          0,
          0,
          0,
          0,
          0,
          0,
          0,
          0,
          0,
          0,
          0,
          0,
          0,
          0,
          0,
          0,
          0,
          0,
          0.006391186279025121,
          0,
          0,
          0,
          0,
          0,
          0,
          0.023018506738671052,
          0.11507973852562949,
          0,
          0.15346524170295756,
          0,
          0,
          0,
          0,
          0,
          0.14578174348362904,
          0,
          0,
          0,
          0,
          0.014068286914490729,
          0,
          0.02253868794895445,
          0,
          0,
          0,
          0,
          0,
          0,
          0,
          0,
          0,
          0,
          0,
          0.006391186279025121,
          0,
          0,
          0.009589978210469124,
          0,
          0,
          0,
          0,
          0,
          0,
          0,
          0,
          0.03837270800960227,
          0,
          0,
          0,
          0,
          0.023018506738671052,
          0,
          0,
          0,
          0.011509253369335526,
          0,
          0,
          0,
          0.11507973852562949,
          0,
          0,
          0,
          0,
          0,
          0,
          0,
          0,
          0,
          0,
          0,
          0,
          0,
          0,
          0,
          0,
          0,
          0,
          0,
          0,
          0,
          0,
          0,
          0,
          0,
          0,
          0,
          0,
          0,
          0,
          0,
          0,
          0,
          0,
          0,
          0.006391186279025121,
          0,
          0,
          0,
          0,
          0,
          0,
          0,
          0,
          0,
          0,
          0,
          0,
          0,
          0,
          0,
          0,
          0,
          0,
          0,
          0,
          0,
          0,
          0,
          0,
          0,
          0,
          0,
          0,
          0,
          0,
          0,
          0,
          0,
          0,
          0,
          0,
          0,
          0,
          0,
          0,
          0,
          0,
          0,
          0,
          0,
          0,
          0,
          0,
          0.09972553725469827,
          0,
          0,
          0,
          0.057571857182129184,
          0,
          0.25326754996401046,
          0,
          0,
          0,
          0,
          0.0038321527338699172,
          0,
          0,
          0,
          0,
          0,
          0,
          0,
          0,
          0,
          0,
          0,
          0,
          0,
          0,
          0,
          0,
          0,
          0,
          0,
          0,
          0,
          0,
          0,
          0,
          0,
          0,
          0,
          0.15346524170295756,
          0,
          0,
          0,
          0.00575142789273632,
          0,
          0,
          0,
          0,
          0,
          0,
          0,
          0,
          0,
          0
         ],
         "yaxis": "y"
        },
        {
         "marker": {
          "color": "#415a6c"
         },
         "mode": "lines+markers",
         "name": "Cost",
         "type": "scatter",
         "x": [
          1,
          2,
          3,
          4,
          5,
          6,
          7,
          8,
          9,
          10,
          11,
          12,
          13,
          14,
          15,
          16,
          17,
          18,
          19,
          20,
          21,
          22,
          23,
          24,
          25,
          26,
          27,
          28,
          29,
          30,
          31,
          32,
          33,
          34,
          35,
          36,
          37,
          38,
          39,
          40,
          41,
          42,
          43,
          44,
          45,
          46,
          47,
          48,
          49,
          50,
          51,
          52,
          53,
          54,
          55,
          56,
          57,
          58,
          59,
          60,
          61,
          62,
          63,
          64,
          65,
          66,
          67,
          68,
          69,
          70,
          71,
          72,
          73,
          74,
          75,
          76,
          77,
          78,
          79,
          80,
          81,
          82,
          83,
          84,
          85,
          86,
          87,
          88,
          89,
          90,
          91,
          92,
          93,
          94,
          95,
          96,
          97,
          98,
          99,
          100,
          101,
          102,
          103,
          104,
          105,
          106,
          107,
          108,
          109,
          110,
          111,
          112,
          113,
          114,
          115,
          116,
          117,
          118,
          119,
          120,
          121,
          122,
          123,
          124,
          125,
          126,
          127,
          128,
          129,
          130,
          131,
          132,
          133,
          134,
          135,
          136,
          137,
          138,
          139,
          140,
          141,
          142,
          143,
          144,
          145,
          146,
          147,
          148,
          149,
          150,
          151,
          152,
          153,
          154,
          155,
          156,
          157,
          158,
          159,
          160,
          161,
          162,
          163,
          164,
          165,
          166,
          167,
          168,
          169,
          170,
          171,
          172,
          173,
          174,
          175,
          176,
          177,
          178,
          179,
          180,
          181,
          182,
          183,
          184,
          185,
          186,
          187,
          188,
          189,
          190,
          191,
          192,
          193,
          194,
          195,
          196,
          197,
          198,
          199,
          200,
          201,
          202,
          203,
          204,
          205,
          206,
          207,
          208,
          209,
          210,
          211,
          212,
          213,
          214,
          215,
          216,
          217,
          218,
          219,
          220,
          221,
          222,
          223,
          224,
          225,
          226,
          227,
          228,
          229,
          230,
          231,
          232,
          233,
          234,
          235,
          236,
          237,
          238,
          239,
          240,
          241,
          242,
          243,
          244,
          245,
          246,
          247,
          248,
          249,
          250,
          251,
          252,
          253,
          254,
          255,
          256,
          257,
          258,
          259,
          260,
          261,
          262,
          263,
          264,
          265,
          266,
          267,
          268,
          269,
          270,
          271,
          272,
          273,
          274,
          275,
          276,
          277,
          278,
          279,
          280,
          281,
          282,
          283,
          284,
          285,
          286,
          287,
          288,
          289,
          290,
          291,
          292,
          293,
          294,
          295,
          296,
          297,
          298,
          299,
          300,
          301,
          302,
          303,
          304,
          305,
          306,
          307,
          308,
          309,
          310,
          311,
          312,
          313,
          314,
          315,
          316,
          317,
          318,
          319,
          320,
          321,
          322,
          323,
          324,
          325,
          326,
          327,
          328,
          329,
          330,
          331,
          332,
          333,
          334,
          335,
          336,
          337,
          338,
          339,
          340,
          341,
          342,
          343,
          344,
          345,
          346,
          347,
          348,
          349,
          350,
          351,
          352,
          353,
          354,
          355,
          356,
          357,
          358,
          359,
          360,
          361,
          362,
          363,
          364,
          365,
          366,
          367,
          368,
          369,
          370,
          371,
          372,
          373,
          374,
          375,
          376,
          377,
          378,
          379,
          380,
          381,
          382,
          383,
          384,
          385,
          386,
          387,
          388,
          389,
          390,
          391,
          392,
          393,
          394,
          395,
          396,
          397,
          398,
          399,
          400,
          401,
          402,
          403,
          404,
          405,
          406,
          407,
          408,
          409,
          410,
          411,
          412,
          413,
          414,
          415,
          416,
          417,
          418,
          419,
          420,
          421,
          422,
          423,
          424,
          425,
          426,
          427,
          428,
          429,
          430,
          431,
          432,
          433,
          434,
          435,
          436,
          437,
          438,
          439,
          440,
          441,
          442,
          444,
          445,
          446,
          447,
          448,
          449,
          450,
          452,
          453,
          456,
          459,
          460,
          461,
          463,
          465,
          466,
          469,
          475
         ],
         "xaxis": "x",
         "y": [
          779.76,
          1935.1299999999999,
          3165.97,
          4622.59,
          6086.35,
          7787.610000000001,
          12306.62,
          16018.400000000001,
          19082.68,
          22062.7,
          24817.24,
          27557,
          30192.35,
          34060.63,
          37579.35,
          41178.36,
          44557.62,
          47993.350000000006,
          51275.58000000001,
          54675.52000000001,
          59135.76000000001,
          63496.01000000001,
          67573.64000000001,
          71609.06000000001,
          75491.85,
          79287.62000000001,
          82881.83000000002,
          87140.86000000002,
          91136.80000000002,
          95215.32000000002,
          99151.72000000002,
          103190.74000000002,
          106995.89000000001,
          110904.96000000002,
          114926.74000000002,
          118925.28000000001,
          122925.60000000002,
          126954.53000000001,
          130940.78000000001,
          134901.02000000002,
          138929.96000000002,
          143393.76,
          147691.12,
          152074.5,
          156361.36,
          160617,
          164859.61,
          169104.97999999998,
          173445.16999999998,
          177730.97999999998,
          181939.46999999997,
          186265.94999999998,
          190481.43,
          194651.50999999998,
          198813.18999999997,
          203088.27999999997,
          207319.43999999997,
          211591.33,
          215746.87,
          219974.77,
          224096.09999999998,
          228322.63999999998,
          232665.46999999997,
          237197.11999999997,
          241616.71999999997,
          246074.19999999998,
          250361.43,
          254657.32,
          259060.74000000002,
          263576.59,
          267906.80000000005,
          272392.27,
          276868.68,
          281168.87,
          285685.63,
          290258.54,
          294766.24,
          299201.83999999997,
          303533.95999999996,
          307976.73,
          312549.56,
          317106.52999999997,
          321722.88999999996,
          326416.82999999996,
          331290.64999999997,
          336160.06999999995,
          341278.25999999995,
          346073.20999999996,
          350780.22,
          355589.8,
          360563.76999999996,
          365657.86,
          370827.73,
          375950.24,
          381071.89,
          386135.73000000004,
          391231.59,
          396384.9,
          401688.80000000005,
          407011.25000000006,
          412234.73000000004,
          417432.7,
          422336.65,
          427472.16000000003,
          432424.58,
          437328.35000000003,
          442288.30000000005,
          447133.25000000006,
          451662.68000000005,
          456239.03,
          460711.52,
          465141.97000000003,
          469327.08,
          473506.5,
          477807.38,
          481877.31,
          485797.32,
          489483.09,
          493329.44,
          497083.89,
          500792.57,
          504332.57,
          507802.97000000003,
          511279.47000000003,
          514628.06000000006,
          517876.53,
          521134.31000000006,
          524168.5200000001,
          527266.67,
          530447.11,
          533596.77,
          536628.6900000001,
          539710.51,
          542851.52,
          545873.86,
          548785.15,
          551582.01,
          554378.42,
          557128.37,
          559982.33,
          562692.76,
          565294.21,
          567972.2,
          570678.88,
          573252.39,
          575692.92,
          578261.06,
          580960.3200000001,
          583702.76,
          586156,
          588568.7,
          591074.98,
          593533.85,
          596041.66,
          598629.4400000001,
          600931.89,
          603429.42,
          605947.15,
          608186.05,
          610503.05,
          612712.75,
          615036.81,
          617365.1100000001,
          619752.8,
          622128.3500000001,
          624470.2300000001,
          626713.2600000001,
          628851.7300000001,
          631027.4100000001,
          633166.4400000002,
          635444.4700000002,
          637469.4800000002,
          639605.6600000003,
          641797.4400000003,
          643960.1600000003,
          646223.6000000002,
          648442.3000000002,
          650561.4000000001,
          652660.1600000001,
          654729.3500000001,
          656855.5900000001,
          658863.28,
          660739.92,
          662730.7100000001,
          664784.8600000001,
          666857.0900000001,
          668868.0000000001,
          670808.3000000002,
          672677.6100000002,
          674699.0500000002,
          676643.2300000002,
          678617.2800000003,
          680467.1900000003,
          682285.2100000003,
          684166.6800000003,
          686194.8000000003,
          688096.3900000002,
          689920.1200000002,
          691857.9600000002,
          693707.1400000002,
          695481.1400000002,
          697150.4600000002,
          698877.8600000002,
          700621.1200000002,
          702400.7500000002,
          704156.6900000002,
          705686.3800000001,
          707382.5500000002,
          709146.7100000002,
          710623.6200000002,
          712368.3400000002,
          713954.4900000002,
          715416.6100000002,
          716964.6100000002,
          718489.8800000002,
          719965.1600000003,
          721529.5000000002,
          722961.7300000002,
          724328.4300000002,
          725746.0300000001,
          727040.8800000001,
          728415.3600000001,
          729747.5400000002,
          731074.3100000002,
          732385.2700000001,
          733792.1700000002,
          735178.5000000001,
          736591.5300000001,
          737881.4100000001,
          739100.9900000001,
          740323.5400000002,
          741540.2200000002,
          742688.3500000002,
          743804.5600000002,
          744806.6800000002,
          745975.1800000002,
          747041.6900000002,
          748102.9400000002,
          749253.5000000002,
          750401.1000000002,
          751481.5300000003,
          752522.0400000003,
          753539.7700000003,
          754598.6200000002,
          755641.9200000003,
          756613.7800000003,
          757623.8500000002,
          758524.2000000002,
          759569.4500000002,
          760497.9500000002,
          761585.8000000002,
          762516.0500000002,
          763592.3600000002,
          764560.4500000002,
          765417.0600000002,
          766392.6100000002,
          767233.0200000003,
          768064.5400000003,
          769008.9100000003,
          769880.6600000003,
          770808.3200000003,
          771721.0800000003,
          772633.7100000003,
          773491.7500000003,
          774480.6800000004,
          775298.5600000004,
          776146.4000000004,
          777071.6200000003,
          777873.1100000003,
          778741.3600000003,
          779559.1500000004,
          780472.7500000003,
          781357.4900000003,
          782146.3900000004,
          782843.8900000004,
          783682.0800000003,
          784530.4800000003,
          785428.6900000003,
          786142.3100000003,
          786883.5500000003,
          787767.0500000003,
          788525.0100000002,
          789286.1300000002,
          789983.7200000002,
          790721.3900000002,
          791377.8600000002,
          792205.5600000002,
          792950.4900000002,
          793604.2800000003,
          794429.2300000002,
          795064.5500000002,
          795775.1400000001,
          796491.8300000001,
          797135.6200000001,
          797937.4100000001,
          798602.0300000001,
          799323.9900000001,
          799998.43,
          800671.9,
          801346.35,
          801978.88,
          802797.52,
          803458.96,
          804184.5299999999,
          804836.0599999999,
          805464.22,
          806182.46,
          806838.2799999999,
          807475.0999999999,
          808049.1499999999,
          808684.7599999999,
          809247.3599999999,
          809818.0399999999,
          810424.1099999999,
          811063.4199999999,
          811583.6599999999,
          812231.96,
          812834.44,
          813467.21,
          814042.0299999999,
          814518.6199999999,
          815041.9999999999,
          815671.7999999999,
          816271.21,
          816799.8999999999,
          817430.7899999999,
          817987.7399999999,
          818607.2199999999,
          819233.8799999999,
          819774.8899999999,
          820250.4899999999,
          820732.9399999998,
          821292.6899999998,
          821775.2499999999,
          822356.6099999999,
          822861.4999999999,
          823369.9999999999,
          823866.1099999999,
          824348.6999999998,
          824839.0999999999,
          825298.8199999998,
          825865.2199999999,
          826349.1999999998,
          826833.7799999998,
          827308.8499999997,
          827783.0099999998,
          828218.2799999998,
          828700.5799999998,
          829123.5699999998,
          829621.3999999998,
          830090.4999999998,
          830580.4699999997,
          831118.1699999997,
          831592.3499999997,
          832039.6599999998,
          832517.6799999998,
          833060.1999999998,
          833541.8699999999,
          833976.1199999999,
          834503.0399999999,
          835000.1499999999,
          835421.58,
          835907.8099999999,
          836322.23,
          836769.46,
          837242.75,
          837682.75,
          838084.11,
          838525.78,
          838936.0800000001,
          839313.3300000001,
          839751.9900000001,
          840104.6400000001,
          840529.4800000001,
          840898.05,
          841271.43,
          841712.8300000001,
          842127.2600000001,
          842482.0300000001,
          842865.5800000002,
          843330.5800000002,
          843663.9000000001,
          844039.4000000001,
          844446.5100000001,
          844815.2000000001,
          845203.27,
          845552.8200000001,
          845910.5800000001,
          846275.7500000001,
          846624.0800000001,
          846979.18,
          847373.9600000001,
          847696.81,
          848053.1200000001,
          848378.8600000001,
          848786.56,
          849180.68,
          849507.3500000001,
          849889.3,
          850311.62,
          850683.71,
          851003.98,
          851379.46,
          851750.6,
          852204.34,
          852513.5299999999,
          852817.7799999999,
          853077.9299999999,
          853341.61,
          853669.87,
          853964.89,
          854272.15,
          854560.8200000001,
          854941.5900000001,
          855212.5000000001,
          855466.0900000001,
          855790.2100000001,
          856072.9600000001,
          856390.2200000001,
          856689.0300000001,
          856983.2100000002,
          857263.5400000002,
          857617.8200000002,
          857898.9300000002,
          858102.6900000002,
          858391.4800000002,
          858659.5900000002,
          858868.7500000002,
          859183.2200000002,
          859408.5200000003,
          859671.4200000003,
          859899.0700000003,
          860165.3900000002,
          860421.2900000003,
          860662.3900000002,
          860950.2300000002,
          861183.0400000003,
          861443.6900000003,
          861683.4900000003,
          861897.7800000004,
          862177.1200000003,
          862405.2100000003,
          862609.0600000003,
          862854.9900000003,
          863107.8400000003,
          863329.2200000003,
          863543.7000000003,
          863803.8400000003,
          864017.4800000003,
          864282.4700000003,
          864460.5000000003,
          864690.1500000004,
          864893.2700000004,
          865111.1100000003,
          865296.6000000003,
          865502.2300000003,
          865714.5200000004,
          865941.7400000003,
          866130.2000000003,
          866365.9000000003
         ],
         "yaxis": "y2"
        }
       ],
       "layout": {
        "legend": {
         "orientation": "h",
         "x": 0,
         "xanchor": "left",
         "y": 1,
         "yanchor": "bottom"
        },
        "template": {
         "data": {
          "bar": [
           {
            "error_x": {
             "color": "#2a3f5f"
            },
            "error_y": {
             "color": "#2a3f5f"
            },
            "marker": {
             "line": {
              "color": "#E5ECF6",
              "width": 0.5
             },
             "pattern": {
              "fillmode": "overlay",
              "size": 10,
              "solidity": 0.2
             }
            },
            "type": "bar"
           }
          ],
          "barpolar": [
           {
            "marker": {
             "line": {
              "color": "#E5ECF6",
              "width": 0.5
             },
             "pattern": {
              "fillmode": "overlay",
              "size": 10,
              "solidity": 0.2
             }
            },
            "type": "barpolar"
           }
          ],
          "carpet": [
           {
            "aaxis": {
             "endlinecolor": "#2a3f5f",
             "gridcolor": "white",
             "linecolor": "white",
             "minorgridcolor": "white",
             "startlinecolor": "#2a3f5f"
            },
            "baxis": {
             "endlinecolor": "#2a3f5f",
             "gridcolor": "white",
             "linecolor": "white",
             "minorgridcolor": "white",
             "startlinecolor": "#2a3f5f"
            },
            "type": "carpet"
           }
          ],
          "choropleth": [
           {
            "colorbar": {
             "outlinewidth": 0,
             "ticks": ""
            },
            "type": "choropleth"
           }
          ],
          "contour": [
           {
            "colorbar": {
             "outlinewidth": 0,
             "ticks": ""
            },
            "colorscale": [
             [
              0,
              "#0d0887"
             ],
             [
              0.1111111111111111,
              "#46039f"
             ],
             [
              0.2222222222222222,
              "#7201a8"
             ],
             [
              0.3333333333333333,
              "#9c179e"
             ],
             [
              0.4444444444444444,
              "#bd3786"
             ],
             [
              0.5555555555555556,
              "#d8576b"
             ],
             [
              0.6666666666666666,
              "#ed7953"
             ],
             [
              0.7777777777777778,
              "#fb9f3a"
             ],
             [
              0.8888888888888888,
              "#fdca26"
             ],
             [
              1,
              "#f0f921"
             ]
            ],
            "type": "contour"
           }
          ],
          "contourcarpet": [
           {
            "colorbar": {
             "outlinewidth": 0,
             "ticks": ""
            },
            "type": "contourcarpet"
           }
          ],
          "heatmap": [
           {
            "colorbar": {
             "outlinewidth": 0,
             "ticks": ""
            },
            "colorscale": [
             [
              0,
              "#0d0887"
             ],
             [
              0.1111111111111111,
              "#46039f"
             ],
             [
              0.2222222222222222,
              "#7201a8"
             ],
             [
              0.3333333333333333,
              "#9c179e"
             ],
             [
              0.4444444444444444,
              "#bd3786"
             ],
             [
              0.5555555555555556,
              "#d8576b"
             ],
             [
              0.6666666666666666,
              "#ed7953"
             ],
             [
              0.7777777777777778,
              "#fb9f3a"
             ],
             [
              0.8888888888888888,
              "#fdca26"
             ],
             [
              1,
              "#f0f921"
             ]
            ],
            "type": "heatmap"
           }
          ],
          "heatmapgl": [
           {
            "colorbar": {
             "outlinewidth": 0,
             "ticks": ""
            },
            "colorscale": [
             [
              0,
              "#0d0887"
             ],
             [
              0.1111111111111111,
              "#46039f"
             ],
             [
              0.2222222222222222,
              "#7201a8"
             ],
             [
              0.3333333333333333,
              "#9c179e"
             ],
             [
              0.4444444444444444,
              "#bd3786"
             ],
             [
              0.5555555555555556,
              "#d8576b"
             ],
             [
              0.6666666666666666,
              "#ed7953"
             ],
             [
              0.7777777777777778,
              "#fb9f3a"
             ],
             [
              0.8888888888888888,
              "#fdca26"
             ],
             [
              1,
              "#f0f921"
             ]
            ],
            "type": "heatmapgl"
           }
          ],
          "histogram": [
           {
            "marker": {
             "pattern": {
              "fillmode": "overlay",
              "size": 10,
              "solidity": 0.2
             }
            },
            "type": "histogram"
           }
          ],
          "histogram2d": [
           {
            "colorbar": {
             "outlinewidth": 0,
             "ticks": ""
            },
            "colorscale": [
             [
              0,
              "#0d0887"
             ],
             [
              0.1111111111111111,
              "#46039f"
             ],
             [
              0.2222222222222222,
              "#7201a8"
             ],
             [
              0.3333333333333333,
              "#9c179e"
             ],
             [
              0.4444444444444444,
              "#bd3786"
             ],
             [
              0.5555555555555556,
              "#d8576b"
             ],
             [
              0.6666666666666666,
              "#ed7953"
             ],
             [
              0.7777777777777778,
              "#fb9f3a"
             ],
             [
              0.8888888888888888,
              "#fdca26"
             ],
             [
              1,
              "#f0f921"
             ]
            ],
            "type": "histogram2d"
           }
          ],
          "histogram2dcontour": [
           {
            "colorbar": {
             "outlinewidth": 0,
             "ticks": ""
            },
            "colorscale": [
             [
              0,
              "#0d0887"
             ],
             [
              0.1111111111111111,
              "#46039f"
             ],
             [
              0.2222222222222222,
              "#7201a8"
             ],
             [
              0.3333333333333333,
              "#9c179e"
             ],
             [
              0.4444444444444444,
              "#bd3786"
             ],
             [
              0.5555555555555556,
              "#d8576b"
             ],
             [
              0.6666666666666666,
              "#ed7953"
             ],
             [
              0.7777777777777778,
              "#fb9f3a"
             ],
             [
              0.8888888888888888,
              "#fdca26"
             ],
             [
              1,
              "#f0f921"
             ]
            ],
            "type": "histogram2dcontour"
           }
          ],
          "mesh3d": [
           {
            "colorbar": {
             "outlinewidth": 0,
             "ticks": ""
            },
            "type": "mesh3d"
           }
          ],
          "parcoords": [
           {
            "line": {
             "colorbar": {
              "outlinewidth": 0,
              "ticks": ""
             }
            },
            "type": "parcoords"
           }
          ],
          "pie": [
           {
            "automargin": true,
            "type": "pie"
           }
          ],
          "scatter": [
           {
            "fillpattern": {
             "fillmode": "overlay",
             "size": 10,
             "solidity": 0.2
            },
            "type": "scatter"
           }
          ],
          "scatter3d": [
           {
            "line": {
             "colorbar": {
              "outlinewidth": 0,
              "ticks": ""
             }
            },
            "marker": {
             "colorbar": {
              "outlinewidth": 0,
              "ticks": ""
             }
            },
            "type": "scatter3d"
           }
          ],
          "scattercarpet": [
           {
            "marker": {
             "colorbar": {
              "outlinewidth": 0,
              "ticks": ""
             }
            },
            "type": "scattercarpet"
           }
          ],
          "scattergeo": [
           {
            "marker": {
             "colorbar": {
              "outlinewidth": 0,
              "ticks": ""
             }
            },
            "type": "scattergeo"
           }
          ],
          "scattergl": [
           {
            "marker": {
             "colorbar": {
              "outlinewidth": 0,
              "ticks": ""
             }
            },
            "type": "scattergl"
           }
          ],
          "scattermapbox": [
           {
            "marker": {
             "colorbar": {
              "outlinewidth": 0,
              "ticks": ""
             }
            },
            "type": "scattermapbox"
           }
          ],
          "scatterpolar": [
           {
            "marker": {
             "colorbar": {
              "outlinewidth": 0,
              "ticks": ""
             }
            },
            "type": "scatterpolar"
           }
          ],
          "scatterpolargl": [
           {
            "marker": {
             "colorbar": {
              "outlinewidth": 0,
              "ticks": ""
             }
            },
            "type": "scatterpolargl"
           }
          ],
          "scatterternary": [
           {
            "marker": {
             "colorbar": {
              "outlinewidth": 0,
              "ticks": ""
             }
            },
            "type": "scatterternary"
           }
          ],
          "surface": [
           {
            "colorbar": {
             "outlinewidth": 0,
             "ticks": ""
            },
            "colorscale": [
             [
              0,
              "#0d0887"
             ],
             [
              0.1111111111111111,
              "#46039f"
             ],
             [
              0.2222222222222222,
              "#7201a8"
             ],
             [
              0.3333333333333333,
              "#9c179e"
             ],
             [
              0.4444444444444444,
              "#bd3786"
             ],
             [
              0.5555555555555556,
              "#d8576b"
             ],
             [
              0.6666666666666666,
              "#ed7953"
             ],
             [
              0.7777777777777778,
              "#fb9f3a"
             ],
             [
              0.8888888888888888,
              "#fdca26"
             ],
             [
              1,
              "#f0f921"
             ]
            ],
            "type": "surface"
           }
          ],
          "table": [
           {
            "cells": {
             "fill": {
              "color": "#EBF0F8"
             },
             "line": {
              "color": "white"
             }
            },
            "header": {
             "fill": {
              "color": "#C8D4E3"
             },
             "line": {
              "color": "white"
             }
            },
            "type": "table"
           }
          ]
         },
         "layout": {
          "annotationdefaults": {
           "arrowcolor": "#2a3f5f",
           "arrowhead": 0,
           "arrowwidth": 1
          },
          "autotypenumbers": "strict",
          "coloraxis": {
           "colorbar": {
            "outlinewidth": 0,
            "ticks": ""
           }
          },
          "colorscale": {
           "diverging": [
            [
             0,
             "#8e0152"
            ],
            [
             0.1,
             "#c51b7d"
            ],
            [
             0.2,
             "#de77ae"
            ],
            [
             0.3,
             "#f1b6da"
            ],
            [
             0.4,
             "#fde0ef"
            ],
            [
             0.5,
             "#f7f7f7"
            ],
            [
             0.6,
             "#e6f5d0"
            ],
            [
             0.7,
             "#b8e186"
            ],
            [
             0.8,
             "#7fbc41"
            ],
            [
             0.9,
             "#4d9221"
            ],
            [
             1,
             "#276419"
            ]
           ],
           "sequential": [
            [
             0,
             "#0d0887"
            ],
            [
             0.1111111111111111,
             "#46039f"
            ],
            [
             0.2222222222222222,
             "#7201a8"
            ],
            [
             0.3333333333333333,
             "#9c179e"
            ],
            [
             0.4444444444444444,
             "#bd3786"
            ],
            [
             0.5555555555555556,
             "#d8576b"
            ],
            [
             0.6666666666666666,
             "#ed7953"
            ],
            [
             0.7777777777777778,
             "#fb9f3a"
            ],
            [
             0.8888888888888888,
             "#fdca26"
            ],
            [
             1,
             "#f0f921"
            ]
           ],
           "sequentialminus": [
            [
             0,
             "#0d0887"
            ],
            [
             0.1111111111111111,
             "#46039f"
            ],
            [
             0.2222222222222222,
             "#7201a8"
            ],
            [
             0.3333333333333333,
             "#9c179e"
            ],
            [
             0.4444444444444444,
             "#bd3786"
            ],
            [
             0.5555555555555556,
             "#d8576b"
            ],
            [
             0.6666666666666666,
             "#ed7953"
            ],
            [
             0.7777777777777778,
             "#fb9f3a"
            ],
            [
             0.8888888888888888,
             "#fdca26"
            ],
            [
             1,
             "#f0f921"
            ]
           ]
          },
          "colorway": [
           "#636efa",
           "#EF553B",
           "#00cc96",
           "#ab63fa",
           "#FFA15A",
           "#19d3f3",
           "#FF6692",
           "#B6E880",
           "#FF97FF",
           "#FECB52"
          ],
          "font": {
           "color": "#2a3f5f"
          },
          "geo": {
           "bgcolor": "white",
           "lakecolor": "white",
           "landcolor": "#E5ECF6",
           "showlakes": true,
           "showland": true,
           "subunitcolor": "white"
          },
          "hoverlabel": {
           "align": "left"
          },
          "hovermode": "closest",
          "mapbox": {
           "style": "light"
          },
          "paper_bgcolor": "white",
          "plot_bgcolor": "#E5ECF6",
          "polar": {
           "angularaxis": {
            "gridcolor": "white",
            "linecolor": "white",
            "ticks": ""
           },
           "bgcolor": "#E5ECF6",
           "radialaxis": {
            "gridcolor": "white",
            "linecolor": "white",
            "ticks": ""
           }
          },
          "scene": {
           "xaxis": {
            "backgroundcolor": "#E5ECF6",
            "gridcolor": "white",
            "gridwidth": 2,
            "linecolor": "white",
            "showbackground": true,
            "ticks": "",
            "zerolinecolor": "white"
           },
           "yaxis": {
            "backgroundcolor": "#E5ECF6",
            "gridcolor": "white",
            "gridwidth": 2,
            "linecolor": "white",
            "showbackground": true,
            "ticks": "",
            "zerolinecolor": "white"
           },
           "zaxis": {
            "backgroundcolor": "#E5ECF6",
            "gridcolor": "white",
            "gridwidth": 2,
            "linecolor": "white",
            "showbackground": true,
            "ticks": "",
            "zerolinecolor": "white"
           }
          },
          "shapedefaults": {
           "line": {
            "color": "#2a3f5f"
           }
          },
          "ternary": {
           "aaxis": {
            "gridcolor": "white",
            "linecolor": "white",
            "ticks": ""
           },
           "baxis": {
            "gridcolor": "white",
            "linecolor": "white",
            "ticks": ""
           },
           "bgcolor": "#E5ECF6",
           "caxis": {
            "gridcolor": "white",
            "linecolor": "white",
            "ticks": ""
           }
          },
          "title": {
           "x": 0.05
          },
          "xaxis": {
           "automargin": true,
           "gridcolor": "white",
           "linecolor": "white",
           "ticks": "",
           "title": {
            "standoff": 15
           },
           "zerolinecolor": "white",
           "zerolinewidth": 2
          },
          "yaxis": {
           "automargin": true,
           "gridcolor": "white",
           "linecolor": "white",
           "ticks": "",
           "title": {
            "standoff": 15
           },
           "zerolinecolor": "white",
           "zerolinewidth": 2
          }
         }
        },
        "title": {
         "text": "<b>Share of different metrics and cumulative cost vs frequency</b>"
        },
        "xaxis": {
         "anchor": "y",
         "domain": [
          0,
          0.94
         ],
         "range": [
          0,
          100
         ],
         "tickmode": "array",
         "ticktext": [
          1,
          2,
          3,
          4,
          5,
          6,
          7,
          8,
          9,
          10,
          11,
          12,
          13,
          14,
          15,
          16,
          17,
          18,
          19,
          20,
          21,
          22,
          23,
          24,
          25,
          26,
          27,
          28,
          29,
          30,
          31,
          32,
          33,
          34,
          35,
          36,
          37,
          38,
          39,
          40,
          41,
          42,
          43,
          44,
          45,
          46,
          47,
          48,
          49,
          50,
          51,
          52,
          53,
          54,
          55,
          56,
          57,
          58,
          59,
          60,
          61,
          62,
          63,
          64,
          65,
          66,
          67,
          68,
          69,
          70,
          71,
          72,
          73,
          74,
          75,
          76,
          77,
          78,
          79,
          80,
          81,
          82,
          83,
          84,
          85,
          86,
          87,
          88,
          89,
          90,
          91,
          92,
          93,
          94,
          95,
          96,
          97,
          98,
          99,
          100,
          101,
          102,
          103,
          104,
          105,
          106,
          107,
          108,
          109,
          110,
          111,
          112,
          113,
          114,
          115,
          116,
          117,
          118,
          119,
          120,
          121,
          122,
          123,
          124,
          125,
          126,
          127,
          128,
          129,
          130,
          131,
          132,
          133,
          134,
          135,
          136,
          137,
          138,
          139,
          140,
          141,
          142,
          143,
          144,
          145,
          146,
          147,
          148,
          149,
          150,
          151,
          152,
          153,
          154,
          155,
          156,
          157,
          158,
          159,
          160,
          161,
          162,
          163,
          164,
          165,
          166,
          167,
          168,
          169,
          170,
          171,
          172,
          173,
          174,
          175,
          176,
          177,
          178,
          179,
          180,
          181,
          182,
          183,
          184,
          185,
          186,
          187,
          188,
          189,
          190,
          191,
          192,
          193,
          194,
          195,
          196,
          197,
          198,
          199,
          200,
          201,
          202,
          203,
          204,
          205,
          206,
          207,
          208,
          209,
          210,
          211,
          212,
          213,
          214,
          215,
          216,
          217,
          218,
          219,
          220,
          221,
          222,
          223,
          224,
          225,
          226,
          227,
          228,
          229,
          230,
          231,
          232,
          233,
          234,
          235,
          236,
          237,
          238,
          239,
          240,
          241,
          242,
          243,
          244,
          245,
          246,
          247,
          248,
          249,
          250,
          251,
          252,
          253,
          254,
          255,
          256,
          257,
          258,
          259,
          260,
          261,
          262,
          263,
          264,
          265,
          266,
          267,
          268,
          269,
          270,
          271,
          272,
          273,
          274,
          275,
          276,
          277,
          278,
          279,
          280,
          281,
          282,
          283,
          284,
          285,
          286,
          287,
          288,
          289,
          290,
          291,
          292,
          293,
          294,
          295,
          296,
          297,
          298,
          299,
          300,
          301,
          302,
          303,
          304,
          305,
          306,
          307,
          308,
          309,
          310,
          311,
          312,
          313,
          314,
          315,
          316,
          317,
          318,
          319,
          320,
          321,
          322,
          323,
          324,
          325,
          326,
          327,
          328,
          329,
          330,
          331,
          332,
          333,
          334,
          335,
          336,
          337,
          338,
          339,
          340,
          341,
          342,
          343,
          344,
          345,
          346,
          347,
          348,
          349,
          350,
          351,
          352,
          353,
          354,
          355,
          356,
          357,
          358,
          359,
          360,
          361,
          362,
          363,
          364,
          365,
          366,
          367,
          368,
          369,
          370,
          371,
          372,
          373,
          374,
          375,
          376,
          377,
          378,
          379,
          380,
          381,
          382,
          383,
          384,
          385,
          386,
          387,
          388,
          389,
          390,
          391,
          392,
          393,
          394,
          395,
          396,
          397,
          398,
          399,
          400,
          401,
          402,
          403,
          404,
          405,
          406,
          407,
          408,
          409,
          410,
          411,
          412,
          413,
          414,
          415,
          416,
          417,
          418,
          419,
          420,
          421,
          422,
          423,
          424,
          425,
          426,
          427,
          428,
          429,
          430,
          431,
          432,
          433,
          434,
          435,
          436,
          437,
          438,
          439,
          440,
          441,
          442,
          444,
          445,
          446,
          447,
          448,
          449,
          450,
          452,
          453,
          456,
          459,
          460,
          461,
          463,
          465,
          466,
          469,
          475
         ],
         "tickvals": [
          1,
          2,
          3,
          4,
          5,
          6,
          7,
          8,
          9,
          10,
          11,
          12,
          13,
          14,
          15,
          16,
          17,
          18,
          19,
          20,
          21,
          22,
          23,
          24,
          25,
          26,
          27,
          28,
          29,
          30,
          31,
          32,
          33,
          34,
          35,
          36,
          37,
          38,
          39,
          40,
          41,
          42,
          43,
          44,
          45,
          46,
          47,
          48,
          49,
          50,
          51,
          52,
          53,
          54,
          55,
          56,
          57,
          58,
          59,
          60,
          61,
          62,
          63,
          64,
          65,
          66,
          67,
          68,
          69,
          70,
          71,
          72,
          73,
          74,
          75,
          76,
          77,
          78,
          79,
          80,
          81,
          82,
          83,
          84,
          85,
          86,
          87,
          88,
          89,
          90,
          91,
          92,
          93,
          94,
          95,
          96,
          97,
          98,
          99,
          100,
          101,
          102,
          103,
          104,
          105,
          106,
          107,
          108,
          109,
          110,
          111,
          112,
          113,
          114,
          115,
          116,
          117,
          118,
          119,
          120,
          121,
          122,
          123,
          124,
          125,
          126,
          127,
          128,
          129,
          130,
          131,
          132,
          133,
          134,
          135,
          136,
          137,
          138,
          139,
          140,
          141,
          142,
          143,
          144,
          145,
          146,
          147,
          148,
          149,
          150,
          151,
          152,
          153,
          154,
          155,
          156,
          157,
          158,
          159,
          160,
          161,
          162,
          163,
          164,
          165,
          166,
          167,
          168,
          169,
          170,
          171,
          172,
          173,
          174,
          175,
          176,
          177,
          178,
          179,
          180,
          181,
          182,
          183,
          184,
          185,
          186,
          187,
          188,
          189,
          190,
          191,
          192,
          193,
          194,
          195,
          196,
          197,
          198,
          199,
          200,
          201,
          202,
          203,
          204,
          205,
          206,
          207,
          208,
          209,
          210,
          211,
          212,
          213,
          214,
          215,
          216,
          217,
          218,
          219,
          220,
          221,
          222,
          223,
          224,
          225,
          226,
          227,
          228,
          229,
          230,
          231,
          232,
          233,
          234,
          235,
          236,
          237,
          238,
          239,
          240,
          241,
          242,
          243,
          244,
          245,
          246,
          247,
          248,
          249,
          250,
          251,
          252,
          253,
          254,
          255,
          256,
          257,
          258,
          259,
          260,
          261,
          262,
          263,
          264,
          265,
          266,
          267,
          268,
          269,
          270,
          271,
          272,
          273,
          274,
          275,
          276,
          277,
          278,
          279,
          280,
          281,
          282,
          283,
          284,
          285,
          286,
          287,
          288,
          289,
          290,
          291,
          292,
          293,
          294,
          295,
          296,
          297,
          298,
          299,
          300,
          301,
          302,
          303,
          304,
          305,
          306,
          307,
          308,
          309,
          310,
          311,
          312,
          313,
          314,
          315,
          316,
          317,
          318,
          319,
          320,
          321,
          322,
          323,
          324,
          325,
          326,
          327,
          328,
          329,
          330,
          331,
          332,
          333,
          334,
          335,
          336,
          337,
          338,
          339,
          340,
          341,
          342,
          343,
          344,
          345,
          346,
          347,
          348,
          349,
          350,
          351,
          352,
          353,
          354,
          355,
          356,
          357,
          358,
          359,
          360,
          361,
          362,
          363,
          364,
          365,
          366,
          367,
          368,
          369,
          370,
          371,
          372,
          373,
          374,
          375,
          376,
          377,
          378,
          379,
          380,
          381,
          382,
          383,
          384,
          385,
          386,
          387,
          388,
          389,
          390,
          391,
          392,
          393,
          394,
          395,
          396,
          397,
          398,
          399,
          400,
          401,
          402,
          403,
          404,
          405,
          406,
          407,
          408,
          409,
          410,
          411,
          412,
          413,
          414,
          415,
          416,
          417,
          418,
          419,
          420,
          421,
          422,
          423,
          424,
          425,
          426,
          427,
          428,
          429,
          430,
          431,
          432,
          433,
          434,
          435,
          436,
          437,
          438,
          439,
          440,
          441,
          442,
          444,
          445,
          446,
          447,
          448,
          449,
          450,
          452,
          453,
          456,
          459,
          460,
          461,
          463,
          465,
          466,
          469,
          475
         ],
         "title": {
          "text": "<b>Frequency</b>"
         }
        },
        "yaxis": {
         "anchor": "x",
         "domain": [
          0,
          1
         ],
         "title": {
          "text": "<b>% of metric</b>"
         }
        },
        "yaxis2": {
         "anchor": "x",
         "overlaying": "y",
         "side": "right",
         "title": {
          "text": "<b>USD Dollar</b>"
         }
        }
       }
      }
     },
     "metadata": {},
     "output_type": "display_data"
    }
   ],
   "source": [
    "fig = make_subplots(specs=[[{\"secondary_y\": True}]])\n",
    "\n",
    "fig.add_trace(go.Bar(x=df.frequency,\n",
    "                     y=df[\"reach\"]/df[\"reach\"].sum()*100,\n",
    "                     name=\"% of Reach\", \n",
    "                     marker_color=c_reach\n",
    "                     ), \n",
    "                     secondary_y=False,)\n",
    "\n",
    "fig.add_trace(go.Bar(x=df.frequency,\n",
    "                     y=df[\"total_impressions\"]/df[\"total_impressions\"].sum()*100,\n",
    "                     name=\"% of Impressions\", \n",
    "                     marker_color=c_impressions\n",
    "                     ), \n",
    "                     secondary_y=False,)\n",
    "\n",
    "\n",
    "fig.add_trace(go.Bar(x=df.frequency,\n",
    "                     y=df[\"total_clicks\"]/df[\"total_clicks\"].sum()*100,\n",
    "                     name=\"% of Clicks\", \n",
    "                     marker_color=c_clicks\n",
    "                     ), \n",
    "                     secondary_y=False,)\n",
    "\n",
    "fig.add_trace(go.Bar(x=df.frequency,\n",
    "                     y=df[\"total_conversions\"]/df[\"total_conversions\"].sum()*100,\n",
    "                     name=\" % of Conversion\", \n",
    "                     marker_color=c_conversions\n",
    "                     ), \n",
    "                     secondary_y=False,)\n",
    "\n",
    "fig.add_trace(go.Bar(x=df.frequency,\n",
    "                     y=df[\"total_revenue\"]/df[\"total_revenue\"].sum()*100,\n",
    "                     name=\" % of Revenue\", \n",
    "                     marker_color=c_revenue\n",
    "                     ), \n",
    "                     secondary_y=False,)\n",
    "fig.add_trace(go.Scatter(\n",
    "\n",
    "                        x=df.frequency, \n",
    "                        y=df.cumsum_total_cost,\n",
    "                        mode='lines+markers',\n",
    "                        name='Cost', \n",
    "                        marker_color=c_cost\n",
    "                        ), \n",
    "                        secondary_y=True,)\n",
    "\n",
    "\n",
    "fig.update_layout(\n",
    "    title='<b>Share of different metrics and cumulative cost vs frequency</b>',\n",
    "    #template=\"plotly_dark\",\n",
    "    xaxis = dict(\n",
    "        tickmode = 'array',\n",
    "        tickvals = df[\"frequency\"],\n",
    "        ticktext = df[\"frequency\"]),\n",
    "    xaxis_title=\"<b>Frequency</b>\",\n",
    "    xaxis_range=[0,100]\n",
    ")\n",
    "\n",
    "fig.update_layout(legend=dict(\n",
    "    orientation=\"h\",\n",
    "    yanchor=\"bottom\",\n",
    "    y=1,\n",
    "    xanchor=\"left\",\n",
    "    x=0\n",
    "))\n",
    "\n",
    "# Set y-axes titles\n",
    "fig.update_yaxes(title_text=\"<b>% of metric</b>\", secondary_y=False)\n",
    "fig.update_yaxes(title_text=\"<b>USD Dollar</b>\", secondary_y=True)"
   ]
  },
  {
   "cell_type": "markdown",
   "id": "9f0041fe",
   "metadata": {},
   "source": [
    "#### Plot 2 - CPA And ROAS vs Frequency"
   ]
  },
  {
   "cell_type": "code",
   "execution_count": 20,
   "id": "b5eb71e2",
   "metadata": {},
   "outputs": [
    {
     "data": {
      "application/vnd.plotly.v1+json": {
       "config": {
        "plotlyServerURL": "https://plot.ly"
       },
       "data": [
        {
         "marker": {
          "color": "#ff007f"
         },
         "mode": "lines",
         "name": "CPA",
         "type": "scatter",
         "x": [
          1,
          2,
          3,
          4,
          5,
          6,
          7,
          8,
          9,
          10,
          11,
          12,
          13,
          14,
          15,
          16,
          17,
          18,
          19,
          20,
          21,
          22,
          23,
          24,
          25,
          26,
          27,
          28,
          29,
          30,
          31,
          32,
          33,
          34,
          35,
          36,
          37,
          38,
          39,
          40,
          41,
          42,
          43,
          44,
          45,
          46,
          47,
          48,
          49,
          50,
          51,
          52,
          53,
          54,
          55,
          56,
          57,
          58,
          59,
          60,
          61,
          62,
          63,
          64,
          65,
          66,
          67,
          68,
          69,
          70,
          71,
          72,
          73,
          74,
          75,
          76,
          77,
          78,
          79,
          80,
          81,
          82,
          83,
          84,
          85,
          86,
          87,
          88,
          89,
          90,
          91,
          92,
          93,
          94,
          95,
          96,
          97,
          98,
          99,
          100,
          101,
          102,
          103,
          104,
          105,
          106,
          107,
          108,
          109,
          110,
          111,
          112,
          113,
          114,
          115,
          116,
          117,
          118,
          119,
          120,
          121,
          122,
          123,
          124,
          125,
          126,
          127,
          128,
          129,
          130,
          131,
          132,
          133,
          134,
          135,
          136,
          137,
          138,
          139,
          140,
          141,
          142,
          143,
          144,
          145,
          146,
          147,
          148,
          149,
          150,
          151,
          152,
          153,
          154,
          155,
          156,
          157,
          158,
          159,
          160,
          161,
          162,
          163,
          164,
          165,
          166,
          167,
          168,
          169,
          170,
          171,
          172,
          173,
          174,
          175,
          176,
          177,
          178,
          179,
          180,
          181,
          182,
          183,
          184,
          185,
          186,
          187,
          188,
          189,
          190,
          191,
          192,
          193,
          194,
          195,
          196,
          197,
          198,
          199,
          200,
          201,
          202,
          203,
          204,
          205,
          206,
          207,
          208,
          209,
          210,
          211,
          212,
          213,
          214,
          215,
          216,
          217,
          218,
          219,
          220,
          221,
          222,
          223,
          224,
          225,
          226,
          227,
          228,
          229,
          230,
          231,
          232,
          233,
          234,
          235,
          236,
          237,
          238,
          239,
          240,
          241,
          242,
          243,
          244,
          245,
          246,
          247,
          248,
          249,
          250,
          251,
          252,
          253,
          254,
          255,
          256,
          257,
          258,
          259,
          260,
          261,
          262,
          263,
          264,
          265,
          266,
          267,
          268,
          269,
          270,
          271,
          272,
          273,
          274,
          275,
          276,
          277,
          278,
          279,
          280,
          281,
          282,
          283,
          284,
          285,
          286,
          287,
          288,
          289,
          290,
          291,
          292,
          293,
          294,
          295,
          296,
          297,
          298,
          299,
          300,
          301,
          302,
          303,
          304,
          305,
          306,
          307,
          308,
          309,
          310,
          311,
          312,
          313,
          314,
          315,
          316,
          317,
          318,
          319,
          320,
          321,
          322,
          323,
          324,
          325,
          326,
          327,
          328,
          329,
          330,
          331,
          332,
          333,
          334,
          335,
          336,
          337,
          338,
          339,
          340,
          341,
          342,
          343,
          344,
          345,
          346,
          347,
          348,
          349,
          350,
          351,
          352,
          353,
          354,
          355,
          356,
          357,
          358,
          359,
          360,
          361,
          362,
          363,
          364,
          365,
          366,
          367,
          368,
          369,
          370,
          371,
          372,
          373,
          374,
          375,
          376,
          377,
          378,
          379,
          380,
          381,
          382,
          383,
          384,
          385,
          386,
          387,
          388,
          389,
          390,
          391,
          392,
          393,
          394,
          395,
          396,
          397,
          398,
          399,
          400,
          401,
          402,
          403,
          404,
          405,
          406,
          407,
          408,
          409,
          410,
          411,
          412,
          413,
          414,
          415,
          416,
          417,
          418,
          419,
          420,
          421,
          422,
          423,
          424,
          425,
          426,
          427,
          428,
          429,
          430,
          431,
          432,
          433,
          434,
          435,
          436,
          437,
          438,
          439,
          440,
          441,
          442,
          444,
          445,
          446,
          447,
          448,
          449,
          450,
          452,
          453,
          456,
          459,
          460,
          461,
          463,
          465,
          466,
          469,
          475
         ],
         "xaxis": "x",
         "y": [
          10.537297297297297,
          11.518630952380951,
          14.070977777777777,
          16.334240282685514,
          19.01984375,
          20.76696,
          26.465849462365593,
          30.569465648854965,
          34.2597486535009,
          37.714017094017095,
          41.02023140495868,
          43.810810810810814,
          47.02858255451713,
          51.37349924585218,
          55.42676991150442,
          59.50630057803468,
          63.20229787234043,
          67.0298184357542,
          70.04860655737706,
          72.6102523240372,
          76.40279069767443,
          81.19694373401536,
          85.53625316455698,
          89.06599502487563,
          92.62803680981595,
          95.98985472154965,
          99.14094497607657,
          103.00338061465723,
          106.46822429906544,
          110.45860788863112,
          113.96749425287358,
          117.93227428571431,
          121.31053287981861,
          124.892972972973,
          128.84163677130047,
          131.99254162042178,
          135.38061674008813,
          138.44550708833154,
          141.71080086580088,
          145.52429341963324,
          149.70900862068967,
          152.87181236673774,
          156.95124335812963,
          161.0958686440678,
          164.76434141201264,
          168.1853403141361,
          171.72876041666666,
          175.78480249480248,
          179.36418821096171,
          183.22781443298967,
          186.6045846153846,
          190.455981595092,
          193.57868902439023,
          197.2153090172239,
          200.82140404040402,
          204.3141649899396,
          207.73490981963926,
          211.80313313313312,
          215.31623752495008,
          219.09837649402388,
          221.43883399209483,
          225.1702564102564,
          229.00144685039368,
          233.23217305801373,
          236.87913725490193,
          240.30683593749998,
          243.7793865628043,
          246.76096899224808,
          250.7848402710552,
          254.17221793635488,
          257.60269230769234,
          259.6685128693994,
          262.93321937321934,
          266.76363377609107,
          270.53563446969696,
          274.0873843248347,
          277.2965569143932,
          280.677148217636,
          283.6765981308411,
          287.0239794967381,
          290.4735687732342,
          294.4350324976787,
          298.44423933209646,
          301.95821461609614,
          305.9008771929824,
          309.8249493087557,
          314.5421751152073,
          318.0819944852941,
          321.81671559633025,
          325.0363802559415,
          328.3823041894353,
          332.71870791628754,
          336.8099273387829,
          341.46252497729336,
          345.80026315789473,
          350.39539927404724,
          354.69772438803267,
          359.0442934782609,
          362.2081154192967,
          365.6884546271339,
          369.38595878136204,
          373.37450805008945,
          377.0862946428572,
          379.97525333333334,
          384.0360390763766,
          388.3910746003553,
          391.40557522123896,
          395.3432802829355,
          398.9953003533569,
          403.0380123674912,
          405.91323348017625,
          409.8167136563877,
          413.1400352112676,
          415.3565789473684,
          416.9348865619546,
          420.1197122929381,
          423.16839721254354,
          426.00791122715407,
          429.35547432550044,
          432.62305483028723,
          435.85080069625764,
          438.1690443092963,
          441.18416159860993,
          443.0498006932409,
          445.56541991342,
          447.9900778546713,
          450.8082266435987,
          453.04107173725157,
          455.71881590319794,
          458.07177029360963,
          460.79168393782385,
          462.2124806201551,
          464.8669336778639,
          467.16998278829607,
          468.9637972508591,
          471.0602145922747,
          473.05489708404804,
          475.0457754927164,
          476.58543199315653,
          479.0268006843456,
          480.52327924850556,
          482.3329436860068,
          484.2047740835464,
          486.5122591645354,
          488.7062148337596,
          490.3687563884157,
          491.7185884353742,
          493.17514431239397,
          495.50319185059425,
          497.58573853989816,
          499.63387096774187,
          501.7614431239389,
          502.9947881355932,
          505.12005084745766,
          506.4546869712352,
          508.402614213198,
          510.0840405748098,
          511.34780590717304,
          513.2371729957806,
          514.3243892165123,
          516.1859730412806,
          517.7077525252525,
          519.6676010101011,
          520.3633921074728,
          522.3579764903443,
          523.8844211409397,
          525.7661577181209,
          526.6764907872698,
          528.4986683417087,
          529.8463933054395,
          531.7526945606696,
          533.4472635983266,
          534.7873411371239,
          536.6199331103682,
          538.4282274247494,
          539.8693400167086,
          540.3685833333335,
          541.6830974188177,
          543.4306078268111,
          544.6999584026623,
          546.0146217788862,
          546.7745062240664,
          548.3318838174274,
          549.5279519071311,
          550.774531897266,
          551.5774110835401,
          552.3270024772916,
          553.4721947194721,
          554.1001729818782,
          555.765280065898,
          556.9080082304529,
          558.5327407407409,
          559.5947286184213,
          561.0898108552634,
          562.6370723684213,
          564.3049342105265,
          564.9395648604271,
          565.9722067268254,
          567.5619031993439,
          568.6124098360658,
          569.5996232596235,
          570.9667977067978,
          572.3815397215399,
          573.8092710892713,
          575.2667895167897,
          576.7049058149059,
          577.0125756336878,
          578.3994685200329,
          579.8419542109568,
          581.0495666394115,
          582.0002777777779,
          582.8199918367349,
          584.0135591836737,
          584.79984502447,
          586.0439477977163,
          586.7686715566424,
          588.0436022819888,
          588.7310504885995,
          589.3640602115543,
          590.0374227642278,
          591.0901463414635,
          591.7265312753859,
          592.808724614135,
          593.4044724025975,
          593.9864314679644,
          595.1274695863748,
          596.2518248175184,
          597.3978345498784,
          598.4439659367398,
          599.4330819140309,
          600.4246066504462,
          601.4113706407139,
          602.3425385239256,
          602.7589627228526,
          603.0823319838058,
          604.0284858299597,
          603.9140582053357,
          604.7719805982216,
          605.7021018593373,
          606.6298302344384,
          607.0125444264945,
          607.8530210016157,
          608.6750969305333,
          609.5303877221327,
          610.3731179321488,
          611.1581421647821,
          611.974030694669,
          612.7012924071084,
          613.5455977382877,
          614.2955977382877,
          615.1743134087238,
          615.9257269789986,
          616.7951211631665,
          617.577100161551,
          618.2690306946689,
          619.0570355411957,
          619.7358804523427,
          620.4075444264946,
          620.6690153349477,
          621.3726069410817,
          622.1213236481035,
          622.3557096774196,
          623.0917016129034,
          623.7836693548389,
          624.5811935483874,
          625.2407741935488,
          625.9245161290326,
          626.6706612903229,
          626.3068518518521,
          626.5014963797267,
          627.1594127111829,
          627.3896704180067,
          628.100876205788,
          628.7350401929264,
          629.2957315112543,
          629.9695176848877,
          630.6515112540195,
          630.866417670683,
          631.439606425703,
          632.0349799196789,
          632.7446184738958,
          633.3534216867472,
          633.4559630818621,
          634.0158266452651,
          633.5908573717951,
          634.1168750000002,
          634.7800961538463,
          635.3769951923078,
          635.9008653846156,
          636.5618830128207,
          637.0709535256411,
          637.6403365384616,
          638.214607371795,
          638.7304647435898,
          639.3729246794873,
          639.9054727564104,
          639.9711689351482,
          640.5111529223379,
          641.0503602882306,
          641.07708,
          641.583104,
          642.238016,
          642.767168,
          643.3476239999999,
          643.868848,
          644.3713759999999,
          644.945968,
          645.4706239999999,
          644.948162939297,
          645.4066693290735,
          645.9143450479232,
          646.3637060702874,
          646.819520766773,
          646.7869992019153,
          647.2972226656025,
          647.7124181963287,
          648.2298164405427,
          648.1933333333333,
          648.6979346092504,
          649.1563237639552,
          649.5363795853268,
          649.4358565737051,
          649.9376892430279,
          650.4153067729084,
          650.8365737051793,
          651.3392749003983,
          651.7830597609561,
          652.276669322709,
          652.776,
          653.2070836653386,
          653.5860478087649,
          653.9704701195218,
          654.4164860557768,
          654.8009960159361,
          655.2642310756971,
          655.6665338645417,
          656.0717131474103,
          656.4670199203186,
          656.8515537848605,
          657.242310756972,
          657.6086215139441,
          658.05993625498,
          658.4455776892429,
          658.8316972111552,
          659.2102390438245,
          659.5880557768922,
          659.9348844621512,
          660.3191872509959,
          660.6562310756971,
          661.0529083665336,
          661.4266932270914,
          661.8171075697209,
          662.2455537848604,
          662.6233864541831,
          662.9798087649401,
          663.360701195219,
          663.7929880478086,
          663.6479856687897,
          663.9937261146496,
          664.4132484076432,
          664.8090366242037,
          665.1445700636942,
          665.5316958598726,
          665.8616480891719,
          666.2177229299363,
          666.594546178344,
          666.9448646496816,
          667.2644187898089,
          667.6160668789809,
          667.9427388535032,
          668.243097133758,
          668.5923487261148,
          668.8731210191083,
          669.2113694267516,
          669.5048168789809,
          669.8020939490447,
          670.1535270700638,
          670.4834872611466,
          670.7659474522294,
          671.071321656051,
          671.4415445859875,
          671.7069267515925,
          672.0058917197454,
          672.3300238853504,
          672.6235668789809,
          672.9325398089172,
          673.2108439490446,
          673.4956847133759,
          673.7864251592357,
          674.0637579617835,
          674.3464808917198,
          674.660796178344,
          674.917842356688,
          675.2015286624205,
          675.4608757961785,
          675.7854777070064,
          676.0992675159237,
          676.3593550955414,
          676.6634554140128,
          676.9996974522293,
          677.2959474522293,
          677.5509394904459,
          677.8498885350318,
          678.145382165605,
          678.5066401273886,
          678.752810509554,
          678.454876690533,
          678.6618377088305,
          678.8716070007955,
          679.1327525855211,
          678.8274165341812,
          679.0716613672496,
          678.7615726767276,
          679.0640111199365,
          679.279189833201,
          679.4806115965052,
          679.73805401112,
          679.4229841269841,
          679.6747777777779,
          679.9119285714287,
          680.145404761905,
          680.367888888889,
          680.6490634920636,
          680.8721666666668,
          681.0338809523811,
          681.2630793650795,
          681.4758650793652,
          681.6418650793653,
          681.8914444444446,
          682.0702539682542,
          682.278904761905,
          682.4595793650795,
          682.6709444444447,
          682.8740396825399,
          683.0653888888891,
          683.2938333333335,
          683.4786031746033,
          683.6854682539685,
          683.8757857142859,
          684.0458571428575,
          684.2675555555559,
          684.4485793650796,
          684.6103650793654,
          684.8055476190478,
          685.0062222222225,
          684.6385567010312,
          684.8086439333864,
          685.0149405233943,
          685.1843616177639,
          684.8514025356579,
          684.9924722662444,
          685.1744453248814,
          685.3353961965138,
          685.5080110935027,
          685.65499207607,
          685.8179318542,
          685.9861489698893,
          686.1661965134709,
          686.3155309033283,
          686.5022979397784
         ],
         "yaxis": "y"
        },
        {
         "marker": {
          "color": "#415a6c"
         },
         "mode": "lines",
         "name": "ROAS",
         "type": "scatter",
         "x": [
          1,
          2,
          3,
          4,
          5,
          6,
          7,
          8,
          9,
          10,
          11,
          12,
          13,
          14,
          15,
          16,
          17,
          18,
          19,
          20,
          21,
          22,
          23,
          24,
          25,
          26,
          27,
          28,
          29,
          30,
          31,
          32,
          33,
          34,
          35,
          36,
          37,
          38,
          39,
          40,
          41,
          42,
          43,
          44,
          45,
          46,
          47,
          48,
          49,
          50,
          51,
          52,
          53,
          54,
          55,
          56,
          57,
          58,
          59,
          60,
          61,
          62,
          63,
          64,
          65,
          66,
          67,
          68,
          69,
          70,
          71,
          72,
          73,
          74,
          75,
          76,
          77,
          78,
          79,
          80,
          81,
          82,
          83,
          84,
          85,
          86,
          87,
          88,
          89,
          90,
          91,
          92,
          93,
          94,
          95,
          96,
          97,
          98,
          99,
          100,
          101,
          102,
          103,
          104,
          105,
          106,
          107,
          108,
          109,
          110,
          111,
          112,
          113,
          114,
          115,
          116,
          117,
          118,
          119,
          120,
          121,
          122,
          123,
          124,
          125,
          126,
          127,
          128,
          129,
          130,
          131,
          132,
          133,
          134,
          135,
          136,
          137,
          138,
          139,
          140,
          141,
          142,
          143,
          144,
          145,
          146,
          147,
          148,
          149,
          150,
          151,
          152,
          153,
          154,
          155,
          156,
          157,
          158,
          159,
          160,
          161,
          162,
          163,
          164,
          165,
          166,
          167,
          168,
          169,
          170,
          171,
          172,
          173,
          174,
          175,
          176,
          177,
          178,
          179,
          180,
          181,
          182,
          183,
          184,
          185,
          186,
          187,
          188,
          189,
          190,
          191,
          192,
          193,
          194,
          195,
          196,
          197,
          198,
          199,
          200,
          201,
          202,
          203,
          204,
          205,
          206,
          207,
          208,
          209,
          210,
          211,
          212,
          213,
          214,
          215,
          216,
          217,
          218,
          219,
          220,
          221,
          222,
          223,
          224,
          225,
          226,
          227,
          228,
          229,
          230,
          231,
          232,
          233,
          234,
          235,
          236,
          237,
          238,
          239,
          240,
          241,
          242,
          243,
          244,
          245,
          246,
          247,
          248,
          249,
          250,
          251,
          252,
          253,
          254,
          255,
          256,
          257,
          258,
          259,
          260,
          261,
          262,
          263,
          264,
          265,
          266,
          267,
          268,
          269,
          270,
          271,
          272,
          273,
          274,
          275,
          276,
          277,
          278,
          279,
          280,
          281,
          282,
          283,
          284,
          285,
          286,
          287,
          288,
          289,
          290,
          291,
          292,
          293,
          294,
          295,
          296,
          297,
          298,
          299,
          300,
          301,
          302,
          303,
          304,
          305,
          306,
          307,
          308,
          309,
          310,
          311,
          312,
          313,
          314,
          315,
          316,
          317,
          318,
          319,
          320,
          321,
          322,
          323,
          324,
          325,
          326,
          327,
          328,
          329,
          330,
          331,
          332,
          333,
          334,
          335,
          336,
          337,
          338,
          339,
          340,
          341,
          342,
          343,
          344,
          345,
          346,
          347,
          348,
          349,
          350,
          351,
          352,
          353,
          354,
          355,
          356,
          357,
          358,
          359,
          360,
          361,
          362,
          363,
          364,
          365,
          366,
          367,
          368,
          369,
          370,
          371,
          372,
          373,
          374,
          375,
          376,
          377,
          378,
          379,
          380,
          381,
          382,
          383,
          384,
          385,
          386,
          387,
          388,
          389,
          390,
          391,
          392,
          393,
          394,
          395,
          396,
          397,
          398,
          399,
          400,
          401,
          402,
          403,
          404,
          405,
          406,
          407,
          408,
          409,
          410,
          411,
          412,
          413,
          414,
          415,
          416,
          417,
          418,
          419,
          420,
          421,
          422,
          423,
          424,
          425,
          426,
          427,
          428,
          429,
          430,
          431,
          432,
          433,
          434,
          435,
          436,
          437,
          438,
          439,
          440,
          441,
          442,
          444,
          445,
          446,
          447,
          448,
          449,
          450,
          452,
          453,
          456,
          459,
          460,
          461,
          463,
          465,
          466,
          469,
          475
         ],
         "xaxis": "x",
         "y": [
          14.40734328511336,
          12.468919400763765,
          10.135506653569044,
          8.831239629731378,
          7.477613019297276,
          7.020661024370759,
          5.487058997515155,
          4.701123707736101,
          4.144672027199532,
          3.720337039437601,
          3.4215472792300816,
          3.1559948470443064,
          2.9238230876364364,
          2.671082126196725,
          2.4614539634134163,
          2.2959853185022414,
          2.160346759993015,
          2.028758359231017,
          1.9234479648986895,
          1.8608894803378173,
          1.7616433778816734,
          1.6517941836030319,
          1.5624888640008137,
          1.4980647700165306,
          1.4362566290268415,
          1.373384646934792,
          1.3268878112367928,
          1.275662989784585,
          1.2322786185163397,
          1.1859811005203778,
          1.1474338518787162,
          1.105650371341459,
          1.0734203902598496,
          1.0406965567635562,
          1.0099489466072034,
          0.9843556391038133,
          0.9573725082488916,
          0.9325676681249575,
          0.9113531323091245,
          0.8881698596496895,
          0.8641397435081675,
          0.8462330578401736,
          0.8240053972100692,
          0.802613324390348,
          0.7847511687030607,
          0.7679753077196063,
          0.749794082371055,
          0.7327615662176241,
          0.7156179673380355,
          0.7009143256848075,
          0.689118309512499,
          0.6735089800363406,
          0.6597578567107566,
          0.6477806414139814,
          0.6343365347138187,
          0.625935726079319,
          0.6160587256072081,
          0.607146427029879,
          0.5979254762768982,
          0.5865378561368653,
          0.5788368918513086,
          0.568875736545443,
          0.5603026525594882,
          0.5496570531716407,
          0.5421866086088746,
          0.5333748926136914,
          0.5250240422416504,
          0.5173226514753239,
          0.5091426821370155,
          0.5034138653967715,
          0.4972399730055378,
          0.49074171598188165,
          0.4837387529712643,
          0.4763724376741992,
          0.46893881221817146,
          0.46219329153932914,
          0.4570648592593236,
          0.4514582864864735,
          0.4466564136678479,
          0.4405149700758236,
          0.4349109306056933,
          0.43013652225956994,
          0.42424426188637054,
          0.4192272500164896,
          0.4134324346310407,
          0.4074436919292645,
          0.401333211204253,
          0.3960904110433743,
          0.39165877140963073,
          0.38695710619370965,
          0.38394767172530947,
          0.37866985821117033,
          0.3744902518482099,
          0.36938763491679105,
          0.36568199769340104,
          0.3608863909071558,
          0.3562368774975455,
          0.3516509079937201,
          0.3479209527375419,
          0.3444543609052574,
          0.34100608165643864,
          0.33755002902264236,
          0.3340564689330181,
          0.3323840083527309,
          0.3293818080369066,
          0.3256884443919539,
          0.32364392184916474,
          0.32017728495923736,
          0.31700624457172316,
          0.31382648257866047,
          0.31107071079967774,
          0.3081077805126894,
          0.3053603043745099,
          0.30338041822023554,
          0.301601034291266,
          0.2992277847653793,
          0.2972143815037925,
          0.29497638008291555,
          0.2926765327445286,
          0.290465961389334,
          0.2883148805502445,
          0.2869015974915123,
          0.2849408698810878,
          0.2831793930626628,
          0.2816671131379815,
          0.2799157358994429,
          0.2781658916297411,
          0.27659383283833966,
          0.27496860364794135,
          0.27334821373614404,
          0.2717347220823692,
          0.27050478795682703,
          0.26896016903580383,
          0.26755842923678264,
          0.2663123857955021,
          0.2649178098204732,
          0.2637157074792919,
          0.2624936591146529,
          0.2622354341783024,
          0.26089894657926066,
          0.26077207746550696,
          0.259720402938498,
          0.25851164898563683,
          0.2572855508512947,
          0.2561305152168662,
          0.25506031931051,
          0.25425436739592994,
          0.2536303339959602,
          0.25243868985646034,
          0.25138215765086414,
          0.250351675174028,
          0.24929013236188735,
          0.24878264314663762,
          0.2477359049030229,
          0.24670505680442295,
          0.2457598148102939,
          0.2447691396949123,
          0.24383624875535748,
          0.2429386205092996,
          0.24242262180344537,
          0.24154834382016682,
          0.24065996960409555,
          0.23975235659170938,
          0.2393577245637291,
          0.238443755215463,
          0.23818349194964808,
          0.23733102439862191,
          0.2369197107877876,
          0.23610285011232693,
          0.23534153199907415,
          0.23449784683782024,
          0.2337529319835043,
          0.23342232462420648,
          0.2326251722038652,
          0.23184390785914433,
          0.23164446485705545,
          0.23186314341306832,
          0.23124621288628538,
          0.2305025941831655,
          0.22978785050647244,
          0.22940922220057514,
          0.22938915339158053,
          0.2287376400687276,
          0.2281033272171737,
          0.227412023191984,
          0.22774872199379306,
          0.22715069341035876,
          0.22661870760990857,
          0.2265990092936196,
          0.22592010467481735,
          0.2253064292093779,
          0.22465102863281025,
          0.22441045247163174,
          0.2238124874493466,
          0.2231969993043213,
          0.22253731739150429,
          0.2220886814999855,
          0.221645804444723,
          0.22102499189284436,
          0.22085080456285894,
          0.22040807605508875,
          0.21988031105939432,
          0.2193368380563663,
          0.21879109210981226,
          0.2182367544453787,
          0.21769254226640927,
          0.21731132178008009,
          0.21679025019771814,
          0.21625093628369207,
          0.21580149559340547,
          0.21528698201270405,
          0.2148212836367201,
          0.21438224645077758,
          0.21394167558702767,
          0.2134875024266171,
          0.21313684123270604,
          0.21267474164257985,
          0.21228660333099486,
          0.21221737768873686,
          0.21181524065656934,
          0.2114380005702015,
          0.21115418269049105,
          0.2107687132456792,
          0.21044090579519856,
          0.21006421934182237,
          0.2096614631360809,
          0.20926610340209867,
          0.20886466071636717,
          0.20849954737306609,
          0.20815550524428306,
          0.20781176294893958,
          0.20747079639186636,
          0.20715006503064143,
          0.20696018588538875,
          0.20700379593802756,
          0.20667954394943783,
          0.20647146212147785,
          0.20617856414252267,
          0.2058619545988104,
          0.20554712672995787,
          0.20537135490209557,
          0.20508738853681915,
          0.20481039773123025,
          0.20452300853664399,
          0.20424062762425854,
          0.20397828334556603,
          0.20370633791425624,
          0.20346454338569525,
          0.20318455409179476,
          0.20293648391820093,
          0.20264660921986702,
          0.20239938556047415,
          0.20211409658420335,
          0.2018581787744838,
          0.20163227090862043,
          0.20137561086347086,
          0.20115502849447195,
          0.20093725456977843,
          0.20069049655094343,
          0.20046325101867057,
          0.2002219955280189,
          0.19999812626603353,
          0.1997618897575667,
          0.19954029244655777,
          0.19928550057568864,
          0.19907526979025955,
          0.1988578056923278,
          0.19862103572898435,
          0.19846263872008604,
          0.19847235287464346,
          0.1982641471144297,
          0.198339416718905,
          0.1981148347346101,
          0.1979150092350356,
          0.19773867047745594,
          0.19752717836804407,
          0.1973135702770908,
          0.19737804586690075,
          0.19719887611697146,
          0.19701311585430878,
          0.19679216082977802,
          0.19660299677748938,
          0.19644127029066097,
          0.19626780410107664,
          0.1961292586254683,
          0.19596656393697923,
          0.19576181717280525,
          0.19557791054520918,
          0.19541678883082608,
          0.19521386442439911,
          0.19505787297396143,
          0.19488369541174635,
          0.1947083374351747,
          0.194551085297129,
          0.19435559488306206,
          0.1941938464644271,
          0.1940309460748198,
          0.1938673679647094,
          0.1937043001009525,
          0.19355997565846506,
          0.19340731267137584,
          0.19321008864103095,
          0.1930510302604626,
          0.19287685128685556,
          0.19272071383083883,
          0.1925704161011644,
          0.19239885223997533,
          0.1922424652434684,
          0.19216513301772384,
          0.19202861608108843,
          0.1918776854407394,
          0.19174428940985344,
          0.19160916691853375,
          0.1915102698511769,
          0.19135931441711407,
          0.19123664958951964,
          0.19108401004067832,
          0.19096450932861536,
          0.19081596417389685,
          0.1906812231795941,
          0.19056965204797877,
          0.19066797784654024,
          0.19052075847172825,
          0.19038085393211385,
          0.19025762613340164,
          0.19011078601529047,
          0.1899813437301638,
          0.18983757558356235,
          0.1896923623324756,
          0.1895671749594573,
          0.18945725957445006,
          0.18934589124691384,
          0.1892168430234048,
          0.18910573176790108,
          0.18897204462185796,
          0.18885609546685542,
          0.18873946099566397,
          0.18862580717150734,
          0.18851538190088715,
          0.18840330192882448,
          0.1882983547704574,
          0.18816921482660312,
          0.18805900701543593,
          0.1879487918357664,
          0.18784086499255975,
          0.18773326840810597,
          0.18763460521542685,
          0.1875254027214508,
          0.18742973378503744,
          0.18731726303106438,
          0.18721140646712603,
          0.18710096807356894,
          0.18697992127882354,
          0.1868733039691862,
          0.18677283965045594,
          0.1866655972999875,
          0.18654403367247632,
          0.18644822245102077,
          0.18635113916691026,
          0.1862334737570277,
          0.1861226012953409,
          0.18602871139622684,
          0.18592050240564187,
          0.18582837383145948,
          0.1857290537348242,
          0.1856240618386959,
          0.1855265612190293,
          0.1854377122124411,
          0.18534003808445795,
          0.185249393493721,
          0.18516612860181764,
          0.1850694036461882,
          0.1849917172222734,
          0.18489821439695345,
          0.18481717254547064,
          0.184735145469043,
          0.1846382690875697,
          0.1845474043911128,
          0.1844696913001216,
          0.18438574748775455,
          0.18428407991561244,
          0.1842112718109662,
          0.18412931908154975,
          0.18404054982712853,
          0.18396023177613258,
          0.1838757675416942,
          0.18379975363336828,
          0.1837220194125008,
          0.1836427429239226,
          0.18356718604082203,
          0.18349022463574585,
          0.18340473903635157,
          0.18333488833112374,
          0.18325786007367062,
          0.1831874971519208,
          0.1830995061938773,
          0.18301452642563631,
          0.18294414992407046,
          0.18286193272464993,
          0.182771111607295,
          0.18269116731998997,
          0.18262241264723558,
          0.1825418715175485,
          0.18246233110959925,
          0.1823651825101006,
          0.1822990422216523,
          0.18241678779258078,
          0.1823611589623469,
          0.1823048099107693,
          0.18223470859994137,
          0.18227713085487604,
          0.18221157039943278,
          0.18261327496853857,
          0.18253194349803453,
          0.18247412192876017,
          0.18242003023170655,
          0.18235094089239443,
          0.18229770976529827,
          0.18223017539831293,
          0.18216661417970975,
          0.18210408112896376,
          0.18204453207003274,
          0.1819693298816946,
          0.18190970351251023,
          0.18186650830799725,
          0.18180532267165533,
          0.18174855532679693,
          0.18170429416601752,
          0.1816377885033646,
          0.18159017087705828,
          0.18153463796667774,
          0.18148657841902277,
          0.181430387474669,
          0.18137642781944618,
          0.18132561828337795,
          0.18126499600331109,
          0.1812159932922039,
          0.18116116214165984,
          0.1811107463600118,
          0.18106571756107753,
          0.1810070533998858,
          0.18095918042981182,
          0.18091641652824716,
          0.18086485192604582,
          0.18081186703158642,
          0.18104335678572278,
          0.18099839070101462,
          0.18094388188873964,
          0.1808991410683031,
          0.18085407887539331,
          0.18081683315779,
          0.18076881065431327,
          0.18072635713768445,
          0.18068084919172955,
          0.1806421173965086,
          0.18059919961153623,
          0.1805549131831585,
          0.18050753622293314,
          0.18046825985284862,
          0.1804191623885471
         ],
         "yaxis": "y2"
        }
       ],
       "layout": {
        "legend": {
         "orientation": "h",
         "x": 0,
         "xanchor": "left",
         "y": 1,
         "yanchor": "bottom"
        },
        "template": {
         "data": {
          "bar": [
           {
            "error_x": {
             "color": "#2a3f5f"
            },
            "error_y": {
             "color": "#2a3f5f"
            },
            "marker": {
             "line": {
              "color": "#E5ECF6",
              "width": 0.5
             },
             "pattern": {
              "fillmode": "overlay",
              "size": 10,
              "solidity": 0.2
             }
            },
            "type": "bar"
           }
          ],
          "barpolar": [
           {
            "marker": {
             "line": {
              "color": "#E5ECF6",
              "width": 0.5
             },
             "pattern": {
              "fillmode": "overlay",
              "size": 10,
              "solidity": 0.2
             }
            },
            "type": "barpolar"
           }
          ],
          "carpet": [
           {
            "aaxis": {
             "endlinecolor": "#2a3f5f",
             "gridcolor": "white",
             "linecolor": "white",
             "minorgridcolor": "white",
             "startlinecolor": "#2a3f5f"
            },
            "baxis": {
             "endlinecolor": "#2a3f5f",
             "gridcolor": "white",
             "linecolor": "white",
             "minorgridcolor": "white",
             "startlinecolor": "#2a3f5f"
            },
            "type": "carpet"
           }
          ],
          "choropleth": [
           {
            "colorbar": {
             "outlinewidth": 0,
             "ticks": ""
            },
            "type": "choropleth"
           }
          ],
          "contour": [
           {
            "colorbar": {
             "outlinewidth": 0,
             "ticks": ""
            },
            "colorscale": [
             [
              0,
              "#0d0887"
             ],
             [
              0.1111111111111111,
              "#46039f"
             ],
             [
              0.2222222222222222,
              "#7201a8"
             ],
             [
              0.3333333333333333,
              "#9c179e"
             ],
             [
              0.4444444444444444,
              "#bd3786"
             ],
             [
              0.5555555555555556,
              "#d8576b"
             ],
             [
              0.6666666666666666,
              "#ed7953"
             ],
             [
              0.7777777777777778,
              "#fb9f3a"
             ],
             [
              0.8888888888888888,
              "#fdca26"
             ],
             [
              1,
              "#f0f921"
             ]
            ],
            "type": "contour"
           }
          ],
          "contourcarpet": [
           {
            "colorbar": {
             "outlinewidth": 0,
             "ticks": ""
            },
            "type": "contourcarpet"
           }
          ],
          "heatmap": [
           {
            "colorbar": {
             "outlinewidth": 0,
             "ticks": ""
            },
            "colorscale": [
             [
              0,
              "#0d0887"
             ],
             [
              0.1111111111111111,
              "#46039f"
             ],
             [
              0.2222222222222222,
              "#7201a8"
             ],
             [
              0.3333333333333333,
              "#9c179e"
             ],
             [
              0.4444444444444444,
              "#bd3786"
             ],
             [
              0.5555555555555556,
              "#d8576b"
             ],
             [
              0.6666666666666666,
              "#ed7953"
             ],
             [
              0.7777777777777778,
              "#fb9f3a"
             ],
             [
              0.8888888888888888,
              "#fdca26"
             ],
             [
              1,
              "#f0f921"
             ]
            ],
            "type": "heatmap"
           }
          ],
          "heatmapgl": [
           {
            "colorbar": {
             "outlinewidth": 0,
             "ticks": ""
            },
            "colorscale": [
             [
              0,
              "#0d0887"
             ],
             [
              0.1111111111111111,
              "#46039f"
             ],
             [
              0.2222222222222222,
              "#7201a8"
             ],
             [
              0.3333333333333333,
              "#9c179e"
             ],
             [
              0.4444444444444444,
              "#bd3786"
             ],
             [
              0.5555555555555556,
              "#d8576b"
             ],
             [
              0.6666666666666666,
              "#ed7953"
             ],
             [
              0.7777777777777778,
              "#fb9f3a"
             ],
             [
              0.8888888888888888,
              "#fdca26"
             ],
             [
              1,
              "#f0f921"
             ]
            ],
            "type": "heatmapgl"
           }
          ],
          "histogram": [
           {
            "marker": {
             "pattern": {
              "fillmode": "overlay",
              "size": 10,
              "solidity": 0.2
             }
            },
            "type": "histogram"
           }
          ],
          "histogram2d": [
           {
            "colorbar": {
             "outlinewidth": 0,
             "ticks": ""
            },
            "colorscale": [
             [
              0,
              "#0d0887"
             ],
             [
              0.1111111111111111,
              "#46039f"
             ],
             [
              0.2222222222222222,
              "#7201a8"
             ],
             [
              0.3333333333333333,
              "#9c179e"
             ],
             [
              0.4444444444444444,
              "#bd3786"
             ],
             [
              0.5555555555555556,
              "#d8576b"
             ],
             [
              0.6666666666666666,
              "#ed7953"
             ],
             [
              0.7777777777777778,
              "#fb9f3a"
             ],
             [
              0.8888888888888888,
              "#fdca26"
             ],
             [
              1,
              "#f0f921"
             ]
            ],
            "type": "histogram2d"
           }
          ],
          "histogram2dcontour": [
           {
            "colorbar": {
             "outlinewidth": 0,
             "ticks": ""
            },
            "colorscale": [
             [
              0,
              "#0d0887"
             ],
             [
              0.1111111111111111,
              "#46039f"
             ],
             [
              0.2222222222222222,
              "#7201a8"
             ],
             [
              0.3333333333333333,
              "#9c179e"
             ],
             [
              0.4444444444444444,
              "#bd3786"
             ],
             [
              0.5555555555555556,
              "#d8576b"
             ],
             [
              0.6666666666666666,
              "#ed7953"
             ],
             [
              0.7777777777777778,
              "#fb9f3a"
             ],
             [
              0.8888888888888888,
              "#fdca26"
             ],
             [
              1,
              "#f0f921"
             ]
            ],
            "type": "histogram2dcontour"
           }
          ],
          "mesh3d": [
           {
            "colorbar": {
             "outlinewidth": 0,
             "ticks": ""
            },
            "type": "mesh3d"
           }
          ],
          "parcoords": [
           {
            "line": {
             "colorbar": {
              "outlinewidth": 0,
              "ticks": ""
             }
            },
            "type": "parcoords"
           }
          ],
          "pie": [
           {
            "automargin": true,
            "type": "pie"
           }
          ],
          "scatter": [
           {
            "fillpattern": {
             "fillmode": "overlay",
             "size": 10,
             "solidity": 0.2
            },
            "type": "scatter"
           }
          ],
          "scatter3d": [
           {
            "line": {
             "colorbar": {
              "outlinewidth": 0,
              "ticks": ""
             }
            },
            "marker": {
             "colorbar": {
              "outlinewidth": 0,
              "ticks": ""
             }
            },
            "type": "scatter3d"
           }
          ],
          "scattercarpet": [
           {
            "marker": {
             "colorbar": {
              "outlinewidth": 0,
              "ticks": ""
             }
            },
            "type": "scattercarpet"
           }
          ],
          "scattergeo": [
           {
            "marker": {
             "colorbar": {
              "outlinewidth": 0,
              "ticks": ""
             }
            },
            "type": "scattergeo"
           }
          ],
          "scattergl": [
           {
            "marker": {
             "colorbar": {
              "outlinewidth": 0,
              "ticks": ""
             }
            },
            "type": "scattergl"
           }
          ],
          "scattermapbox": [
           {
            "marker": {
             "colorbar": {
              "outlinewidth": 0,
              "ticks": ""
             }
            },
            "type": "scattermapbox"
           }
          ],
          "scatterpolar": [
           {
            "marker": {
             "colorbar": {
              "outlinewidth": 0,
              "ticks": ""
             }
            },
            "type": "scatterpolar"
           }
          ],
          "scatterpolargl": [
           {
            "marker": {
             "colorbar": {
              "outlinewidth": 0,
              "ticks": ""
             }
            },
            "type": "scatterpolargl"
           }
          ],
          "scatterternary": [
           {
            "marker": {
             "colorbar": {
              "outlinewidth": 0,
              "ticks": ""
             }
            },
            "type": "scatterternary"
           }
          ],
          "surface": [
           {
            "colorbar": {
             "outlinewidth": 0,
             "ticks": ""
            },
            "colorscale": [
             [
              0,
              "#0d0887"
             ],
             [
              0.1111111111111111,
              "#46039f"
             ],
             [
              0.2222222222222222,
              "#7201a8"
             ],
             [
              0.3333333333333333,
              "#9c179e"
             ],
             [
              0.4444444444444444,
              "#bd3786"
             ],
             [
              0.5555555555555556,
              "#d8576b"
             ],
             [
              0.6666666666666666,
              "#ed7953"
             ],
             [
              0.7777777777777778,
              "#fb9f3a"
             ],
             [
              0.8888888888888888,
              "#fdca26"
             ],
             [
              1,
              "#f0f921"
             ]
            ],
            "type": "surface"
           }
          ],
          "table": [
           {
            "cells": {
             "fill": {
              "color": "#EBF0F8"
             },
             "line": {
              "color": "white"
             }
            },
            "header": {
             "fill": {
              "color": "#C8D4E3"
             },
             "line": {
              "color": "white"
             }
            },
            "type": "table"
           }
          ]
         },
         "layout": {
          "annotationdefaults": {
           "arrowcolor": "#2a3f5f",
           "arrowhead": 0,
           "arrowwidth": 1
          },
          "autotypenumbers": "strict",
          "coloraxis": {
           "colorbar": {
            "outlinewidth": 0,
            "ticks": ""
           }
          },
          "colorscale": {
           "diverging": [
            [
             0,
             "#8e0152"
            ],
            [
             0.1,
             "#c51b7d"
            ],
            [
             0.2,
             "#de77ae"
            ],
            [
             0.3,
             "#f1b6da"
            ],
            [
             0.4,
             "#fde0ef"
            ],
            [
             0.5,
             "#f7f7f7"
            ],
            [
             0.6,
             "#e6f5d0"
            ],
            [
             0.7,
             "#b8e186"
            ],
            [
             0.8,
             "#7fbc41"
            ],
            [
             0.9,
             "#4d9221"
            ],
            [
             1,
             "#276419"
            ]
           ],
           "sequential": [
            [
             0,
             "#0d0887"
            ],
            [
             0.1111111111111111,
             "#46039f"
            ],
            [
             0.2222222222222222,
             "#7201a8"
            ],
            [
             0.3333333333333333,
             "#9c179e"
            ],
            [
             0.4444444444444444,
             "#bd3786"
            ],
            [
             0.5555555555555556,
             "#d8576b"
            ],
            [
             0.6666666666666666,
             "#ed7953"
            ],
            [
             0.7777777777777778,
             "#fb9f3a"
            ],
            [
             0.8888888888888888,
             "#fdca26"
            ],
            [
             1,
             "#f0f921"
            ]
           ],
           "sequentialminus": [
            [
             0,
             "#0d0887"
            ],
            [
             0.1111111111111111,
             "#46039f"
            ],
            [
             0.2222222222222222,
             "#7201a8"
            ],
            [
             0.3333333333333333,
             "#9c179e"
            ],
            [
             0.4444444444444444,
             "#bd3786"
            ],
            [
             0.5555555555555556,
             "#d8576b"
            ],
            [
             0.6666666666666666,
             "#ed7953"
            ],
            [
             0.7777777777777778,
             "#fb9f3a"
            ],
            [
             0.8888888888888888,
             "#fdca26"
            ],
            [
             1,
             "#f0f921"
            ]
           ]
          },
          "colorway": [
           "#636efa",
           "#EF553B",
           "#00cc96",
           "#ab63fa",
           "#FFA15A",
           "#19d3f3",
           "#FF6692",
           "#B6E880",
           "#FF97FF",
           "#FECB52"
          ],
          "font": {
           "color": "#2a3f5f"
          },
          "geo": {
           "bgcolor": "white",
           "lakecolor": "white",
           "landcolor": "#E5ECF6",
           "showlakes": true,
           "showland": true,
           "subunitcolor": "white"
          },
          "hoverlabel": {
           "align": "left"
          },
          "hovermode": "closest",
          "mapbox": {
           "style": "light"
          },
          "paper_bgcolor": "white",
          "plot_bgcolor": "#E5ECF6",
          "polar": {
           "angularaxis": {
            "gridcolor": "white",
            "linecolor": "white",
            "ticks": ""
           },
           "bgcolor": "#E5ECF6",
           "radialaxis": {
            "gridcolor": "white",
            "linecolor": "white",
            "ticks": ""
           }
          },
          "scene": {
           "xaxis": {
            "backgroundcolor": "#E5ECF6",
            "gridcolor": "white",
            "gridwidth": 2,
            "linecolor": "white",
            "showbackground": true,
            "ticks": "",
            "zerolinecolor": "white"
           },
           "yaxis": {
            "backgroundcolor": "#E5ECF6",
            "gridcolor": "white",
            "gridwidth": 2,
            "linecolor": "white",
            "showbackground": true,
            "ticks": "",
            "zerolinecolor": "white"
           },
           "zaxis": {
            "backgroundcolor": "#E5ECF6",
            "gridcolor": "white",
            "gridwidth": 2,
            "linecolor": "white",
            "showbackground": true,
            "ticks": "",
            "zerolinecolor": "white"
           }
          },
          "shapedefaults": {
           "line": {
            "color": "#2a3f5f"
           }
          },
          "ternary": {
           "aaxis": {
            "gridcolor": "white",
            "linecolor": "white",
            "ticks": ""
           },
           "baxis": {
            "gridcolor": "white",
            "linecolor": "white",
            "ticks": ""
           },
           "bgcolor": "#E5ECF6",
           "caxis": {
            "gridcolor": "white",
            "linecolor": "white",
            "ticks": ""
           }
          },
          "title": {
           "x": 0.05
          },
          "xaxis": {
           "automargin": true,
           "gridcolor": "white",
           "linecolor": "white",
           "ticks": "",
           "title": {
            "standoff": 15
           },
           "zerolinecolor": "white",
           "zerolinewidth": 2
          },
          "yaxis": {
           "automargin": true,
           "gridcolor": "white",
           "linecolor": "white",
           "ticks": "",
           "title": {
            "standoff": 15
           },
           "zerolinecolor": "white",
           "zerolinewidth": 2
          }
         }
        },
        "title": {
         "text": "<b>CPA And ROAS vs Frequency</b>"
        },
        "xaxis": {
         "anchor": "y",
         "domain": [
          0,
          0.94
         ],
         "range": [
          0,
          200
         ],
         "tickmode": "array",
         "title": {
          "text": "<b>Frequency</b>"
         }
        },
        "yaxis": {
         "anchor": "x",
         "domain": [
          0,
          1
         ],
         "ticksuffix": "$",
         "title": {
          "text": "<b>CPA ($) </b>"
         }
        },
        "yaxis2": {
         "anchor": "x",
         "overlaying": "y",
         "side": "right",
         "title": {
          "text": "<b>ROAS</b>"
         }
        }
       }
      }
     },
     "metadata": {},
     "output_type": "display_data"
    }
   ],
   "source": [
    "fig = make_subplots(specs=[[{\"secondary_y\": True}]])\n",
    "\n",
    "fig.add_trace(go.Scatter(x=df.frequency, \n",
    "                         y=df.cumsumCPA,\n",
    "                         mode='lines',\n",
    "                         name='CPA', marker_color='#ff007f'),\n",
    "                         secondary_y=False,)\n",
    "\n",
    "fig.add_trace(go.Scatter(x=df.frequency, \n",
    "                         y=df.cumsumROAS,\n",
    "                         mode='lines',\n",
    "                         name='ROAS', marker_color='#415a6c'),\n",
    "                         secondary_y=True,)\n",
    "\n",
    "fig.update_layout(\n",
    "    title='<b>CPA And ROAS vs Frequency</b>',\n",
    "    #template=\"plotly_dark\",\n",
    "    xaxis = dict(\n",
    "        tickmode = 'array',\n",
    "        ),\n",
    "    xaxis_title=\"<b>Frequency</b>\",\n",
    "    xaxis_range=[0,200]  \n",
    "    #yaxis2_range = [-1.5,7]    \n",
    ")\n",
    "\n",
    "\n",
    "fig.update_layout(legend=dict(\n",
    "    orientation=\"h\",\n",
    "    yanchor=\"bottom\",\n",
    "    y=1,\n",
    "    xanchor=\"left\",\n",
    "    x=0\n",
    "))\n",
    "\n",
    "# Set y-axes titles\n",
    "fig.update_yaxes(title_text=\"<b>CPA ($) </b>\", ticksuffix = \"$\", secondary_y=False)\n",
    "fig.update_yaxes(title_text=\"<b>ROAS</b>\", secondary_y=True)"
   ]
  },
  {
   "cell_type": "markdown",
   "id": "a9103210",
   "metadata": {},
   "source": [
    "### Analysis in frequency intervals 1 "
   ]
  },
  {
   "cell_type": "markdown",
   "id": "a4b4c069",
   "metadata": {},
   "source": [
    "#### Create the frequency ranges to estimate the metrics per range of frequency. We are going to show the percentages."
   ]
  },
  {
   "cell_type": "code",
   "execution_count": 4,
   "id": "cfa1f3c4",
   "metadata": {},
   "outputs": [
    {
     "data": {
      "text/html": [
       "<div>\n",
       "<style scoped>\n",
       "    .dataframe tbody tr th:only-of-type {\n",
       "        vertical-align: middle;\n",
       "    }\n",
       "\n",
       "    .dataframe tbody tr th {\n",
       "        vertical-align: top;\n",
       "    }\n",
       "\n",
       "    .dataframe thead th {\n",
       "        text-align: right;\n",
       "    }\n",
       "</style>\n",
       "<table border=\"1\" class=\"dataframe\">\n",
       "  <thead>\n",
       "    <tr style=\"text-align: right;\">\n",
       "      <th></th>\n",
       "      <th>frequency_range</th>\n",
       "      <th>reach</th>\n",
       "      <th>total_impressions</th>\n",
       "      <th>total_clicks</th>\n",
       "      <th>total_conversions</th>\n",
       "      <th>total_revenue</th>\n",
       "      <th>total_cost</th>\n",
       "      <th>cumsum_reach</th>\n",
       "      <th>cumsum_total_impressions</th>\n",
       "      <th>cumsum_total_clicks</th>\n",
       "      <th>cumsum_total_conversions</th>\n",
       "      <th>cumsum_total_revenue</th>\n",
       "      <th>cumsum_total_cost</th>\n",
       "      <th>CVR</th>\n",
       "      <th>CPA</th>\n",
       "      <th>ROAS</th>\n",
       "      <th>cumsumCVR</th>\n",
       "      <th>cumsumCPA</th>\n",
       "      <th>cumsumROAS</th>\n",
       "    </tr>\n",
       "  </thead>\n",
       "  <tbody>\n",
       "    <tr>\n",
       "      <th>0</th>\n",
       "      <td>1 - 50</td>\n",
       "      <td>539402</td>\n",
       "      <td>9965783</td>\n",
       "      <td>14815</td>\n",
       "      <td>970</td>\n",
       "      <td>124574.19</td>\n",
       "      <td>177730.98</td>\n",
       "      <td>539402</td>\n",
       "      <td>9965783</td>\n",
       "      <td>14815</td>\n",
       "      <td>970</td>\n",
       "      <td>124574.19</td>\n",
       "      <td>177730.98</td>\n",
       "      <td>0.000097</td>\n",
       "      <td>183.227814</td>\n",
       "      <td>0.700914</td>\n",
       "      <td>0.000097</td>\n",
       "      <td>183.227814</td>\n",
       "      <td>0.700914</td>\n",
       "    </tr>\n",
       "    <tr>\n",
       "      <th>1</th>\n",
       "      <td>51 - 100</td>\n",
       "      <td>194022</td>\n",
       "      <td>14262061</td>\n",
       "      <td>13042</td>\n",
       "      <td>143</td>\n",
       "      <td>15622.61</td>\n",
       "      <td>229280.27</td>\n",
       "      <td>733424</td>\n",
       "      <td>24227844</td>\n",
       "      <td>27857</td>\n",
       "      <td>1113</td>\n",
       "      <td>140196.80</td>\n",
       "      <td>407011.25</td>\n",
       "      <td>0.00001</td>\n",
       "      <td>1603.358531</td>\n",
       "      <td>0.068138</td>\n",
       "      <td>0.000046</td>\n",
       "      <td>365.688455</td>\n",
       "      <td>0.344454</td>\n",
       "    </tr>\n",
       "    <tr>\n",
       "      <th>2</th>\n",
       "      <td>101 - 150</td>\n",
       "      <td>96571</td>\n",
       "      <td>11708860</td>\n",
       "      <td>10708</td>\n",
       "      <td>65</td>\n",
       "      <td>7152.36</td>\n",
       "      <td>179144.75</td>\n",
       "      <td>829995</td>\n",
       "      <td>35936704</td>\n",
       "      <td>38565</td>\n",
       "      <td>1178</td>\n",
       "      <td>147349.16</td>\n",
       "      <td>586156.0</td>\n",
       "      <td>0.000006</td>\n",
       "      <td>2756.073077</td>\n",
       "      <td>0.039925</td>\n",
       "      <td>0.000033</td>\n",
       "      <td>497.585739</td>\n",
       "      <td>0.251382</td>\n",
       "    </tr>\n",
       "    <tr>\n",
       "      <th>3</th>\n",
       "      <td>151 - 200</td>\n",
       "      <td>45708</td>\n",
       "      <td>7917118</td>\n",
       "      <td>8409</td>\n",
       "      <td>42</td>\n",
       "      <td>5856.62</td>\n",
       "      <td>107551.14</td>\n",
       "      <td>875703</td>\n",
       "      <td>43853822</td>\n",
       "      <td>46974</td>\n",
       "      <td>1220</td>\n",
       "      <td>153205.78</td>\n",
       "      <td>693707.14</td>\n",
       "      <td>0.000005</td>\n",
       "      <td>2560.741429</td>\n",
       "      <td>0.054454</td>\n",
       "      <td>0.000028</td>\n",
       "      <td>568.61241</td>\n",
       "      <td>0.220851</td>\n",
       "    </tr>\n",
       "    <tr>\n",
       "      <th>4</th>\n",
       "      <td>201 - 250</td>\n",
       "      <td>24621</td>\n",
       "      <td>5482049</td>\n",
       "      <td>5895</td>\n",
       "      <td>18</td>\n",
       "      <td>1127.00</td>\n",
       "      <td>66790.81</td>\n",
       "      <td>900324</td>\n",
       "      <td>49335871</td>\n",
       "      <td>52869</td>\n",
       "      <td>1238</td>\n",
       "      <td>154332.78</td>\n",
       "      <td>760497.95</td>\n",
       "      <td>0.000003</td>\n",
       "      <td>3710.600556</td>\n",
       "      <td>0.016874</td>\n",
       "      <td>0.000025</td>\n",
       "      <td>614.295598</td>\n",
       "      <td>0.202936</td>\n",
       "    </tr>\n",
       "  </tbody>\n",
       "</table>\n",
       "</div>"
      ],
      "text/plain": [
       "  frequency_range   reach  total_impressions  total_clicks  total_conversions  \\\n",
       "0          1 - 50  539402            9965783         14815                970   \n",
       "1        51 - 100  194022           14262061         13042                143   \n",
       "2       101 - 150   96571           11708860         10708                 65   \n",
       "3       151 - 200   45708            7917118          8409                 42   \n",
       "4       201 - 250   24621            5482049          5895                 18   \n",
       "\n",
       "   total_revenue  total_cost cumsum_reach cumsum_total_impressions  \\\n",
       "0      124574.19   177730.98       539402                  9965783   \n",
       "1       15622.61   229280.27       733424                 24227844   \n",
       "2        7152.36   179144.75       829995                 35936704   \n",
       "3        5856.62   107551.14       875703                 43853822   \n",
       "4        1127.00    66790.81       900324                 49335871   \n",
       "\n",
       "  cumsum_total_clicks cumsum_total_conversions  cumsum_total_revenue  \\\n",
       "0               14815                      970             124574.19   \n",
       "1               27857                     1113             140196.80   \n",
       "2               38565                     1178             147349.16   \n",
       "3               46974                     1220             153205.78   \n",
       "4               52869                     1238             154332.78   \n",
       "\n",
       "  cumsum_total_cost       CVR          CPA      ROAS cumsumCVR   cumsumCPA  \\\n",
       "0         177730.98  0.000097   183.227814  0.700914  0.000097  183.227814   \n",
       "1         407011.25   0.00001  1603.358531  0.068138  0.000046  365.688455   \n",
       "2          586156.0  0.000006  2756.073077  0.039925  0.000033  497.585739   \n",
       "3         693707.14  0.000005  2560.741429  0.054454  0.000028   568.61241   \n",
       "4         760497.95  0.000003  3710.600556  0.016874  0.000025  614.295598   \n",
       "\n",
       "  cumsumROAS  \n",
       "0   0.700914  \n",
       "1   0.344454  \n",
       "2   0.251382  \n",
       "3   0.220851  \n",
       "4   0.202936  "
      ]
     },
     "execution_count": 4,
     "metadata": {},
     "output_type": "execute_result"
    }
   ],
   "source": [
    "df_an = df[['frequency', 'reach','total_impressions', 'total_clicks', 'total_conversions','total_revenue', 'total_cost']]\n",
    "df_an = df_an[df_an.frequency > 0]\n",
    "\n",
    "# Upper limit of each group\n",
    "#upper_limits = [10,20,30,40,50,75,100,150,200,300,500]\n",
    "upper_limits = list(range(50,df.frequency.max(),50))\n",
    "\n",
    "# Create a column called 'frequency_range' to group frequencies based on limits and one numerical column to sort values\n",
    "df_an.loc[df_an['frequency']<=upper_limits[0],'frequency_range'] = f'1 - {upper_limits[0]}'\n",
    "df_an.loc[df_an['frequency']<=upper_limits[0],'order'] = 0\n",
    "for index,value in enumerate(upper_limits[:-1]):\n",
    "    df_an.loc[(df_an['frequency']>upper_limits[index])&(df_an['frequency']<=upper_limits[index+1]),'frequency_range'] = f'{upper_limits[index]+1} - {upper_limits[index+1]}'\n",
    "    df_an.loc[(df_an['frequency']>upper_limits[index])&(df_an['frequency']<=upper_limits[index+1]),'order'] = index+1\n",
    "df_an.loc[df_an['frequency']>upper_limits[-1],'frequency_range'] = f'>{upper_limits[-1]}'\n",
    "df_an.loc[df_an['frequency']>upper_limits[-1],'order'] = len(upper_limits)+1\n",
    "# display updated DataFrame\n",
    "#df_an = df_an[['frequency', 'reach','total_impressions', 'total_clicks', 'total_conversions','total_revenue', 'total_cost']].groupby(by='frequency_range').sum()\n",
    "df_an = df_an.groupby(by=['order','frequency_range']).sum().reset_index()[['frequency_range','reach','total_impressions', 'total_clicks', 'total_conversions','total_revenue', 'total_cost']]\n",
    "\n",
    "# Calculate cumulative variables\n",
    "dimensions = [  \n",
    "            'reach',\n",
    "            'total_impressions',\n",
    "            'total_clicks',\n",
    "            'total_conversions',\n",
    "            'total_revenue',\n",
    "            'total_cost'\n",
    "            ]\n",
    "# For that dimension calculate cumsum and add it as a new column to the dataframe\n",
    "for column in dimensions:\n",
    "    df_an['cumsum_'+column] = df_an[column].cumsum()\n",
    "\n",
    "\n",
    "# Calculate CVR and CPA\n",
    "df_an['CVR'] = df_an.total_conversions/ df_an.total_impressions\n",
    "df_an['CPA'] = df_an.total_cost/ df_an.total_conversions\n",
    "df_an['ROAS'] = df_an.total_revenue/ df_an.total_cost\n",
    "df_an['cumsumCVR'] = df_an.cumsum_total_conversions/ df_an.cumsum_total_impressions\n",
    "df_an['cumsumCPA'] = df_an.cumsum_total_cost/ df_an.cumsum_total_conversions\n",
    "df_an['cumsumROAS'] = df_an.cumsum_total_revenue / df_an.cumsum_total_cost\n",
    "\n",
    "df_an.head()\n"
   ]
  },
  {
   "cell_type": "markdown",
   "id": "72ddea7b",
   "metadata": {},
   "source": [
    "#### Plot 3 - Share of different metrics and % of cumulative cost vs frequency bands"
   ]
  },
  {
   "cell_type": "code",
   "execution_count": 7,
   "id": "97261ee9",
   "metadata": {},
   "outputs": [
    {
     "data": {
      "application/vnd.plotly.v1+json": {
       "config": {
        "plotlyServerURL": "https://plot.ly"
       },
       "data": [
        {
         "marker": {
          "color": "#ff007f"
         },
         "name": "% Reach",
         "type": "bar",
         "x": [
          "1 - 50",
          "51 - 100",
          "101 - 150",
          "151 - 200",
          "201 - 250",
          "251 - 300",
          "301 - 350",
          "351 - 400",
          "401 - 450",
          ">450"
         ],
         "xaxis": "x",
         "y": [
          57.82692082972854,
          20.800247001727083,
          10.352953032149891,
          4.900154054462594,
          2.6395093413608897,
          1.4971263536048423,
          0.9376202712945184,
          0.6142881493845862,
          0.36878730085217737,
          0.0623936654348742
         ],
         "yaxis": "y"
        },
        {
         "marker": {
          "color": "#F5A400"
         },
         "name": "% Impressions",
         "type": "bar",
         "x": [
          "1 - 50",
          "51 - 100",
          "101 - 150",
          "151 - 200",
          "201 - 250",
          "251 - 300",
          "301 - 350",
          "351 - 400",
          "401 - 450",
          ">450"
         ],
         "xaxis": "x",
         "y": [
          16.65190224889956,
          23.830585679002112,
          19.564422802106982,
          13.228772393398813,
          9.159997169482578,
          6.378432326113035,
          4.728506343141087,
          3.5765208412718845,
          2.432061107094899,
          0.44879908948904734
         ],
         "yaxis": "y"
        },
        {
         "marker": {
          "color": "#005daa"
         },
         "name": "% Clicks",
         "type": "bar",
         "x": [
          "1 - 50",
          "51 - 100",
          "101 - 150",
          "151 - 200",
          "201 - 250",
          "251 - 300",
          "301 - 350",
          "351 - 400",
          "401 - 450",
          ">450"
         ],
         "xaxis": "x",
         "y": [
          22.73878409282765,
          20.017497275643485,
          16.435160314950963,
          12.90654306018142,
          9.047933326170705,
          6.787101131183522,
          5.252252390526914,
          3.702055162463739,
          2.6077080103755774,
          0.5049652356760241
         ],
         "yaxis": "y"
        },
        {
         "marker": {
          "color": "#1CAC18"
         },
         "name": "% Conversions",
         "type": "bar",
         "x": [
          "1 - 50",
          "51 - 100",
          "101 - 150",
          "151 - 200",
          "201 - 250",
          "251 - 300",
          "301 - 350",
          "351 - 400",
          "401 - 450",
          ">450"
         ],
         "xaxis": "x",
         "y": [
          76.8621236133122,
          11.33122028526149,
          5.150554675118859,
          3.328050713153724,
          1.4263074484944533,
          0.9508716323296356,
          0.39619651347068147,
          0.07923930269413629,
          0.39619651347068147,
          0.07923930269413629
         ],
         "yaxis": "y"
        },
        {
         "marker": {
          "color": "#b15a8b"
         },
         "name": "% Revenue",
         "type": "bar",
         "x": [
          "1 - 50",
          "51 - 100",
          "101 - 150",
          "151 - 200",
          "201 - 250",
          "251 - 300",
          "301 - 350",
          "351 - 400",
          "401 - 450",
          ">450"
         ],
         "xaxis": "x",
         "y": [
          79.69738276763448,
          9.994695763219285,
          4.5757822917565685,
          3.7468217603067178,
          0.7210077013474788,
          0.4963245560828518,
          0.1879802066432384,
          0.0063911862790251225,
          0.5678623388376656,
          0.005751427892736322
         ],
         "yaxis": "y"
        },
        {
         "marker": {
          "color": "#415a6c"
         },
         "mode": "lines+markers",
         "name": "% of Total cost",
         "type": "scatter",
         "x": [
          "1 - 50",
          "51 - 100",
          "101 - 150",
          "151 - 200",
          "201 - 250",
          "251 - 300",
          "301 - 350",
          "351 - 400",
          "401 - 450",
          ">450"
         ],
         "xaxis": "x",
         "y": [
          20.514540103667517,
          46.97914010696866,
          67.65686414943156,
          80.07091922708408,
          87.78022657632299,
          92.49513975561595,
          95.7587781328882,
          98.14693999382939,
          99.72893439134666,
          100
         ],
         "yaxis": "y2"
        }
       ],
       "layout": {
        "legend": {
         "orientation": "h",
         "x": 0,
         "xanchor": "left",
         "y": 1,
         "yanchor": "bottom"
        },
        "template": {
         "data": {
          "bar": [
           {
            "error_x": {
             "color": "#2a3f5f"
            },
            "error_y": {
             "color": "#2a3f5f"
            },
            "marker": {
             "line": {
              "color": "#E5ECF6",
              "width": 0.5
             },
             "pattern": {
              "fillmode": "overlay",
              "size": 10,
              "solidity": 0.2
             }
            },
            "type": "bar"
           }
          ],
          "barpolar": [
           {
            "marker": {
             "line": {
              "color": "#E5ECF6",
              "width": 0.5
             },
             "pattern": {
              "fillmode": "overlay",
              "size": 10,
              "solidity": 0.2
             }
            },
            "type": "barpolar"
           }
          ],
          "carpet": [
           {
            "aaxis": {
             "endlinecolor": "#2a3f5f",
             "gridcolor": "white",
             "linecolor": "white",
             "minorgridcolor": "white",
             "startlinecolor": "#2a3f5f"
            },
            "baxis": {
             "endlinecolor": "#2a3f5f",
             "gridcolor": "white",
             "linecolor": "white",
             "minorgridcolor": "white",
             "startlinecolor": "#2a3f5f"
            },
            "type": "carpet"
           }
          ],
          "choropleth": [
           {
            "colorbar": {
             "outlinewidth": 0,
             "ticks": ""
            },
            "type": "choropleth"
           }
          ],
          "contour": [
           {
            "colorbar": {
             "outlinewidth": 0,
             "ticks": ""
            },
            "colorscale": [
             [
              0,
              "#0d0887"
             ],
             [
              0.1111111111111111,
              "#46039f"
             ],
             [
              0.2222222222222222,
              "#7201a8"
             ],
             [
              0.3333333333333333,
              "#9c179e"
             ],
             [
              0.4444444444444444,
              "#bd3786"
             ],
             [
              0.5555555555555556,
              "#d8576b"
             ],
             [
              0.6666666666666666,
              "#ed7953"
             ],
             [
              0.7777777777777778,
              "#fb9f3a"
             ],
             [
              0.8888888888888888,
              "#fdca26"
             ],
             [
              1,
              "#f0f921"
             ]
            ],
            "type": "contour"
           }
          ],
          "contourcarpet": [
           {
            "colorbar": {
             "outlinewidth": 0,
             "ticks": ""
            },
            "type": "contourcarpet"
           }
          ],
          "heatmap": [
           {
            "colorbar": {
             "outlinewidth": 0,
             "ticks": ""
            },
            "colorscale": [
             [
              0,
              "#0d0887"
             ],
             [
              0.1111111111111111,
              "#46039f"
             ],
             [
              0.2222222222222222,
              "#7201a8"
             ],
             [
              0.3333333333333333,
              "#9c179e"
             ],
             [
              0.4444444444444444,
              "#bd3786"
             ],
             [
              0.5555555555555556,
              "#d8576b"
             ],
             [
              0.6666666666666666,
              "#ed7953"
             ],
             [
              0.7777777777777778,
              "#fb9f3a"
             ],
             [
              0.8888888888888888,
              "#fdca26"
             ],
             [
              1,
              "#f0f921"
             ]
            ],
            "type": "heatmap"
           }
          ],
          "heatmapgl": [
           {
            "colorbar": {
             "outlinewidth": 0,
             "ticks": ""
            },
            "colorscale": [
             [
              0,
              "#0d0887"
             ],
             [
              0.1111111111111111,
              "#46039f"
             ],
             [
              0.2222222222222222,
              "#7201a8"
             ],
             [
              0.3333333333333333,
              "#9c179e"
             ],
             [
              0.4444444444444444,
              "#bd3786"
             ],
             [
              0.5555555555555556,
              "#d8576b"
             ],
             [
              0.6666666666666666,
              "#ed7953"
             ],
             [
              0.7777777777777778,
              "#fb9f3a"
             ],
             [
              0.8888888888888888,
              "#fdca26"
             ],
             [
              1,
              "#f0f921"
             ]
            ],
            "type": "heatmapgl"
           }
          ],
          "histogram": [
           {
            "marker": {
             "pattern": {
              "fillmode": "overlay",
              "size": 10,
              "solidity": 0.2
             }
            },
            "type": "histogram"
           }
          ],
          "histogram2d": [
           {
            "colorbar": {
             "outlinewidth": 0,
             "ticks": ""
            },
            "colorscale": [
             [
              0,
              "#0d0887"
             ],
             [
              0.1111111111111111,
              "#46039f"
             ],
             [
              0.2222222222222222,
              "#7201a8"
             ],
             [
              0.3333333333333333,
              "#9c179e"
             ],
             [
              0.4444444444444444,
              "#bd3786"
             ],
             [
              0.5555555555555556,
              "#d8576b"
             ],
             [
              0.6666666666666666,
              "#ed7953"
             ],
             [
              0.7777777777777778,
              "#fb9f3a"
             ],
             [
              0.8888888888888888,
              "#fdca26"
             ],
             [
              1,
              "#f0f921"
             ]
            ],
            "type": "histogram2d"
           }
          ],
          "histogram2dcontour": [
           {
            "colorbar": {
             "outlinewidth": 0,
             "ticks": ""
            },
            "colorscale": [
             [
              0,
              "#0d0887"
             ],
             [
              0.1111111111111111,
              "#46039f"
             ],
             [
              0.2222222222222222,
              "#7201a8"
             ],
             [
              0.3333333333333333,
              "#9c179e"
             ],
             [
              0.4444444444444444,
              "#bd3786"
             ],
             [
              0.5555555555555556,
              "#d8576b"
             ],
             [
              0.6666666666666666,
              "#ed7953"
             ],
             [
              0.7777777777777778,
              "#fb9f3a"
             ],
             [
              0.8888888888888888,
              "#fdca26"
             ],
             [
              1,
              "#f0f921"
             ]
            ],
            "type": "histogram2dcontour"
           }
          ],
          "mesh3d": [
           {
            "colorbar": {
             "outlinewidth": 0,
             "ticks": ""
            },
            "type": "mesh3d"
           }
          ],
          "parcoords": [
           {
            "line": {
             "colorbar": {
              "outlinewidth": 0,
              "ticks": ""
             }
            },
            "type": "parcoords"
           }
          ],
          "pie": [
           {
            "automargin": true,
            "type": "pie"
           }
          ],
          "scatter": [
           {
            "fillpattern": {
             "fillmode": "overlay",
             "size": 10,
             "solidity": 0.2
            },
            "type": "scatter"
           }
          ],
          "scatter3d": [
           {
            "line": {
             "colorbar": {
              "outlinewidth": 0,
              "ticks": ""
             }
            },
            "marker": {
             "colorbar": {
              "outlinewidth": 0,
              "ticks": ""
             }
            },
            "type": "scatter3d"
           }
          ],
          "scattercarpet": [
           {
            "marker": {
             "colorbar": {
              "outlinewidth": 0,
              "ticks": ""
             }
            },
            "type": "scattercarpet"
           }
          ],
          "scattergeo": [
           {
            "marker": {
             "colorbar": {
              "outlinewidth": 0,
              "ticks": ""
             }
            },
            "type": "scattergeo"
           }
          ],
          "scattergl": [
           {
            "marker": {
             "colorbar": {
              "outlinewidth": 0,
              "ticks": ""
             }
            },
            "type": "scattergl"
           }
          ],
          "scattermapbox": [
           {
            "marker": {
             "colorbar": {
              "outlinewidth": 0,
              "ticks": ""
             }
            },
            "type": "scattermapbox"
           }
          ],
          "scatterpolar": [
           {
            "marker": {
             "colorbar": {
              "outlinewidth": 0,
              "ticks": ""
             }
            },
            "type": "scatterpolar"
           }
          ],
          "scatterpolargl": [
           {
            "marker": {
             "colorbar": {
              "outlinewidth": 0,
              "ticks": ""
             }
            },
            "type": "scatterpolargl"
           }
          ],
          "scatterternary": [
           {
            "marker": {
             "colorbar": {
              "outlinewidth": 0,
              "ticks": ""
             }
            },
            "type": "scatterternary"
           }
          ],
          "surface": [
           {
            "colorbar": {
             "outlinewidth": 0,
             "ticks": ""
            },
            "colorscale": [
             [
              0,
              "#0d0887"
             ],
             [
              0.1111111111111111,
              "#46039f"
             ],
             [
              0.2222222222222222,
              "#7201a8"
             ],
             [
              0.3333333333333333,
              "#9c179e"
             ],
             [
              0.4444444444444444,
              "#bd3786"
             ],
             [
              0.5555555555555556,
              "#d8576b"
             ],
             [
              0.6666666666666666,
              "#ed7953"
             ],
             [
              0.7777777777777778,
              "#fb9f3a"
             ],
             [
              0.8888888888888888,
              "#fdca26"
             ],
             [
              1,
              "#f0f921"
             ]
            ],
            "type": "surface"
           }
          ],
          "table": [
           {
            "cells": {
             "fill": {
              "color": "#EBF0F8"
             },
             "line": {
              "color": "white"
             }
            },
            "header": {
             "fill": {
              "color": "#C8D4E3"
             },
             "line": {
              "color": "white"
             }
            },
            "type": "table"
           }
          ]
         },
         "layout": {
          "annotationdefaults": {
           "arrowcolor": "#2a3f5f",
           "arrowhead": 0,
           "arrowwidth": 1
          },
          "autotypenumbers": "strict",
          "coloraxis": {
           "colorbar": {
            "outlinewidth": 0,
            "ticks": ""
           }
          },
          "colorscale": {
           "diverging": [
            [
             0,
             "#8e0152"
            ],
            [
             0.1,
             "#c51b7d"
            ],
            [
             0.2,
             "#de77ae"
            ],
            [
             0.3,
             "#f1b6da"
            ],
            [
             0.4,
             "#fde0ef"
            ],
            [
             0.5,
             "#f7f7f7"
            ],
            [
             0.6,
             "#e6f5d0"
            ],
            [
             0.7,
             "#b8e186"
            ],
            [
             0.8,
             "#7fbc41"
            ],
            [
             0.9,
             "#4d9221"
            ],
            [
             1,
             "#276419"
            ]
           ],
           "sequential": [
            [
             0,
             "#0d0887"
            ],
            [
             0.1111111111111111,
             "#46039f"
            ],
            [
             0.2222222222222222,
             "#7201a8"
            ],
            [
             0.3333333333333333,
             "#9c179e"
            ],
            [
             0.4444444444444444,
             "#bd3786"
            ],
            [
             0.5555555555555556,
             "#d8576b"
            ],
            [
             0.6666666666666666,
             "#ed7953"
            ],
            [
             0.7777777777777778,
             "#fb9f3a"
            ],
            [
             0.8888888888888888,
             "#fdca26"
            ],
            [
             1,
             "#f0f921"
            ]
           ],
           "sequentialminus": [
            [
             0,
             "#0d0887"
            ],
            [
             0.1111111111111111,
             "#46039f"
            ],
            [
             0.2222222222222222,
             "#7201a8"
            ],
            [
             0.3333333333333333,
             "#9c179e"
            ],
            [
             0.4444444444444444,
             "#bd3786"
            ],
            [
             0.5555555555555556,
             "#d8576b"
            ],
            [
             0.6666666666666666,
             "#ed7953"
            ],
            [
             0.7777777777777778,
             "#fb9f3a"
            ],
            [
             0.8888888888888888,
             "#fdca26"
            ],
            [
             1,
             "#f0f921"
            ]
           ]
          },
          "colorway": [
           "#636efa",
           "#EF553B",
           "#00cc96",
           "#ab63fa",
           "#FFA15A",
           "#19d3f3",
           "#FF6692",
           "#B6E880",
           "#FF97FF",
           "#FECB52"
          ],
          "font": {
           "color": "#2a3f5f"
          },
          "geo": {
           "bgcolor": "white",
           "lakecolor": "white",
           "landcolor": "#E5ECF6",
           "showlakes": true,
           "showland": true,
           "subunitcolor": "white"
          },
          "hoverlabel": {
           "align": "left"
          },
          "hovermode": "closest",
          "mapbox": {
           "style": "light"
          },
          "paper_bgcolor": "white",
          "plot_bgcolor": "#E5ECF6",
          "polar": {
           "angularaxis": {
            "gridcolor": "white",
            "linecolor": "white",
            "ticks": ""
           },
           "bgcolor": "#E5ECF6",
           "radialaxis": {
            "gridcolor": "white",
            "linecolor": "white",
            "ticks": ""
           }
          },
          "scene": {
           "xaxis": {
            "backgroundcolor": "#E5ECF6",
            "gridcolor": "white",
            "gridwidth": 2,
            "linecolor": "white",
            "showbackground": true,
            "ticks": "",
            "zerolinecolor": "white"
           },
           "yaxis": {
            "backgroundcolor": "#E5ECF6",
            "gridcolor": "white",
            "gridwidth": 2,
            "linecolor": "white",
            "showbackground": true,
            "ticks": "",
            "zerolinecolor": "white"
           },
           "zaxis": {
            "backgroundcolor": "#E5ECF6",
            "gridcolor": "white",
            "gridwidth": 2,
            "linecolor": "white",
            "showbackground": true,
            "ticks": "",
            "zerolinecolor": "white"
           }
          },
          "shapedefaults": {
           "line": {
            "color": "#2a3f5f"
           }
          },
          "ternary": {
           "aaxis": {
            "gridcolor": "white",
            "linecolor": "white",
            "ticks": ""
           },
           "baxis": {
            "gridcolor": "white",
            "linecolor": "white",
            "ticks": ""
           },
           "bgcolor": "#E5ECF6",
           "caxis": {
            "gridcolor": "white",
            "linecolor": "white",
            "ticks": ""
           }
          },
          "title": {
           "x": 0.05
          },
          "xaxis": {
           "automargin": true,
           "gridcolor": "white",
           "linecolor": "white",
           "ticks": "",
           "title": {
            "standoff": 15
           },
           "zerolinecolor": "white",
           "zerolinewidth": 2
          },
          "yaxis": {
           "automargin": true,
           "gridcolor": "white",
           "linecolor": "white",
           "ticks": "",
           "title": {
            "standoff": 15
           },
           "zerolinecolor": "white",
           "zerolinewidth": 2
          }
         }
        },
        "title": {
         "text": "<b>Share of different metrics and % of cumulative cost vs frequency bands</b>"
        },
        "xaxis": {
         "anchor": "y",
         "domain": [
          0,
          0.94
         ],
         "tickmode": "array",
         "title": {
          "text": "<b>Frequency</b>"
         }
        },
        "yaxis": {
         "anchor": "x",
         "domain": [
          0,
          1
         ],
         "ticksuffix": "%",
         "title": {
          "text": "<b>Percentage</b>"
         }
        },
        "yaxis2": {
         "anchor": "x",
         "overlaying": "y",
         "side": "right",
         "ticksuffix": "%",
         "title": {
          "text": "<b>Cost</b>"
         }
        }
       }
      }
     },
     "metadata": {},
     "output_type": "display_data"
    }
   ],
   "source": [
    "fig = make_subplots(specs=[[{\"secondary_y\": True}]])\n",
    "\n",
    "fig.add_trace(go.Bar(x=df_an.frequency_range,\n",
    "                     y=df_an[\"reach\"]/df_an[\"cumsum_reach\"].max()*100,\n",
    "                     name=\"% Reach\", marker_color=c_reach), \n",
    "                     secondary_y=False)\n",
    "\n",
    "fig.add_trace(go.Bar(x=df_an.frequency_range,\n",
    "                     y=df_an[\"total_impressions\"]/df_an[\"cumsum_total_impressions\"].max()*100,\n",
    "                     name=\"% Impressions\", marker_color=c_impressions),\n",
    "                     secondary_y=False)\n",
    "\n",
    "fig.add_trace(go.Bar(x=df_an.frequency_range,\n",
    "                     y=df_an[\"total_clicks\"]/df_an[\"cumsum_total_clicks\"].max()*100,\n",
    "                     name=\"% Clicks\", marker_color=c_clicks),\n",
    "                     secondary_y=False,)\n",
    "\n",
    "fig.add_trace(go.Bar(x=df_an.frequency_range,\n",
    "                     y=df_an[\"total_conversions\"]/df_an[\"cumsum_total_conversions\"].max()*100,\n",
    "                     name=\"% Conversions\", marker_color=c_conversions),\n",
    "                     secondary_y=False,)\n",
    "\n",
    "fig.add_trace(go.Bar(x=df_an.frequency_range,\n",
    "                     y=df_an[\"total_revenue\"]/df_an[\"cumsum_total_revenue\"].max()*100,\n",
    "                     name=\"% Revenue\", marker_color=c_revenue),\n",
    "                     secondary_y=False,)\n",
    "\n",
    "fig.add_trace(go.Scatter(x=df_an.frequency_range, \n",
    "                         y=df_an.cumsum_total_cost/df_an.cumsum_total_cost.max()*100,\n",
    "                         mode='lines+markers',\n",
    "                         name='% of Total cost', marker_color=c_cost),\n",
    "                         secondary_y=True,)\n",
    "\n",
    "fig.update_layout(\n",
    "    title='<b>Share of different metrics and % of cumulative cost vs frequency bands</b>',\n",
    "    #template=\"plotly_dark\",\n",
    "    xaxis = dict(\n",
    "        tickmode = 'array',\n",
    "        ),\n",
    "    xaxis_title=\"<b>Frequency</b>\",\n",
    "    #xaxis_range=[0,10]    \n",
    ")\n",
    "\n",
    "\n",
    "fig.update_layout(legend=dict(\n",
    "    orientation=\"h\",\n",
    "    yanchor=\"bottom\",\n",
    "    y=1,\n",
    "    xanchor=\"left\",\n",
    "    x=0\n",
    "))\n",
    "\n",
    "# Set y-axes titles\n",
    "fig.update_yaxes(title_text=\"<b>Percentage</b>\", ticksuffix = \"%\", secondary_y=False)\n",
    "fig.update_yaxes(title_text=\"<b>Cost</b>\", ticksuffix = \"%\", secondary_y=True)"
   ]
  },
  {
   "cell_type": "markdown",
   "id": "f83e25f1",
   "metadata": {},
   "source": [
    "####  Plot 4 - Share of different metrics and % cost vs frequency band"
   ]
  },
  {
   "cell_type": "code",
   "execution_count": 8,
   "id": "a7262dea",
   "metadata": {},
   "outputs": [
    {
     "data": {
      "application/vnd.plotly.v1+json": {
       "config": {
        "plotlyServerURL": "https://plot.ly"
       },
       "data": [
        {
         "marker": {
          "color": "#ff007f"
         },
         "name": "% Reach",
         "type": "bar",
         "x": [
          "1 - 50",
          "51 - 100",
          "101 - 150",
          "151 - 200",
          "201 - 250",
          "251 - 300",
          "301 - 350",
          "351 - 400",
          "401 - 450",
          ">450"
         ],
         "xaxis": "x",
         "y": [
          57.82692082972854,
          20.800247001727083,
          10.352953032149891,
          4.900154054462594,
          2.6395093413608897,
          1.4971263536048423,
          0.9376202712945184,
          0.6142881493845862,
          0.36878730085217737,
          0.0623936654348742
         ],
         "yaxis": "y"
        },
        {
         "marker": {
          "color": "#f0cd28"
         },
         "name": "% Impressions",
         "type": "bar",
         "x": [
          "1 - 50",
          "51 - 100",
          "101 - 150",
          "151 - 200",
          "201 - 250",
          "251 - 300",
          "301 - 350",
          "351 - 400",
          "401 - 450",
          ">450"
         ],
         "xaxis": "x",
         "y": [
          16.65190224889956,
          23.830585679002112,
          19.564422802106982,
          13.228772393398813,
          9.159997169482578,
          6.378432326113035,
          4.728506343141087,
          3.5765208412718845,
          2.432061107094899,
          0.44879908948904734
         ],
         "yaxis": "y"
        },
        {
         "marker": {
          "color": "#29B325"
         },
         "name": "% Clicks",
         "type": "bar",
         "x": [
          "1 - 50",
          "51 - 100",
          "101 - 150",
          "151 - 200",
          "201 - 250",
          "251 - 300",
          "301 - 350",
          "351 - 400",
          "401 - 450",
          ">450"
         ],
         "xaxis": "x",
         "y": [
          22.73878409282765,
          20.017497275643485,
          16.435160314950963,
          12.90654306018142,
          9.047933326170705,
          6.787101131183522,
          5.252252390526914,
          3.702055162463739,
          2.6077080103755774,
          0.5049652356760241
         ],
         "yaxis": "y"
        },
        {
         "marker": {
          "color": "#005daa"
         },
         "name": "% Conversions",
         "type": "bar",
         "x": [
          "1 - 50",
          "51 - 100",
          "101 - 150",
          "151 - 200",
          "201 - 250",
          "251 - 300",
          "301 - 350",
          "351 - 400",
          "401 - 450",
          ">450"
         ],
         "xaxis": "x",
         "y": [
          76.8621236133122,
          11.33122028526149,
          5.150554675118859,
          3.328050713153724,
          1.4263074484944533,
          0.9508716323296356,
          0.39619651347068147,
          0.07923930269413629,
          0.39619651347068147,
          0.07923930269413629
         ],
         "yaxis": "y"
        },
        {
         "marker": {
          "color": "#a87532"
         },
         "name": "% Revenue",
         "type": "bar",
         "x": [
          "1 - 50",
          "51 - 100",
          "101 - 150",
          "151 - 200",
          "201 - 250",
          "251 - 300",
          "301 - 350",
          "351 - 400",
          "401 - 450",
          ">450"
         ],
         "xaxis": "x",
         "y": [
          79.69738276763448,
          9.994695763219285,
          4.5757822917565685,
          3.7468217603067178,
          0.7210077013474788,
          0.4963245560828518,
          0.1879802066432384,
          0.0063911862790251225,
          0.5678623388376656,
          0.005751427892736322
         ],
         "yaxis": "y"
        },
        {
         "marker": {
          "color": "#415a6c"
         },
         "mode": "lines+markers",
         "name": "% of Total cost",
         "type": "scatter",
         "x": [
          "1 - 50",
          "51 - 100",
          "101 - 150",
          "151 - 200",
          "201 - 250",
          "251 - 300",
          "301 - 350",
          "351 - 400",
          "401 - 450",
          ">450"
         ],
         "xaxis": "x",
         "y": [
          20.514540103667517,
          26.464600003301143,
          20.677724042462888,
          12.414055077652526,
          7.709307349238929,
          4.714913179292952,
          3.2636383772722355,
          2.388161860941203,
          1.5819943975172617,
          0.2710656086533415
         ],
         "yaxis": "y2"
        }
       ],
       "layout": {
        "legend": {
         "orientation": "h",
         "x": 0,
         "xanchor": "left",
         "y": 1,
         "yanchor": "bottom"
        },
        "template": {
         "data": {
          "bar": [
           {
            "error_x": {
             "color": "#2a3f5f"
            },
            "error_y": {
             "color": "#2a3f5f"
            },
            "marker": {
             "line": {
              "color": "#E5ECF6",
              "width": 0.5
             },
             "pattern": {
              "fillmode": "overlay",
              "size": 10,
              "solidity": 0.2
             }
            },
            "type": "bar"
           }
          ],
          "barpolar": [
           {
            "marker": {
             "line": {
              "color": "#E5ECF6",
              "width": 0.5
             },
             "pattern": {
              "fillmode": "overlay",
              "size": 10,
              "solidity": 0.2
             }
            },
            "type": "barpolar"
           }
          ],
          "carpet": [
           {
            "aaxis": {
             "endlinecolor": "#2a3f5f",
             "gridcolor": "white",
             "linecolor": "white",
             "minorgridcolor": "white",
             "startlinecolor": "#2a3f5f"
            },
            "baxis": {
             "endlinecolor": "#2a3f5f",
             "gridcolor": "white",
             "linecolor": "white",
             "minorgridcolor": "white",
             "startlinecolor": "#2a3f5f"
            },
            "type": "carpet"
           }
          ],
          "choropleth": [
           {
            "colorbar": {
             "outlinewidth": 0,
             "ticks": ""
            },
            "type": "choropleth"
           }
          ],
          "contour": [
           {
            "colorbar": {
             "outlinewidth": 0,
             "ticks": ""
            },
            "colorscale": [
             [
              0,
              "#0d0887"
             ],
             [
              0.1111111111111111,
              "#46039f"
             ],
             [
              0.2222222222222222,
              "#7201a8"
             ],
             [
              0.3333333333333333,
              "#9c179e"
             ],
             [
              0.4444444444444444,
              "#bd3786"
             ],
             [
              0.5555555555555556,
              "#d8576b"
             ],
             [
              0.6666666666666666,
              "#ed7953"
             ],
             [
              0.7777777777777778,
              "#fb9f3a"
             ],
             [
              0.8888888888888888,
              "#fdca26"
             ],
             [
              1,
              "#f0f921"
             ]
            ],
            "type": "contour"
           }
          ],
          "contourcarpet": [
           {
            "colorbar": {
             "outlinewidth": 0,
             "ticks": ""
            },
            "type": "contourcarpet"
           }
          ],
          "heatmap": [
           {
            "colorbar": {
             "outlinewidth": 0,
             "ticks": ""
            },
            "colorscale": [
             [
              0,
              "#0d0887"
             ],
             [
              0.1111111111111111,
              "#46039f"
             ],
             [
              0.2222222222222222,
              "#7201a8"
             ],
             [
              0.3333333333333333,
              "#9c179e"
             ],
             [
              0.4444444444444444,
              "#bd3786"
             ],
             [
              0.5555555555555556,
              "#d8576b"
             ],
             [
              0.6666666666666666,
              "#ed7953"
             ],
             [
              0.7777777777777778,
              "#fb9f3a"
             ],
             [
              0.8888888888888888,
              "#fdca26"
             ],
             [
              1,
              "#f0f921"
             ]
            ],
            "type": "heatmap"
           }
          ],
          "heatmapgl": [
           {
            "colorbar": {
             "outlinewidth": 0,
             "ticks": ""
            },
            "colorscale": [
             [
              0,
              "#0d0887"
             ],
             [
              0.1111111111111111,
              "#46039f"
             ],
             [
              0.2222222222222222,
              "#7201a8"
             ],
             [
              0.3333333333333333,
              "#9c179e"
             ],
             [
              0.4444444444444444,
              "#bd3786"
             ],
             [
              0.5555555555555556,
              "#d8576b"
             ],
             [
              0.6666666666666666,
              "#ed7953"
             ],
             [
              0.7777777777777778,
              "#fb9f3a"
             ],
             [
              0.8888888888888888,
              "#fdca26"
             ],
             [
              1,
              "#f0f921"
             ]
            ],
            "type": "heatmapgl"
           }
          ],
          "histogram": [
           {
            "marker": {
             "pattern": {
              "fillmode": "overlay",
              "size": 10,
              "solidity": 0.2
             }
            },
            "type": "histogram"
           }
          ],
          "histogram2d": [
           {
            "colorbar": {
             "outlinewidth": 0,
             "ticks": ""
            },
            "colorscale": [
             [
              0,
              "#0d0887"
             ],
             [
              0.1111111111111111,
              "#46039f"
             ],
             [
              0.2222222222222222,
              "#7201a8"
             ],
             [
              0.3333333333333333,
              "#9c179e"
             ],
             [
              0.4444444444444444,
              "#bd3786"
             ],
             [
              0.5555555555555556,
              "#d8576b"
             ],
             [
              0.6666666666666666,
              "#ed7953"
             ],
             [
              0.7777777777777778,
              "#fb9f3a"
             ],
             [
              0.8888888888888888,
              "#fdca26"
             ],
             [
              1,
              "#f0f921"
             ]
            ],
            "type": "histogram2d"
           }
          ],
          "histogram2dcontour": [
           {
            "colorbar": {
             "outlinewidth": 0,
             "ticks": ""
            },
            "colorscale": [
             [
              0,
              "#0d0887"
             ],
             [
              0.1111111111111111,
              "#46039f"
             ],
             [
              0.2222222222222222,
              "#7201a8"
             ],
             [
              0.3333333333333333,
              "#9c179e"
             ],
             [
              0.4444444444444444,
              "#bd3786"
             ],
             [
              0.5555555555555556,
              "#d8576b"
             ],
             [
              0.6666666666666666,
              "#ed7953"
             ],
             [
              0.7777777777777778,
              "#fb9f3a"
             ],
             [
              0.8888888888888888,
              "#fdca26"
             ],
             [
              1,
              "#f0f921"
             ]
            ],
            "type": "histogram2dcontour"
           }
          ],
          "mesh3d": [
           {
            "colorbar": {
             "outlinewidth": 0,
             "ticks": ""
            },
            "type": "mesh3d"
           }
          ],
          "parcoords": [
           {
            "line": {
             "colorbar": {
              "outlinewidth": 0,
              "ticks": ""
             }
            },
            "type": "parcoords"
           }
          ],
          "pie": [
           {
            "automargin": true,
            "type": "pie"
           }
          ],
          "scatter": [
           {
            "fillpattern": {
             "fillmode": "overlay",
             "size": 10,
             "solidity": 0.2
            },
            "type": "scatter"
           }
          ],
          "scatter3d": [
           {
            "line": {
             "colorbar": {
              "outlinewidth": 0,
              "ticks": ""
             }
            },
            "marker": {
             "colorbar": {
              "outlinewidth": 0,
              "ticks": ""
             }
            },
            "type": "scatter3d"
           }
          ],
          "scattercarpet": [
           {
            "marker": {
             "colorbar": {
              "outlinewidth": 0,
              "ticks": ""
             }
            },
            "type": "scattercarpet"
           }
          ],
          "scattergeo": [
           {
            "marker": {
             "colorbar": {
              "outlinewidth": 0,
              "ticks": ""
             }
            },
            "type": "scattergeo"
           }
          ],
          "scattergl": [
           {
            "marker": {
             "colorbar": {
              "outlinewidth": 0,
              "ticks": ""
             }
            },
            "type": "scattergl"
           }
          ],
          "scattermapbox": [
           {
            "marker": {
             "colorbar": {
              "outlinewidth": 0,
              "ticks": ""
             }
            },
            "type": "scattermapbox"
           }
          ],
          "scatterpolar": [
           {
            "marker": {
             "colorbar": {
              "outlinewidth": 0,
              "ticks": ""
             }
            },
            "type": "scatterpolar"
           }
          ],
          "scatterpolargl": [
           {
            "marker": {
             "colorbar": {
              "outlinewidth": 0,
              "ticks": ""
             }
            },
            "type": "scatterpolargl"
           }
          ],
          "scatterternary": [
           {
            "marker": {
             "colorbar": {
              "outlinewidth": 0,
              "ticks": ""
             }
            },
            "type": "scatterternary"
           }
          ],
          "surface": [
           {
            "colorbar": {
             "outlinewidth": 0,
             "ticks": ""
            },
            "colorscale": [
             [
              0,
              "#0d0887"
             ],
             [
              0.1111111111111111,
              "#46039f"
             ],
             [
              0.2222222222222222,
              "#7201a8"
             ],
             [
              0.3333333333333333,
              "#9c179e"
             ],
             [
              0.4444444444444444,
              "#bd3786"
             ],
             [
              0.5555555555555556,
              "#d8576b"
             ],
             [
              0.6666666666666666,
              "#ed7953"
             ],
             [
              0.7777777777777778,
              "#fb9f3a"
             ],
             [
              0.8888888888888888,
              "#fdca26"
             ],
             [
              1,
              "#f0f921"
             ]
            ],
            "type": "surface"
           }
          ],
          "table": [
           {
            "cells": {
             "fill": {
              "color": "#EBF0F8"
             },
             "line": {
              "color": "white"
             }
            },
            "header": {
             "fill": {
              "color": "#C8D4E3"
             },
             "line": {
              "color": "white"
             }
            },
            "type": "table"
           }
          ]
         },
         "layout": {
          "annotationdefaults": {
           "arrowcolor": "#2a3f5f",
           "arrowhead": 0,
           "arrowwidth": 1
          },
          "autotypenumbers": "strict",
          "coloraxis": {
           "colorbar": {
            "outlinewidth": 0,
            "ticks": ""
           }
          },
          "colorscale": {
           "diverging": [
            [
             0,
             "#8e0152"
            ],
            [
             0.1,
             "#c51b7d"
            ],
            [
             0.2,
             "#de77ae"
            ],
            [
             0.3,
             "#f1b6da"
            ],
            [
             0.4,
             "#fde0ef"
            ],
            [
             0.5,
             "#f7f7f7"
            ],
            [
             0.6,
             "#e6f5d0"
            ],
            [
             0.7,
             "#b8e186"
            ],
            [
             0.8,
             "#7fbc41"
            ],
            [
             0.9,
             "#4d9221"
            ],
            [
             1,
             "#276419"
            ]
           ],
           "sequential": [
            [
             0,
             "#0d0887"
            ],
            [
             0.1111111111111111,
             "#46039f"
            ],
            [
             0.2222222222222222,
             "#7201a8"
            ],
            [
             0.3333333333333333,
             "#9c179e"
            ],
            [
             0.4444444444444444,
             "#bd3786"
            ],
            [
             0.5555555555555556,
             "#d8576b"
            ],
            [
             0.6666666666666666,
             "#ed7953"
            ],
            [
             0.7777777777777778,
             "#fb9f3a"
            ],
            [
             0.8888888888888888,
             "#fdca26"
            ],
            [
             1,
             "#f0f921"
            ]
           ],
           "sequentialminus": [
            [
             0,
             "#0d0887"
            ],
            [
             0.1111111111111111,
             "#46039f"
            ],
            [
             0.2222222222222222,
             "#7201a8"
            ],
            [
             0.3333333333333333,
             "#9c179e"
            ],
            [
             0.4444444444444444,
             "#bd3786"
            ],
            [
             0.5555555555555556,
             "#d8576b"
            ],
            [
             0.6666666666666666,
             "#ed7953"
            ],
            [
             0.7777777777777778,
             "#fb9f3a"
            ],
            [
             0.8888888888888888,
             "#fdca26"
            ],
            [
             1,
             "#f0f921"
            ]
           ]
          },
          "colorway": [
           "#636efa",
           "#EF553B",
           "#00cc96",
           "#ab63fa",
           "#FFA15A",
           "#19d3f3",
           "#FF6692",
           "#B6E880",
           "#FF97FF",
           "#FECB52"
          ],
          "font": {
           "color": "#2a3f5f"
          },
          "geo": {
           "bgcolor": "white",
           "lakecolor": "white",
           "landcolor": "#E5ECF6",
           "showlakes": true,
           "showland": true,
           "subunitcolor": "white"
          },
          "hoverlabel": {
           "align": "left"
          },
          "hovermode": "closest",
          "mapbox": {
           "style": "light"
          },
          "paper_bgcolor": "white",
          "plot_bgcolor": "#E5ECF6",
          "polar": {
           "angularaxis": {
            "gridcolor": "white",
            "linecolor": "white",
            "ticks": ""
           },
           "bgcolor": "#E5ECF6",
           "radialaxis": {
            "gridcolor": "white",
            "linecolor": "white",
            "ticks": ""
           }
          },
          "scene": {
           "xaxis": {
            "backgroundcolor": "#E5ECF6",
            "gridcolor": "white",
            "gridwidth": 2,
            "linecolor": "white",
            "showbackground": true,
            "ticks": "",
            "zerolinecolor": "white"
           },
           "yaxis": {
            "backgroundcolor": "#E5ECF6",
            "gridcolor": "white",
            "gridwidth": 2,
            "linecolor": "white",
            "showbackground": true,
            "ticks": "",
            "zerolinecolor": "white"
           },
           "zaxis": {
            "backgroundcolor": "#E5ECF6",
            "gridcolor": "white",
            "gridwidth": 2,
            "linecolor": "white",
            "showbackground": true,
            "ticks": "",
            "zerolinecolor": "white"
           }
          },
          "shapedefaults": {
           "line": {
            "color": "#2a3f5f"
           }
          },
          "ternary": {
           "aaxis": {
            "gridcolor": "white",
            "linecolor": "white",
            "ticks": ""
           },
           "baxis": {
            "gridcolor": "white",
            "linecolor": "white",
            "ticks": ""
           },
           "bgcolor": "#E5ECF6",
           "caxis": {
            "gridcolor": "white",
            "linecolor": "white",
            "ticks": ""
           }
          },
          "title": {
           "x": 0.05
          },
          "xaxis": {
           "automargin": true,
           "gridcolor": "white",
           "linecolor": "white",
           "ticks": "",
           "title": {
            "standoff": 15
           },
           "zerolinecolor": "white",
           "zerolinewidth": 2
          },
          "yaxis": {
           "automargin": true,
           "gridcolor": "white",
           "linecolor": "white",
           "ticks": "",
           "title": {
            "standoff": 15
           },
           "zerolinecolor": "white",
           "zerolinewidth": 2
          }
         }
        },
        "title": {
         "text": "<b>Share of different metrics and % cost vs frequency bands</b>"
        },
        "xaxis": {
         "anchor": "y",
         "domain": [
          0,
          0.94
         ],
         "tickmode": "array",
         "title": {
          "text": "<b>Frequency</b>"
         }
        },
        "yaxis": {
         "anchor": "x",
         "domain": [
          0,
          1
         ],
         "ticksuffix": "%",
         "title": {
          "text": "<b>Percentage</b>"
         }
        },
        "yaxis2": {
         "anchor": "x",
         "overlaying": "y",
         "side": "right",
         "ticksuffix": "%",
         "title": {
          "text": "<b>Cost</b>"
         }
        }
       }
      }
     },
     "metadata": {},
     "output_type": "display_data"
    }
   ],
   "source": [
    "fig = make_subplots(specs=[[{\"secondary_y\": True}]])\n",
    "\n",
    "fig.add_trace(go.Bar(x=df_an.frequency_range,\n",
    "                     y=df_an[\"reach\"]/df_an[\"cumsum_reach\"].max()*100,\n",
    "                     name=\"% Reach\", marker_color='#ff007f'), \n",
    "                     secondary_y=False)\n",
    "\n",
    "fig.add_trace(go.Bar(x=df_an.frequency_range,\n",
    "                     y=df_an[\"total_impressions\"]/df_an[\"cumsum_total_impressions\"].max()*100,\n",
    "                     name=\"% Impressions\", marker_color='#f0cd28'),\n",
    "                     secondary_y=False)\n",
    "\n",
    "fig.add_trace(go.Bar(x=df_an.frequency_range,\n",
    "                     y=df_an[\"total_clicks\"]/df_an[\"cumsum_total_clicks\"].max()*100,\n",
    "                     name=\"% Clicks\", marker_color='#29B325'),\n",
    "                     secondary_y=False,)\n",
    "\n",
    "fig.add_trace(go.Bar(x=df_an.frequency_range,\n",
    "                     y=df_an[\"total_conversions\"]/df_an[\"cumsum_total_conversions\"].max()*100,\n",
    "                     name=\"% Conversions\", marker_color='#005daa'),\n",
    "                     secondary_y=False,)\n",
    "\n",
    "fig.add_trace(go.Bar(x=df_an.frequency_range,\n",
    "                     y=df_an[\"total_revenue\"]/df_an[\"cumsum_total_revenue\"].max()*100,\n",
    "                     name=\"% Revenue\", marker_color='#a87532'),\n",
    "                     secondary_y=False,)\n",
    "\n",
    "fig.add_trace(go.Scatter(x=df_an.frequency_range, \n",
    "                         y=df_an.total_cost/df_an.cumsum_total_cost.max()*100,\n",
    "                         mode='lines+markers',\n",
    "                         name='% of Total cost', marker_color='#415a6c'),\n",
    "                         secondary_y=True,)\n",
    "\n",
    "\n",
    "fig.update_layout(\n",
    "    title='<b>Share of different metrics and % cost vs frequency bands</b>',\n",
    "    #template=\"plotly_dark\",\n",
    "    xaxis = dict(\n",
    "        tickmode = 'array',\n",
    "        ),\n",
    "    xaxis_title=\"<b>Frequency</b>\",\n",
    "    #xaxis_range=[0,10]    \n",
    ")\n",
    "\n",
    "\n",
    "fig.update_layout(legend=dict(\n",
    "    orientation=\"h\",\n",
    "    yanchor=\"bottom\",\n",
    "    y=1,\n",
    "    xanchor=\"left\",\n",
    "    x=0\n",
    "))\n",
    "\n",
    "# Set y-axes titles\n",
    "fig.update_yaxes(title_text=\"<b>Percentage</b>\", ticksuffix = \"%\", secondary_y=False)\n",
    "fig.update_yaxes(title_text=\"<b>Cost</b>\", ticksuffix = \"%\", secondary_y=True)"
   ]
  },
  {
   "cell_type": "markdown",
   "id": "1add52aa",
   "metadata": {},
   "source": [
    "#### Plot 5 - CPA and ROAS vs Frequency band"
   ]
  },
  {
   "cell_type": "code",
   "execution_count": 21,
   "id": "b51c5d5b",
   "metadata": {},
   "outputs": [
    {
     "data": {
      "application/vnd.plotly.v1+json": {
       "config": {
        "plotlyServerURL": "https://plot.ly"
       },
       "data": [
        {
         "marker": {
          "color": "#ff007f"
         },
         "mode": "lines+markers",
         "name": "CPA",
         "type": "scatter",
         "x": [
          "1 - 50",
          "51 - 100",
          "101 - 150",
          "151 - 200",
          "201 - 250",
          "251 - 300",
          "301 - 350",
          "351 - 400",
          "401 - 450",
          ">450"
         ],
         "xaxis": "x",
         "y": [
          183.2278144329897,
          365.68845462713386,
          497.58573853989816,
          568.6124098360656,
          614.2955977382875,
          641.07708,
          661.0529083665339,
          676.9996974522293,
          685.1843616177637,
          686.5022979397781
         ],
         "yaxis": "y"
        },
        {
         "marker": {
          "color": "#415a6c"
         },
         "mode": "lines+markers",
         "name": "ROAS",
         "type": "scatter",
         "x": [
          "1 - 50",
          "51 - 100",
          "101 - 150",
          "151 - 200",
          "201 - 250",
          "251 - 300",
          "301 - 350",
          "351 - 400",
          "401 - 450",
          ">450"
         ],
         "xaxis": "x",
         "y": [
          0.7009143256848072,
          0.34445436090525744,
          0.2513821576508642,
          0.2208508045628591,
          0.20293648391820115,
          0.1935599756584652,
          0.1873172630310644,
          0.18277111160729512,
          0.18089914106830327,
          0.18041916238854724
         ],
         "yaxis": "y2"
        }
       ],
       "layout": {
        "legend": {
         "orientation": "h",
         "x": 0,
         "xanchor": "left",
         "y": 1,
         "yanchor": "bottom"
        },
        "template": {
         "data": {
          "bar": [
           {
            "error_x": {
             "color": "#2a3f5f"
            },
            "error_y": {
             "color": "#2a3f5f"
            },
            "marker": {
             "line": {
              "color": "#E5ECF6",
              "width": 0.5
             },
             "pattern": {
              "fillmode": "overlay",
              "size": 10,
              "solidity": 0.2
             }
            },
            "type": "bar"
           }
          ],
          "barpolar": [
           {
            "marker": {
             "line": {
              "color": "#E5ECF6",
              "width": 0.5
             },
             "pattern": {
              "fillmode": "overlay",
              "size": 10,
              "solidity": 0.2
             }
            },
            "type": "barpolar"
           }
          ],
          "carpet": [
           {
            "aaxis": {
             "endlinecolor": "#2a3f5f",
             "gridcolor": "white",
             "linecolor": "white",
             "minorgridcolor": "white",
             "startlinecolor": "#2a3f5f"
            },
            "baxis": {
             "endlinecolor": "#2a3f5f",
             "gridcolor": "white",
             "linecolor": "white",
             "minorgridcolor": "white",
             "startlinecolor": "#2a3f5f"
            },
            "type": "carpet"
           }
          ],
          "choropleth": [
           {
            "colorbar": {
             "outlinewidth": 0,
             "ticks": ""
            },
            "type": "choropleth"
           }
          ],
          "contour": [
           {
            "colorbar": {
             "outlinewidth": 0,
             "ticks": ""
            },
            "colorscale": [
             [
              0,
              "#0d0887"
             ],
             [
              0.1111111111111111,
              "#46039f"
             ],
             [
              0.2222222222222222,
              "#7201a8"
             ],
             [
              0.3333333333333333,
              "#9c179e"
             ],
             [
              0.4444444444444444,
              "#bd3786"
             ],
             [
              0.5555555555555556,
              "#d8576b"
             ],
             [
              0.6666666666666666,
              "#ed7953"
             ],
             [
              0.7777777777777778,
              "#fb9f3a"
             ],
             [
              0.8888888888888888,
              "#fdca26"
             ],
             [
              1,
              "#f0f921"
             ]
            ],
            "type": "contour"
           }
          ],
          "contourcarpet": [
           {
            "colorbar": {
             "outlinewidth": 0,
             "ticks": ""
            },
            "type": "contourcarpet"
           }
          ],
          "heatmap": [
           {
            "colorbar": {
             "outlinewidth": 0,
             "ticks": ""
            },
            "colorscale": [
             [
              0,
              "#0d0887"
             ],
             [
              0.1111111111111111,
              "#46039f"
             ],
             [
              0.2222222222222222,
              "#7201a8"
             ],
             [
              0.3333333333333333,
              "#9c179e"
             ],
             [
              0.4444444444444444,
              "#bd3786"
             ],
             [
              0.5555555555555556,
              "#d8576b"
             ],
             [
              0.6666666666666666,
              "#ed7953"
             ],
             [
              0.7777777777777778,
              "#fb9f3a"
             ],
             [
              0.8888888888888888,
              "#fdca26"
             ],
             [
              1,
              "#f0f921"
             ]
            ],
            "type": "heatmap"
           }
          ],
          "heatmapgl": [
           {
            "colorbar": {
             "outlinewidth": 0,
             "ticks": ""
            },
            "colorscale": [
             [
              0,
              "#0d0887"
             ],
             [
              0.1111111111111111,
              "#46039f"
             ],
             [
              0.2222222222222222,
              "#7201a8"
             ],
             [
              0.3333333333333333,
              "#9c179e"
             ],
             [
              0.4444444444444444,
              "#bd3786"
             ],
             [
              0.5555555555555556,
              "#d8576b"
             ],
             [
              0.6666666666666666,
              "#ed7953"
             ],
             [
              0.7777777777777778,
              "#fb9f3a"
             ],
             [
              0.8888888888888888,
              "#fdca26"
             ],
             [
              1,
              "#f0f921"
             ]
            ],
            "type": "heatmapgl"
           }
          ],
          "histogram": [
           {
            "marker": {
             "pattern": {
              "fillmode": "overlay",
              "size": 10,
              "solidity": 0.2
             }
            },
            "type": "histogram"
           }
          ],
          "histogram2d": [
           {
            "colorbar": {
             "outlinewidth": 0,
             "ticks": ""
            },
            "colorscale": [
             [
              0,
              "#0d0887"
             ],
             [
              0.1111111111111111,
              "#46039f"
             ],
             [
              0.2222222222222222,
              "#7201a8"
             ],
             [
              0.3333333333333333,
              "#9c179e"
             ],
             [
              0.4444444444444444,
              "#bd3786"
             ],
             [
              0.5555555555555556,
              "#d8576b"
             ],
             [
              0.6666666666666666,
              "#ed7953"
             ],
             [
              0.7777777777777778,
              "#fb9f3a"
             ],
             [
              0.8888888888888888,
              "#fdca26"
             ],
             [
              1,
              "#f0f921"
             ]
            ],
            "type": "histogram2d"
           }
          ],
          "histogram2dcontour": [
           {
            "colorbar": {
             "outlinewidth": 0,
             "ticks": ""
            },
            "colorscale": [
             [
              0,
              "#0d0887"
             ],
             [
              0.1111111111111111,
              "#46039f"
             ],
             [
              0.2222222222222222,
              "#7201a8"
             ],
             [
              0.3333333333333333,
              "#9c179e"
             ],
             [
              0.4444444444444444,
              "#bd3786"
             ],
             [
              0.5555555555555556,
              "#d8576b"
             ],
             [
              0.6666666666666666,
              "#ed7953"
             ],
             [
              0.7777777777777778,
              "#fb9f3a"
             ],
             [
              0.8888888888888888,
              "#fdca26"
             ],
             [
              1,
              "#f0f921"
             ]
            ],
            "type": "histogram2dcontour"
           }
          ],
          "mesh3d": [
           {
            "colorbar": {
             "outlinewidth": 0,
             "ticks": ""
            },
            "type": "mesh3d"
           }
          ],
          "parcoords": [
           {
            "line": {
             "colorbar": {
              "outlinewidth": 0,
              "ticks": ""
             }
            },
            "type": "parcoords"
           }
          ],
          "pie": [
           {
            "automargin": true,
            "type": "pie"
           }
          ],
          "scatter": [
           {
            "fillpattern": {
             "fillmode": "overlay",
             "size": 10,
             "solidity": 0.2
            },
            "type": "scatter"
           }
          ],
          "scatter3d": [
           {
            "line": {
             "colorbar": {
              "outlinewidth": 0,
              "ticks": ""
             }
            },
            "marker": {
             "colorbar": {
              "outlinewidth": 0,
              "ticks": ""
             }
            },
            "type": "scatter3d"
           }
          ],
          "scattercarpet": [
           {
            "marker": {
             "colorbar": {
              "outlinewidth": 0,
              "ticks": ""
             }
            },
            "type": "scattercarpet"
           }
          ],
          "scattergeo": [
           {
            "marker": {
             "colorbar": {
              "outlinewidth": 0,
              "ticks": ""
             }
            },
            "type": "scattergeo"
           }
          ],
          "scattergl": [
           {
            "marker": {
             "colorbar": {
              "outlinewidth": 0,
              "ticks": ""
             }
            },
            "type": "scattergl"
           }
          ],
          "scattermapbox": [
           {
            "marker": {
             "colorbar": {
              "outlinewidth": 0,
              "ticks": ""
             }
            },
            "type": "scattermapbox"
           }
          ],
          "scatterpolar": [
           {
            "marker": {
             "colorbar": {
              "outlinewidth": 0,
              "ticks": ""
             }
            },
            "type": "scatterpolar"
           }
          ],
          "scatterpolargl": [
           {
            "marker": {
             "colorbar": {
              "outlinewidth": 0,
              "ticks": ""
             }
            },
            "type": "scatterpolargl"
           }
          ],
          "scatterternary": [
           {
            "marker": {
             "colorbar": {
              "outlinewidth": 0,
              "ticks": ""
             }
            },
            "type": "scatterternary"
           }
          ],
          "surface": [
           {
            "colorbar": {
             "outlinewidth": 0,
             "ticks": ""
            },
            "colorscale": [
             [
              0,
              "#0d0887"
             ],
             [
              0.1111111111111111,
              "#46039f"
             ],
             [
              0.2222222222222222,
              "#7201a8"
             ],
             [
              0.3333333333333333,
              "#9c179e"
             ],
             [
              0.4444444444444444,
              "#bd3786"
             ],
             [
              0.5555555555555556,
              "#d8576b"
             ],
             [
              0.6666666666666666,
              "#ed7953"
             ],
             [
              0.7777777777777778,
              "#fb9f3a"
             ],
             [
              0.8888888888888888,
              "#fdca26"
             ],
             [
              1,
              "#f0f921"
             ]
            ],
            "type": "surface"
           }
          ],
          "table": [
           {
            "cells": {
             "fill": {
              "color": "#EBF0F8"
             },
             "line": {
              "color": "white"
             }
            },
            "header": {
             "fill": {
              "color": "#C8D4E3"
             },
             "line": {
              "color": "white"
             }
            },
            "type": "table"
           }
          ]
         },
         "layout": {
          "annotationdefaults": {
           "arrowcolor": "#2a3f5f",
           "arrowhead": 0,
           "arrowwidth": 1
          },
          "autotypenumbers": "strict",
          "coloraxis": {
           "colorbar": {
            "outlinewidth": 0,
            "ticks": ""
           }
          },
          "colorscale": {
           "diverging": [
            [
             0,
             "#8e0152"
            ],
            [
             0.1,
             "#c51b7d"
            ],
            [
             0.2,
             "#de77ae"
            ],
            [
             0.3,
             "#f1b6da"
            ],
            [
             0.4,
             "#fde0ef"
            ],
            [
             0.5,
             "#f7f7f7"
            ],
            [
             0.6,
             "#e6f5d0"
            ],
            [
             0.7,
             "#b8e186"
            ],
            [
             0.8,
             "#7fbc41"
            ],
            [
             0.9,
             "#4d9221"
            ],
            [
             1,
             "#276419"
            ]
           ],
           "sequential": [
            [
             0,
             "#0d0887"
            ],
            [
             0.1111111111111111,
             "#46039f"
            ],
            [
             0.2222222222222222,
             "#7201a8"
            ],
            [
             0.3333333333333333,
             "#9c179e"
            ],
            [
             0.4444444444444444,
             "#bd3786"
            ],
            [
             0.5555555555555556,
             "#d8576b"
            ],
            [
             0.6666666666666666,
             "#ed7953"
            ],
            [
             0.7777777777777778,
             "#fb9f3a"
            ],
            [
             0.8888888888888888,
             "#fdca26"
            ],
            [
             1,
             "#f0f921"
            ]
           ],
           "sequentialminus": [
            [
             0,
             "#0d0887"
            ],
            [
             0.1111111111111111,
             "#46039f"
            ],
            [
             0.2222222222222222,
             "#7201a8"
            ],
            [
             0.3333333333333333,
             "#9c179e"
            ],
            [
             0.4444444444444444,
             "#bd3786"
            ],
            [
             0.5555555555555556,
             "#d8576b"
            ],
            [
             0.6666666666666666,
             "#ed7953"
            ],
            [
             0.7777777777777778,
             "#fb9f3a"
            ],
            [
             0.8888888888888888,
             "#fdca26"
            ],
            [
             1,
             "#f0f921"
            ]
           ]
          },
          "colorway": [
           "#636efa",
           "#EF553B",
           "#00cc96",
           "#ab63fa",
           "#FFA15A",
           "#19d3f3",
           "#FF6692",
           "#B6E880",
           "#FF97FF",
           "#FECB52"
          ],
          "font": {
           "color": "#2a3f5f"
          },
          "geo": {
           "bgcolor": "white",
           "lakecolor": "white",
           "landcolor": "#E5ECF6",
           "showlakes": true,
           "showland": true,
           "subunitcolor": "white"
          },
          "hoverlabel": {
           "align": "left"
          },
          "hovermode": "closest",
          "mapbox": {
           "style": "light"
          },
          "paper_bgcolor": "white",
          "plot_bgcolor": "#E5ECF6",
          "polar": {
           "angularaxis": {
            "gridcolor": "white",
            "linecolor": "white",
            "ticks": ""
           },
           "bgcolor": "#E5ECF6",
           "radialaxis": {
            "gridcolor": "white",
            "linecolor": "white",
            "ticks": ""
           }
          },
          "scene": {
           "xaxis": {
            "backgroundcolor": "#E5ECF6",
            "gridcolor": "white",
            "gridwidth": 2,
            "linecolor": "white",
            "showbackground": true,
            "ticks": "",
            "zerolinecolor": "white"
           },
           "yaxis": {
            "backgroundcolor": "#E5ECF6",
            "gridcolor": "white",
            "gridwidth": 2,
            "linecolor": "white",
            "showbackground": true,
            "ticks": "",
            "zerolinecolor": "white"
           },
           "zaxis": {
            "backgroundcolor": "#E5ECF6",
            "gridcolor": "white",
            "gridwidth": 2,
            "linecolor": "white",
            "showbackground": true,
            "ticks": "",
            "zerolinecolor": "white"
           }
          },
          "shapedefaults": {
           "line": {
            "color": "#2a3f5f"
           }
          },
          "ternary": {
           "aaxis": {
            "gridcolor": "white",
            "linecolor": "white",
            "ticks": ""
           },
           "baxis": {
            "gridcolor": "white",
            "linecolor": "white",
            "ticks": ""
           },
           "bgcolor": "#E5ECF6",
           "caxis": {
            "gridcolor": "white",
            "linecolor": "white",
            "ticks": ""
           }
          },
          "title": {
           "x": 0.05
          },
          "xaxis": {
           "automargin": true,
           "gridcolor": "white",
           "linecolor": "white",
           "ticks": "",
           "title": {
            "standoff": 15
           },
           "zerolinecolor": "white",
           "zerolinewidth": 2
          },
          "yaxis": {
           "automargin": true,
           "gridcolor": "white",
           "linecolor": "white",
           "ticks": "",
           "title": {
            "standoff": 15
           },
           "zerolinecolor": "white",
           "zerolinewidth": 2
          }
         }
        },
        "title": {
         "text": "<b>CPA and ROAS vs Frequency (calculated using cumulative values)</b>"
        },
        "xaxis": {
         "anchor": "y",
         "domain": [
          0,
          0.94
         ],
         "tickmode": "array",
         "title": {
          "text": "<b>Frequency</b>"
         }
        },
        "yaxis": {
         "anchor": "x",
         "domain": [
          0,
          1
         ],
         "ticksuffix": "$",
         "title": {
          "text": "<b>CPA ($) </b>"
         }
        },
        "yaxis2": {
         "anchor": "x",
         "overlaying": "y",
         "side": "right",
         "title": {
          "text": "<b>ROAS</b>"
         }
        }
       }
      }
     },
     "metadata": {},
     "output_type": "display_data"
    }
   ],
   "source": [
    "#fig = go.Figure()\n",
    "fig = make_subplots(specs=[[{\"secondary_y\": True}]])\n",
    "\n",
    "\n",
    "fig.add_trace(go.Scatter(x=df_an.frequency_range, \n",
    "                         y=df_an.cumsumCPA,\n",
    "                         mode='lines+markers',\n",
    "                         name='CPA', marker_color='#ff007f'),\n",
    "                         secondary_y=False,)\n",
    "\n",
    "fig.add_trace(go.Scatter(x=df_an.frequency_range, \n",
    "                         y=df_an.cumsumROAS,\n",
    "                         mode='lines+markers',\n",
    "                         name='ROAS', marker_color='#415a6c'),\n",
    "                         secondary_y=True,)\n",
    "\n",
    "fig.update_layout(\n",
    "    title='<b>CPA and ROAS vs Frequency (calculated using cumulative values)</b>',\n",
    "    #template=\"plotly_dark\",\n",
    "    xaxis = dict(\n",
    "        tickmode = 'array',\n",
    "        ),\n",
    "    xaxis_title=\"<b>Frequency</b>\",\n",
    "    #xaxis_range=[0,40]  \n",
    "    #yaxis2_range = [-1.5,3]  \n",
    ")\n",
    "\n",
    "\n",
    "fig.update_layout(legend=dict(\n",
    "    orientation=\"h\",\n",
    "    yanchor=\"bottom\",\n",
    "    y=1,\n",
    "    xanchor=\"left\",\n",
    "    x=0\n",
    "))\n",
    "\n",
    "# Set y-axes titles\n",
    "fig.update_yaxes(title_text=\"<b>CPA ($) </b>\", ticksuffix = \"$\", secondary_y=False)\n",
    "fig.update_yaxes(title_text=\"<b>ROAS</b>\", secondary_y=True)"
   ]
  },
  {
   "cell_type": "markdown",
   "id": "7833b4e6",
   "metadata": {},
   "source": [
    "### Analysis in frequency bands 2"
   ]
  },
  {
   "cell_type": "markdown",
   "id": "9b21b523",
   "metadata": {},
   "source": [
    "#### Create the frequency ranges to estimate the metrics per range of frequency. We are going to show the percentages."
   ]
  },
  {
   "cell_type": "code",
   "execution_count": 22,
   "id": "45082a1d",
   "metadata": {},
   "outputs": [],
   "source": [
    "df_an = df[['frequency', 'reach','total_impressions', 'total_clicks', 'total_conversions','total_revenue', 'total_cost']]\n",
    "df_an = df_an[df_an.frequency > 0]\n",
    "\n",
    "# Upper limit of each group\n",
    "upper_limits = [5,10,25,50,100,150,200,500]\n",
    "\n",
    "# Create a column called 'frequency_range' to group frequencies based on limits and one numerical column to sort values\n",
    "df_an.loc[df_an['frequency']<=upper_limits[0],'frequency_range'] = f'1 - {upper_limits[0]}'\n",
    "df_an.loc[df_an['frequency']<=upper_limits[0],'order'] = 0\n",
    "for index,value in enumerate(upper_limits[:-1]):\n",
    "    df_an.loc[(df_an['frequency']>upper_limits[index])&(df_an['frequency']<=upper_limits[index+1]),'frequency_range'] = f'{upper_limits[index]+1} - {upper_limits[index+1]}'\n",
    "    df_an.loc[(df_an['frequency']>upper_limits[index])&(df_an['frequency']<=upper_limits[index+1]),'order'] = index+1\n",
    "df_an.loc[df_an['frequency']>upper_limits[-1],'frequency_range'] = f'>{upper_limits[-1]}'\n",
    "df_an.loc[df_an['frequency']>upper_limits[-1],'order'] = len(upper_limits)+1\n",
    "# display updated DataFrame\n",
    "#df_an = df_an[['frequency', 'reach','total_impressions', 'total_clicks', 'total_conversions','total_revenue', 'total_cost']].groupby(by='frequency_range').sum()\n",
    "df_an = df_an.groupby(by=['order','frequency_range']).sum().reset_index()[['frequency_range','reach','total_impressions', 'total_clicks', 'total_conversions','total_revenue', 'total_cost']]\n",
    "\n",
    "dimensions = [  \n",
    "            'reach',\n",
    "            'total_impressions',\n",
    "            'total_clicks',\n",
    "            'total_conversions',\n",
    "            'total_revenue',\n",
    "            'total_cost'\n",
    "            ]\n",
    "# For that dimension calculate cumsum and add it as a new column to the dataframe\n",
    "for column in dimensions:\n",
    "    df_an['cumsum_'+column] = df_an[column].cumsum()\n",
    "\n",
    "# Calculate CVR and CPA\n",
    "df_an['CVR'] = df_an.total_conversions/ df_an.total_impressions\n",
    "df_an['CPA'] = df_an.total_cost/ df_an.total_conversions\n",
    "df_an['ROAS'] = df_an.total_revenue/ df_an.total_cost\n",
    "df_an['cumsumCVR'] = df_an.cumsum_total_conversions/ df_an.cumsum_total_impressions\n",
    "df_an['cumsumCPA'] = df_an.cumsum_total_cost/ df_an.cumsum_total_conversions\n",
    "df_an['cumsumROAS'] = df_an.cumsum_total_revenue / df_an.cumsum_total_cost"
   ]
  },
  {
   "cell_type": "markdown",
   "id": "4d31ba06",
   "metadata": {},
   "source": [
    "#### Plot 6 - Share of clicks, conversions and revenue and % of cumulative cost vs frequency bands"
   ]
  },
  {
   "cell_type": "code",
   "execution_count": 23,
   "id": "c95d27a8",
   "metadata": {},
   "outputs": [
    {
     "data": {
      "application/vnd.plotly.v1+json": {
       "config": {
        "plotlyServerURL": "https://plot.ly"
       },
       "data": [
        {
         "marker": {
          "color": "#ff007f"
         },
         "name": "% Reach",
         "type": "bar",
         "x": [
          "1 - 5",
          "6 - 10",
          "11 - 25",
          "26 - 50",
          "51 - 100",
          "101 - 150",
          "151 - 200",
          "201 - 500"
         ],
         "xaxis": "x",
         "y": [
          12.744066973489124,
          9.911373121623694,
          17.636073401537544,
          17.535407333078183,
          20.800247001727083,
          10.352953032149891,
          4.900154054462594,
          6.119725081931888
         ],
         "yaxis": "y"
        },
        {
         "marker": {
          "color": "#005daa"
         },
         "name": "% Conversions",
         "type": "bar",
         "x": [
          "1 - 5",
          "6 - 10",
          "11 - 25",
          "26 - 50",
          "51 - 100",
          "101 - 150",
          "151 - 200",
          "201 - 500"
         ],
         "xaxis": "x",
         "y": [
          25.356576862123614,
          20.998415213946117,
          18.225039619651348,
          12.282091917591126,
          11.33122028526149,
          5.150554675118859,
          3.328050713153724,
          3.328050713153724
         ],
         "yaxis": "y"
        },
        {
         "marker": {
          "color": "#a87532"
         },
         "name": "% Revenue",
         "type": "bar",
         "x": [
          "1 - 5",
          "6 - 10",
          "11 - 25",
          "26 - 50",
          "51 - 100",
          "101 - 150",
          "151 - 200",
          "201 - 500"
         ],
         "xaxis": "x",
         "y": [
          29.116280628992524,
          23.395522753294895,
          16.854428289194594,
          10.331151096152427,
          9.994695763219282,
          4.575782291756568,
          3.7468217603067164,
          1.9853174170829955
         ],
         "yaxis": "y"
        },
        {
         "marker": {
          "color": "#415a6c"
         },
         "mode": "lines+markers",
         "name": "% of Total cost",
         "type": "scatter",
         "x": [
          "1 - 5",
          "6 - 10",
          "11 - 25",
          "26 - 50",
          "51 - 100",
          "101 - 150",
          "151 - 200",
          "201 - 500"
         ],
         "xaxis": "x",
         "y": [
          0.7025149535548432,
          2.546579915022048,
          8.713622038909888,
          20.514540103667517,
          46.97914010696866,
          67.65686414943156,
          80.07091922708408,
          100
         ],
         "yaxis": "y2"
        }
       ],
       "layout": {
        "legend": {
         "orientation": "h",
         "x": 0,
         "xanchor": "left",
         "y": 1,
         "yanchor": "bottom"
        },
        "template": {
         "data": {
          "bar": [
           {
            "error_x": {
             "color": "#2a3f5f"
            },
            "error_y": {
             "color": "#2a3f5f"
            },
            "marker": {
             "line": {
              "color": "#E5ECF6",
              "width": 0.5
             },
             "pattern": {
              "fillmode": "overlay",
              "size": 10,
              "solidity": 0.2
             }
            },
            "type": "bar"
           }
          ],
          "barpolar": [
           {
            "marker": {
             "line": {
              "color": "#E5ECF6",
              "width": 0.5
             },
             "pattern": {
              "fillmode": "overlay",
              "size": 10,
              "solidity": 0.2
             }
            },
            "type": "barpolar"
           }
          ],
          "carpet": [
           {
            "aaxis": {
             "endlinecolor": "#2a3f5f",
             "gridcolor": "white",
             "linecolor": "white",
             "minorgridcolor": "white",
             "startlinecolor": "#2a3f5f"
            },
            "baxis": {
             "endlinecolor": "#2a3f5f",
             "gridcolor": "white",
             "linecolor": "white",
             "minorgridcolor": "white",
             "startlinecolor": "#2a3f5f"
            },
            "type": "carpet"
           }
          ],
          "choropleth": [
           {
            "colorbar": {
             "outlinewidth": 0,
             "ticks": ""
            },
            "type": "choropleth"
           }
          ],
          "contour": [
           {
            "colorbar": {
             "outlinewidth": 0,
             "ticks": ""
            },
            "colorscale": [
             [
              0,
              "#0d0887"
             ],
             [
              0.1111111111111111,
              "#46039f"
             ],
             [
              0.2222222222222222,
              "#7201a8"
             ],
             [
              0.3333333333333333,
              "#9c179e"
             ],
             [
              0.4444444444444444,
              "#bd3786"
             ],
             [
              0.5555555555555556,
              "#d8576b"
             ],
             [
              0.6666666666666666,
              "#ed7953"
             ],
             [
              0.7777777777777778,
              "#fb9f3a"
             ],
             [
              0.8888888888888888,
              "#fdca26"
             ],
             [
              1,
              "#f0f921"
             ]
            ],
            "type": "contour"
           }
          ],
          "contourcarpet": [
           {
            "colorbar": {
             "outlinewidth": 0,
             "ticks": ""
            },
            "type": "contourcarpet"
           }
          ],
          "heatmap": [
           {
            "colorbar": {
             "outlinewidth": 0,
             "ticks": ""
            },
            "colorscale": [
             [
              0,
              "#0d0887"
             ],
             [
              0.1111111111111111,
              "#46039f"
             ],
             [
              0.2222222222222222,
              "#7201a8"
             ],
             [
              0.3333333333333333,
              "#9c179e"
             ],
             [
              0.4444444444444444,
              "#bd3786"
             ],
             [
              0.5555555555555556,
              "#d8576b"
             ],
             [
              0.6666666666666666,
              "#ed7953"
             ],
             [
              0.7777777777777778,
              "#fb9f3a"
             ],
             [
              0.8888888888888888,
              "#fdca26"
             ],
             [
              1,
              "#f0f921"
             ]
            ],
            "type": "heatmap"
           }
          ],
          "heatmapgl": [
           {
            "colorbar": {
             "outlinewidth": 0,
             "ticks": ""
            },
            "colorscale": [
             [
              0,
              "#0d0887"
             ],
             [
              0.1111111111111111,
              "#46039f"
             ],
             [
              0.2222222222222222,
              "#7201a8"
             ],
             [
              0.3333333333333333,
              "#9c179e"
             ],
             [
              0.4444444444444444,
              "#bd3786"
             ],
             [
              0.5555555555555556,
              "#d8576b"
             ],
             [
              0.6666666666666666,
              "#ed7953"
             ],
             [
              0.7777777777777778,
              "#fb9f3a"
             ],
             [
              0.8888888888888888,
              "#fdca26"
             ],
             [
              1,
              "#f0f921"
             ]
            ],
            "type": "heatmapgl"
           }
          ],
          "histogram": [
           {
            "marker": {
             "pattern": {
              "fillmode": "overlay",
              "size": 10,
              "solidity": 0.2
             }
            },
            "type": "histogram"
           }
          ],
          "histogram2d": [
           {
            "colorbar": {
             "outlinewidth": 0,
             "ticks": ""
            },
            "colorscale": [
             [
              0,
              "#0d0887"
             ],
             [
              0.1111111111111111,
              "#46039f"
             ],
             [
              0.2222222222222222,
              "#7201a8"
             ],
             [
              0.3333333333333333,
              "#9c179e"
             ],
             [
              0.4444444444444444,
              "#bd3786"
             ],
             [
              0.5555555555555556,
              "#d8576b"
             ],
             [
              0.6666666666666666,
              "#ed7953"
             ],
             [
              0.7777777777777778,
              "#fb9f3a"
             ],
             [
              0.8888888888888888,
              "#fdca26"
             ],
             [
              1,
              "#f0f921"
             ]
            ],
            "type": "histogram2d"
           }
          ],
          "histogram2dcontour": [
           {
            "colorbar": {
             "outlinewidth": 0,
             "ticks": ""
            },
            "colorscale": [
             [
              0,
              "#0d0887"
             ],
             [
              0.1111111111111111,
              "#46039f"
             ],
             [
              0.2222222222222222,
              "#7201a8"
             ],
             [
              0.3333333333333333,
              "#9c179e"
             ],
             [
              0.4444444444444444,
              "#bd3786"
             ],
             [
              0.5555555555555556,
              "#d8576b"
             ],
             [
              0.6666666666666666,
              "#ed7953"
             ],
             [
              0.7777777777777778,
              "#fb9f3a"
             ],
             [
              0.8888888888888888,
              "#fdca26"
             ],
             [
              1,
              "#f0f921"
             ]
            ],
            "type": "histogram2dcontour"
           }
          ],
          "mesh3d": [
           {
            "colorbar": {
             "outlinewidth": 0,
             "ticks": ""
            },
            "type": "mesh3d"
           }
          ],
          "parcoords": [
           {
            "line": {
             "colorbar": {
              "outlinewidth": 0,
              "ticks": ""
             }
            },
            "type": "parcoords"
           }
          ],
          "pie": [
           {
            "automargin": true,
            "type": "pie"
           }
          ],
          "scatter": [
           {
            "fillpattern": {
             "fillmode": "overlay",
             "size": 10,
             "solidity": 0.2
            },
            "type": "scatter"
           }
          ],
          "scatter3d": [
           {
            "line": {
             "colorbar": {
              "outlinewidth": 0,
              "ticks": ""
             }
            },
            "marker": {
             "colorbar": {
              "outlinewidth": 0,
              "ticks": ""
             }
            },
            "type": "scatter3d"
           }
          ],
          "scattercarpet": [
           {
            "marker": {
             "colorbar": {
              "outlinewidth": 0,
              "ticks": ""
             }
            },
            "type": "scattercarpet"
           }
          ],
          "scattergeo": [
           {
            "marker": {
             "colorbar": {
              "outlinewidth": 0,
              "ticks": ""
             }
            },
            "type": "scattergeo"
           }
          ],
          "scattergl": [
           {
            "marker": {
             "colorbar": {
              "outlinewidth": 0,
              "ticks": ""
             }
            },
            "type": "scattergl"
           }
          ],
          "scattermapbox": [
           {
            "marker": {
             "colorbar": {
              "outlinewidth": 0,
              "ticks": ""
             }
            },
            "type": "scattermapbox"
           }
          ],
          "scatterpolar": [
           {
            "marker": {
             "colorbar": {
              "outlinewidth": 0,
              "ticks": ""
             }
            },
            "type": "scatterpolar"
           }
          ],
          "scatterpolargl": [
           {
            "marker": {
             "colorbar": {
              "outlinewidth": 0,
              "ticks": ""
             }
            },
            "type": "scatterpolargl"
           }
          ],
          "scatterternary": [
           {
            "marker": {
             "colorbar": {
              "outlinewidth": 0,
              "ticks": ""
             }
            },
            "type": "scatterternary"
           }
          ],
          "surface": [
           {
            "colorbar": {
             "outlinewidth": 0,
             "ticks": ""
            },
            "colorscale": [
             [
              0,
              "#0d0887"
             ],
             [
              0.1111111111111111,
              "#46039f"
             ],
             [
              0.2222222222222222,
              "#7201a8"
             ],
             [
              0.3333333333333333,
              "#9c179e"
             ],
             [
              0.4444444444444444,
              "#bd3786"
             ],
             [
              0.5555555555555556,
              "#d8576b"
             ],
             [
              0.6666666666666666,
              "#ed7953"
             ],
             [
              0.7777777777777778,
              "#fb9f3a"
             ],
             [
              0.8888888888888888,
              "#fdca26"
             ],
             [
              1,
              "#f0f921"
             ]
            ],
            "type": "surface"
           }
          ],
          "table": [
           {
            "cells": {
             "fill": {
              "color": "#EBF0F8"
             },
             "line": {
              "color": "white"
             }
            },
            "header": {
             "fill": {
              "color": "#C8D4E3"
             },
             "line": {
              "color": "white"
             }
            },
            "type": "table"
           }
          ]
         },
         "layout": {
          "annotationdefaults": {
           "arrowcolor": "#2a3f5f",
           "arrowhead": 0,
           "arrowwidth": 1
          },
          "autotypenumbers": "strict",
          "coloraxis": {
           "colorbar": {
            "outlinewidth": 0,
            "ticks": ""
           }
          },
          "colorscale": {
           "diverging": [
            [
             0,
             "#8e0152"
            ],
            [
             0.1,
             "#c51b7d"
            ],
            [
             0.2,
             "#de77ae"
            ],
            [
             0.3,
             "#f1b6da"
            ],
            [
             0.4,
             "#fde0ef"
            ],
            [
             0.5,
             "#f7f7f7"
            ],
            [
             0.6,
             "#e6f5d0"
            ],
            [
             0.7,
             "#b8e186"
            ],
            [
             0.8,
             "#7fbc41"
            ],
            [
             0.9,
             "#4d9221"
            ],
            [
             1,
             "#276419"
            ]
           ],
           "sequential": [
            [
             0,
             "#0d0887"
            ],
            [
             0.1111111111111111,
             "#46039f"
            ],
            [
             0.2222222222222222,
             "#7201a8"
            ],
            [
             0.3333333333333333,
             "#9c179e"
            ],
            [
             0.4444444444444444,
             "#bd3786"
            ],
            [
             0.5555555555555556,
             "#d8576b"
            ],
            [
             0.6666666666666666,
             "#ed7953"
            ],
            [
             0.7777777777777778,
             "#fb9f3a"
            ],
            [
             0.8888888888888888,
             "#fdca26"
            ],
            [
             1,
             "#f0f921"
            ]
           ],
           "sequentialminus": [
            [
             0,
             "#0d0887"
            ],
            [
             0.1111111111111111,
             "#46039f"
            ],
            [
             0.2222222222222222,
             "#7201a8"
            ],
            [
             0.3333333333333333,
             "#9c179e"
            ],
            [
             0.4444444444444444,
             "#bd3786"
            ],
            [
             0.5555555555555556,
             "#d8576b"
            ],
            [
             0.6666666666666666,
             "#ed7953"
            ],
            [
             0.7777777777777778,
             "#fb9f3a"
            ],
            [
             0.8888888888888888,
             "#fdca26"
            ],
            [
             1,
             "#f0f921"
            ]
           ]
          },
          "colorway": [
           "#636efa",
           "#EF553B",
           "#00cc96",
           "#ab63fa",
           "#FFA15A",
           "#19d3f3",
           "#FF6692",
           "#B6E880",
           "#FF97FF",
           "#FECB52"
          ],
          "font": {
           "color": "#2a3f5f"
          },
          "geo": {
           "bgcolor": "white",
           "lakecolor": "white",
           "landcolor": "#E5ECF6",
           "showlakes": true,
           "showland": true,
           "subunitcolor": "white"
          },
          "hoverlabel": {
           "align": "left"
          },
          "hovermode": "closest",
          "mapbox": {
           "style": "light"
          },
          "paper_bgcolor": "white",
          "plot_bgcolor": "#E5ECF6",
          "polar": {
           "angularaxis": {
            "gridcolor": "white",
            "linecolor": "white",
            "ticks": ""
           },
           "bgcolor": "#E5ECF6",
           "radialaxis": {
            "gridcolor": "white",
            "linecolor": "white",
            "ticks": ""
           }
          },
          "scene": {
           "xaxis": {
            "backgroundcolor": "#E5ECF6",
            "gridcolor": "white",
            "gridwidth": 2,
            "linecolor": "white",
            "showbackground": true,
            "ticks": "",
            "zerolinecolor": "white"
           },
           "yaxis": {
            "backgroundcolor": "#E5ECF6",
            "gridcolor": "white",
            "gridwidth": 2,
            "linecolor": "white",
            "showbackground": true,
            "ticks": "",
            "zerolinecolor": "white"
           },
           "zaxis": {
            "backgroundcolor": "#E5ECF6",
            "gridcolor": "white",
            "gridwidth": 2,
            "linecolor": "white",
            "showbackground": true,
            "ticks": "",
            "zerolinecolor": "white"
           }
          },
          "shapedefaults": {
           "line": {
            "color": "#2a3f5f"
           }
          },
          "ternary": {
           "aaxis": {
            "gridcolor": "white",
            "linecolor": "white",
            "ticks": ""
           },
           "baxis": {
            "gridcolor": "white",
            "linecolor": "white",
            "ticks": ""
           },
           "bgcolor": "#E5ECF6",
           "caxis": {
            "gridcolor": "white",
            "linecolor": "white",
            "ticks": ""
           }
          },
          "title": {
           "x": 0.05
          },
          "xaxis": {
           "automargin": true,
           "gridcolor": "white",
           "linecolor": "white",
           "ticks": "",
           "title": {
            "standoff": 15
           },
           "zerolinecolor": "white",
           "zerolinewidth": 2
          },
          "yaxis": {
           "automargin": true,
           "gridcolor": "white",
           "linecolor": "white",
           "ticks": "",
           "title": {
            "standoff": 15
           },
           "zerolinecolor": "white",
           "zerolinewidth": 2
          }
         }
        },
        "title": {
         "text": "<b>Share of clicks, conversions and revenue and % of cumulative cost vs frequency bands</b>"
        },
        "xaxis": {
         "anchor": "y",
         "domain": [
          0,
          0.94
         ],
         "tickmode": "array",
         "title": {
          "text": "<b>Frequency</b>"
         }
        },
        "yaxis": {
         "anchor": "x",
         "domain": [
          0,
          1
         ],
         "ticksuffix": "%",
         "title": {
          "text": "<b>Percentage</b>"
         }
        },
        "yaxis2": {
         "anchor": "x",
         "overlaying": "y",
         "side": "right",
         "ticksuffix": "%",
         "title": {
          "text": "<b>Cost</b>"
         }
        }
       }
      }
     },
     "metadata": {},
     "output_type": "display_data"
    }
   ],
   "source": [
    "fig = make_subplots(specs=[[{\"secondary_y\": True}]])\n",
    "\n",
    "fig.add_trace(go.Bar(x=df_an.frequency_range,\n",
    "                     y=df_an[\"reach\"]/df_an[\"cumsum_reach\"].max()*100,\n",
    "                     name=\"% Reach\", marker_color='#ff007f'), \n",
    "                     secondary_y=False)\n",
    "\n",
    "fig.add_trace(go.Bar(x=df_an.frequency_range,\n",
    "                     y=df_an[\"total_conversions\"]/df_an[\"cumsum_total_conversions\"].max()*100,\n",
    "                     name=\"% Conversions\", marker_color='#005daa'),\n",
    "                     secondary_y=False,)\n",
    "\n",
    "fig.add_trace(go.Bar(x=df_an.frequency_range,\n",
    "                     y=df_an[\"total_revenue\"]/df_an[\"cumsum_total_revenue\"].max()*100,\n",
    "                     name=\"% Revenue\", marker_color='#a87532'),\n",
    "                     secondary_y=False,)\n",
    "\n",
    "fig.add_trace(go.Scatter(x=df_an.frequency_range, \n",
    "                         y=df_an.cumsum_total_cost/df_an.cumsum_total_cost.max()*100,\n",
    "                         mode='lines+markers',\n",
    "                         name='% of Total cost', marker_color='#415a6c'),\n",
    "                         secondary_y=True,)\n",
    "\n",
    "\n",
    "fig.update_layout(\n",
    "    title='<b>Share of clicks, conversions and revenue and % of cumulative cost vs frequency bands</b>',\n",
    "    #template=\"plotly_dark\",\n",
    "    xaxis = dict(\n",
    "        tickmode = 'array',\n",
    "        ),\n",
    "    xaxis_title=\"<b>Frequency</b>\",\n",
    "    #xaxis_range=[0,10]    \n",
    ")\n",
    "\n",
    "\n",
    "fig.update_layout(legend=dict(\n",
    "    orientation=\"h\",\n",
    "    yanchor=\"bottom\",\n",
    "    y=1,\n",
    "    xanchor=\"left\",\n",
    "    x=0\n",
    "))\n",
    "\n",
    "# Set y-axes titles\n",
    "fig.update_yaxes(title_text=\"<b>Percentage</b>\", ticksuffix = \"%\", secondary_y=False)\n",
    "fig.update_yaxes(title_text=\"<b>Cost</b>\", ticksuffix = \"%\", secondary_y=True)"
   ]
  },
  {
   "cell_type": "markdown",
   "id": "b759a8d3",
   "metadata": {},
   "source": [
    "#### Tables - Frequency bands 5-10-15-20"
   ]
  },
  {
   "cell_type": "code",
   "execution_count": 35,
   "id": "53aca19c",
   "metadata": {},
   "outputs": [],
   "source": [
    "df_an = df[['frequency', 'reach','total_impressions', 'total_clicks', 'total_conversions','total_revenue', 'total_cost']]\n",
    "df_an = df_an[df_an.frequency > 0]\n",
    "\n",
    "# Upper limit of each group\n",
    "upper_limits = list(range(5,df.frequency.max(),5))\n",
    "\n",
    "# Create a column called 'frequency_range' to group frequencies based on limits and one numerical column to sort values\n",
    "df_an.loc[df_an['frequency']<=upper_limits[0],'frequency_range'] = f'1 - {upper_limits[0]}'\n",
    "df_an.loc[df_an['frequency']<=upper_limits[0],'order'] = 0\n",
    "for index,value in enumerate(upper_limits[:-1]):\n",
    "    df_an.loc[(df_an['frequency']>upper_limits[index])&(df_an['frequency']<=upper_limits[index+1]),'frequency_range'] = f'{upper_limits[index]+1} - {upper_limits[index+1]}'\n",
    "    df_an.loc[(df_an['frequency']>upper_limits[index])&(df_an['frequency']<=upper_limits[index+1]),'order'] = index+1\n",
    "df_an.loc[df_an['frequency']>upper_limits[-1],'frequency_range'] = f'>{upper_limits[-1]}'\n",
    "df_an.loc[df_an['frequency']>upper_limits[-1],'order'] = len(upper_limits)+1\n",
    "# display updated DataFrame\n",
    "#df_an = df_an[['frequency', 'reach','total_impressions', 'total_clicks', 'total_conversions','total_revenue', 'total_cost']].groupby(by='frequency_range').sum()\n",
    "df_an = df_an.groupby(by=['order','frequency_range']).sum().reset_index()[['frequency_range','reach','total_impressions', 'total_clicks', 'total_conversions','total_revenue', 'total_cost']]\n",
    "\n",
    "# Calculate cumulative variables\n",
    "dimensions = [  \n",
    "            'reach',\n",
    "            'total_impressions',\n",
    "            'total_clicks',\n",
    "            'total_conversions',\n",
    "            'total_revenue',\n",
    "            'total_cost'\n",
    "            ]\n",
    "# For that dimension calculate cumsum and add it as a new column to the dataframe\n",
    "for column in dimensions:\n",
    "    df_an['cumsum_'+column] = df_an[column].cumsum()\n",
    "\n",
    "# Calculate ROAS and CPA\n",
    "df_an['CPA'] = df_an.cumsum_total_cost/ df_an.cumsum_total_conversions\n",
    "df_an['ROAS'] = df_an.cumsum_total_revenue / df_an.cumsum_total_cost\n",
    "\n",
    "df_cumsum = df_an[['frequency_range','cumsum_reach','cumsum_total_impressions', 'cumsum_total_clicks','cumsum_total_conversions', 'cumsum_total_revenue','cumsum_total_cost','CPA','ROAS']]\n",
    "df_cumsum.to_clipboard()"
   ]
  },
  {
   "cell_type": "code",
   "execution_count": 36,
   "id": "dc8ad078",
   "metadata": {},
   "outputs": [],
   "source": [
    "df_cumsum2 = df_cumsum.copy(deep=True)\n",
    "df_cumsum2[['cumsum_reach','cumsum_total_impressions', 'cumsum_total_clicks','cumsum_total_conversions', 'cumsum_total_revenue','cumsum_total_cost']] = df_cumsum2[['cumsum_reach','cumsum_total_impressions', 'cumsum_total_clicks','cumsum_total_conversions', 'cumsum_total_revenue','cumsum_total_cost']].apply(lambda x:100*x/max(x))\n",
    "df_cumsum2.to_clipboard()"
   ]
  }
 ],
 "metadata": {
  "environment": {
   "kernel": "python3",
   "name": "common-cpu.m87",
   "type": "gcloud",
   "uri": "gcr.io/deeplearning-platform-release/base-cpu:m87"
  },
  "kernelspec": {
   "display_name": "Python 3.7.9 ('venv-norton': venv)",
   "language": "python",
   "name": "python3"
  },
  "language_info": {
   "codemirror_mode": {
    "name": "ipython",
    "version": 3
   },
   "file_extension": ".py",
   "mimetype": "text/x-python",
   "name": "python",
   "nbconvert_exporter": "python",
   "pygments_lexer": "ipython3",
   "version": "3.7.9"
  },
  "vscode": {
   "interpreter": {
    "hash": "2137fe5158ca5b452ccb8636bd98a7510c387daf9a007c082d95bcbe4806bfe7"
   }
  }
 },
 "nbformat": 4,
 "nbformat_minor": 5
}
